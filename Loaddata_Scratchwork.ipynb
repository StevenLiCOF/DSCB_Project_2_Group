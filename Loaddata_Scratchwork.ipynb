{
 "cells": [
  {
   "cell_type": "code",
   "execution_count": 40,
   "metadata": {
    "collapsed": false
   },
   "outputs": [
    {
     "name": "stdout",
     "output_type": "stream",
     "text": [
      "Parsed 3728 movies from 3728 files\n",
      "Parsed 4767 movies from 4767 files\n",
      "3728\n",
      "4767\n",
      "{u'alt_title': u'102 Dalmatians (2000)',\n",
      " u'director': None,\n",
      " u'domestic_gross': 66957026,\n",
      " u'mojo_slug': u'102dalmatians',\n",
      " u'opening_per_theater': 7353,\n",
      " u'opening_weekend_take': 19883351,\n",
      " u'production_budget': 85000000,\n",
      " u'release_date_limited': None,\n",
      " u'release_date_wide': u'2000-11-22',\n",
      " u'title': u'102 Dalmatians ',\n",
      " u'widest_release': 2704,\n",
      " u'worldwide_gross': 183611771,\n",
      " u'year': 2000}\n",
      "{u'complete': True,\n",
      " u'director': u'Jamie Linden',\n",
      " u'genre': [u'Drama', u'Comedy', u'Romance'],\n",
      " u'metacritic_page': u'/movie/10-years',\n",
      " u'metascore': 61,\n",
      " u'num_critic_reviews': [7, 11, 0, 18],\n",
      " u'num_user_ratings': 12,\n",
      " u'num_user_reviews': [3, 2, 1, 6],\n",
      " u'rating': u'R',\n",
      " u'release_date': u'2012-09-14',\n",
      " u'runtime_minutes': 100,\n",
      " u'studio': u'Anchor Bay Entertainment',\n",
      " u'title': u'10 Years',\n",
      " u'user_score': 6.6,\n",
      " u'year': 2012}\n"
     ]
    }
   ],
   "source": [
    "import os\n",
    "import json\n",
    "from pprint import pprint\n",
    "\n",
    "MOJO_DIR = os.path.join('project_1', 'data','boxofficemojo') \n",
    "META_DIR = os.path.join('project_1', 'data','metacritic') \n",
    "import project_1.loaddata\n",
    "mojomovies=project_1.loaddata.get_movies(DATA_DIR)\n",
    "metacriticmovies=project_1.loaddata.get_movies(META_DIR)\n",
    "print len(mojomovies)\n",
    "print len(metacriticmovies)\n",
    "pprint(mojomovies[1])\n",
    "pprint(metacriticmovies[1])"
   ]
  },
  {
   "cell_type": "code",
   "execution_count": 41,
   "metadata": {
    "collapsed": false
   },
   "outputs": [
    {
     "name": "stdout",
     "output_type": "stream",
     "text": [
      "[{u'alt_title': u'10,000 B.C. (2008)',\n",
      "  u'director': u'Roland Emmerich',\n",
      "  u'domestic_gross': 94784201,\n",
      "  u'mojo_slug': u'10000bc',\n",
      "  u'opening_per_theater': 10518,\n",
      "  u'opening_weekend_take': 35867488,\n",
      "  u'production_budget': 105000000,\n",
      "  u'release_date_limited': None,\n",
      "  u'release_date_wide': u'2008-03-07',\n",
      "  u'title': u'10,000 B.C.',\n",
      "  u'widest_release': 3454,\n",
      "  u'worldwide_gross': 269784201,\n",
      "  u'year': 2008},\n",
      " {u'alt_title': u'102 Dalmatians (2000)',\n",
      "  u'director': None,\n",
      "  u'domestic_gross': 66957026,\n",
      "  u'mojo_slug': u'102dalmatians',\n",
      "  u'opening_per_theater': 7353,\n",
      "  u'opening_weekend_take': 19883351,\n",
      "  u'production_budget': 85000000,\n",
      "  u'release_date_limited': None,\n",
      "  u'release_date_wide': u'2000-11-22',\n",
      "  u'title': u'102 Dalmatians ',\n",
      "  u'widest_release': 2704,\n",
      "  u'worldwide_gross': 183611771,\n",
      "  u'year': 2000},\n",
      " {u'alt_title': u'10 Things I Hate About You (1999)',\n",
      "  u'director': None,\n",
      "  u'domestic_gross': 38178166,\n",
      "  u'mojo_slug': u'10thingsihateaboutyou',\n",
      "  u'opening_per_theater': 3668,\n",
      "  u'opening_weekend_take': 8330681,\n",
      "  u'production_budget': 30000000,\n",
      "  u'release_date_limited': None,\n",
      "  u'release_date_wide': u'1999-03-31',\n",
      "  u'title': u'10 Things I Hate About You',\n",
      "  u'widest_release': 2311,\n",
      "  u'worldwide_gross': 53478166,\n",
      "  u'year': 1999},\n",
      " {u'alt_title': u'10 Years (2012)',\n",
      "  u'director': u'Jamie Linden',\n",
      "  u'domestic_gross': 203373,\n",
      "  u'mojo_slug': u'10years',\n",
      "  u'opening_per_theater': 7569,\n",
      "  u'opening_weekend_take': 22707,\n",
      "  u'production_budget': None,\n",
      "  u'release_date_limited': None,\n",
      "  u'release_date_wide': u'2012-09-14',\n",
      "  u'title': u'10 Years',\n",
      "  u'widest_release': 63,\n",
      "  u'worldwide_gross': 203373,\n",
      "  u'year': 2012}]\n"
     ]
    }
   ],
   "source": [
    "pprint(mojomovies[:4])"
   ]
  },
  {
   "cell_type": "code",
   "execution_count": 19,
   "metadata": {
    "collapsed": true
   },
   "outputs": [],
   "source": [
    "import datetime\n",
    "\n",
    "def convert_date(field):\n",
    "    year=int(field[:4])\n",
    "    month=int(field[5:7])\n",
    "    day=int(field[8:10])\n",
    "    formatteddate=datetime.date(year,month,day)\n",
    "    return formatteddate\n",
    "\n",
    "def merge_lists(l1, l2, key):\n",
    "    merged = {}\n",
    "    for item in l1+l2:\n",
    "        if item[key] in merged:\n",
    "            merged[item[key]].update(item)\n",
    "        else:\n",
    "            merged[item[key]] = item\n",
    "    return [val for (_, val) in merged.items()]"
   ]
  },
  {
   "cell_type": "code",
   "execution_count": 53,
   "metadata": {
    "collapsed": false
   },
   "outputs": [],
   "source": [
    "for movie in mojomovies:\n",
    "    if movie['release_date_limited']:\n",
    "        movie['release_date_limited']=datetime.strptime(movie['release_date_limited'],'%Y-%m-%d').date()\n",
    "    if movie['release_date_wide']:\n",
    "        movie['release_date_wide']=datetime.strptime(movie['release_date_wide'],'%Y-%m-%d').date()"
   ]
  },
  {
   "cell_type": "code",
   "execution_count": 50,
   "metadata": {
    "collapsed": false
   },
   "outputs": [
    {
     "data": {
      "text/plain": [
       "datetime.date(2000, 11, 22)"
      ]
     },
     "execution_count": 50,
     "metadata": {},
     "output_type": "execute_result"
    }
   ],
   "source": [
    "from datetime import datetime\n",
    "datetime.strptime(mojomovies[1]['release_date_wide'], '%Y-%m-%d').date()"
   ]
  },
  {
   "cell_type": "code",
   "execution_count": 54,
   "metadata": {
    "collapsed": false
   },
   "outputs": [
    {
     "name": "stdout",
     "output_type": "stream",
     "text": [
      "[{u'alt_title': u'10,000 B.C. (2008)',\n",
      "  u'director': u'Roland Emmerich',\n",
      "  u'domestic_gross': 94784201,\n",
      "  u'mojo_slug': u'10000bc',\n",
      "  u'opening_per_theater': 10518,\n",
      "  u'opening_weekend_take': 35867488,\n",
      "  u'production_budget': 105000000,\n",
      "  u'release_date_limited': None,\n",
      "  u'release_date_wide': datetime.date(2008, 3, 7),\n",
      "  u'title': u'10,000 B.C.',\n",
      "  u'widest_release': 3454,\n",
      "  u'worldwide_gross': 269784201,\n",
      "  u'year': 2008},\n",
      " {u'alt_title': u'102 Dalmatians (2000)',\n",
      "  u'director': None,\n",
      "  u'domestic_gross': 66957026,\n",
      "  u'mojo_slug': u'102dalmatians',\n",
      "  u'opening_per_theater': 7353,\n",
      "  u'opening_weekend_take': 19883351,\n",
      "  u'production_budget': 85000000,\n",
      "  u'release_date_limited': None,\n",
      "  u'release_date_wide': datetime.date(2000, 11, 22),\n",
      "  u'title': u'102 Dalmatians ',\n",
      "  u'widest_release': 2704,\n",
      "  u'worldwide_gross': 183611771,\n",
      "  u'year': 2000},\n",
      " {u'alt_title': u'10 Things I Hate About You (1999)',\n",
      "  u'director': None,\n",
      "  u'domestic_gross': 38178166,\n",
      "  u'mojo_slug': u'10thingsihateaboutyou',\n",
      "  u'opening_per_theater': 3668,\n",
      "  u'opening_weekend_take': 8330681,\n",
      "  u'production_budget': 30000000,\n",
      "  u'release_date_limited': None,\n",
      "  u'release_date_wide': datetime.date(1999, 3, 31),\n",
      "  u'title': u'10 Things I Hate About You',\n",
      "  u'widest_release': 2311,\n",
      "  u'worldwide_gross': 53478166,\n",
      "  u'year': 1999},\n",
      " {u'alt_title': u'10 Years (2012)',\n",
      "  u'director': u'Jamie Linden',\n",
      "  u'domestic_gross': 203373,\n",
      "  u'mojo_slug': u'10years',\n",
      "  u'opening_per_theater': 7569,\n",
      "  u'opening_weekend_take': 22707,\n",
      "  u'production_budget': None,\n",
      "  u'release_date_limited': None,\n",
      "  u'release_date_wide': datetime.date(2012, 9, 14),\n",
      "  u'title': u'10 Years',\n",
      "  u'widest_release': 63,\n",
      "  u'worldwide_gross': 203373,\n",
      "  u'year': 2012}]\n"
     ]
    }
   ],
   "source": [
    "pprint(mojomovies[:4])"
   ]
  },
  {
   "cell_type": "code",
   "execution_count": 9,
   "metadata": {
    "collapsed": false
   },
   "outputs": [
    {
     "name": "stdout",
     "output_type": "stream",
     "text": [
      "{u'alt_title': u'102 Dalmatians (2000)',\n",
      " u'director': None,\n",
      " u'domestic_gross': 66957026,\n",
      " u'mojo_slug': u'102dalmatians',\n",
      " u'opening_per_theater': 7353,\n",
      " u'opening_weekend_take': 19883351,\n",
      " u'production_budget': 85000000,\n",
      " u'release_date_limited': None,\n",
      " u'release_date_wide': datetime.date(2000, 11, 22),\n",
      " u'title': u'102 Dalmatians ',\n",
      " u'widest_release': 2704,\n",
      " u'worldwide_gross': 183611771,\n",
      " u'year': 2000}\n"
     ]
    }
   ],
   "source": [
    "pprint(mojomovies[1])"
   ]
  },
  {
   "cell_type": "code",
   "execution_count": 57,
   "metadata": {
    "collapsed": false
   },
   "outputs": [
    {
     "ename": "KeyError",
     "evalue": "'title'",
     "output_type": "error",
     "traceback": [
      "\u001b[1;31m---------------------------------------------------------------------------\u001b[0m",
      "\u001b[1;31mKeyError\u001b[0m                                  Traceback (most recent call last)",
      "\u001b[1;32m<ipython-input-57-36938751c0f3>\u001b[0m in \u001b[0;36m<module>\u001b[1;34m()\u001b[0m\n\u001b[0;32m      2\u001b[0m \u001b[1;32mfor\u001b[0m \u001b[0mmojomovie\u001b[0m \u001b[1;32min\u001b[0m \u001b[0mmojomovies\u001b[0m\u001b[1;33m:\u001b[0m\u001b[1;33m\u001b[0m\u001b[0m\n\u001b[0;32m      3\u001b[0m     \u001b[1;32mfor\u001b[0m \u001b[0mmetamovie\u001b[0m \u001b[1;32min\u001b[0m \u001b[0mmetacriticmovies\u001b[0m\u001b[1;33m:\u001b[0m\u001b[1;33m\u001b[0m\u001b[0m\n\u001b[1;32m----> 4\u001b[1;33m         \u001b[1;32mif\u001b[0m \u001b[0mmojomovie\u001b[0m\u001b[1;33m[\u001b[0m\u001b[1;34m'title'\u001b[0m\u001b[1;33m]\u001b[0m \u001b[1;33m==\u001b[0m \u001b[0mmetamovie\u001b[0m\u001b[1;33m[\u001b[0m\u001b[1;34m'title'\u001b[0m\u001b[1;33m]\u001b[0m\u001b[1;33m:\u001b[0m\u001b[1;33m\u001b[0m\u001b[0m\n\u001b[0m\u001b[0;32m      5\u001b[0m             \u001b[0mentry\u001b[0m\u001b[1;33m=\u001b[0m\u001b[0mmojomovie\u001b[0m\u001b[1;33m\u001b[0m\u001b[0m\n\u001b[0;32m      6\u001b[0m             \u001b[0mentry\u001b[0m\u001b[1;33m.\u001b[0m\u001b[0mupdate\u001b[0m\u001b[1;33m(\u001b[0m\u001b[0mmetamovie\u001b[0m\u001b[1;33m)\u001b[0m\u001b[1;33m\u001b[0m\u001b[0m\n",
      "\u001b[1;31mKeyError\u001b[0m: 'title'"
     ]
    }
   ],
   "source": [
    "output_dict={}\n",
    "for mojomovie in mojomovies:\n",
    "    for metamovie in metacriticmovies:\n",
    "        if mojomovie['title'] == metamovie['title']:\n",
    "            entry=mojomovie\n",
    "            entry.update(metamovie)\n",
    "            output_dict.append(entry)"
   ]
  },
  {
   "cell_type": "code",
   "execution_count": 60,
   "metadata": {
    "collapsed": false
   },
   "outputs": [
    {
     "data": {
      "text/plain": [
       "u'10 Things I Hate About You'"
      ]
     },
     "execution_count": 60,
     "metadata": {},
     "output_type": "execute_result"
    }
   ],
   "source": [
    "metacriticmovies[0]['title']"
   ]
  },
  {
   "cell_type": "markdown",
   "metadata": {},
   "source": [
    "###Giving up on joining the two dictionaries. Converting to dataframes."
   ]
  },
  {
   "cell_type": "code",
   "execution_count": null,
   "metadata": {
    "collapsed": true
   },
   "outputs": [],
   "source": []
  }
 ],
 "metadata": {
  "kernelspec": {
   "display_name": "Python 2",
   "language": "python",
   "name": "python2"
  },
  "language_info": {
   "codemirror_mode": {
    "name": "ipython",
    "version": 2
   },
   "file_extension": ".py",
   "mimetype": "text/x-python",
   "name": "python",
   "nbconvert_exporter": "python",
   "pygments_lexer": "ipython2",
   "version": "2.7.6"
  }
 },
 "nbformat": 4,
 "nbformat_minor": 0
}
