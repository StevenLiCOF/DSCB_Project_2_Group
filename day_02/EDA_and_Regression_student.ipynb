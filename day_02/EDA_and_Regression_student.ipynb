{
 "cells": [
  {
   "cell_type": "markdown",
   "metadata": {},
   "source": [
    "# Read the Data"
   ]
  },
  {
   "cell_type": "code",
<<<<<<< HEAD:EDA_and_Regression_student.ipynb
<<<<<<< HEAD
   "execution_count": 9,
=======
   "execution_count": 7,
>>>>>>> 5a3707b4fb391782116a16bef20b4e8d1528d284
=======
   "execution_count": 2,
>>>>>>> 5241ee579d16c6a9d6e315add7657cdd48169da0:day_02/EDA_and_Regression_student.ipynb
   "metadata": {
    "collapsed": false
   },
   "outputs": [
    {
     "name": "stdout",
     "output_type": "stream",
     "text": [
      "Parsed 3728 movies from 3728 files\n",
      "3728\n",
      "[{u'alt_title': u'10,000 B.C. (2008)',\n",
      "  u'director': u'Roland Emmerich',\n",
      "  u'domestic_gross': 94784201,\n",
      "  u'mojo_slug': u'10000bc',\n",
      "  u'opening_per_theater': 10518,\n",
      "  u'opening_weekend_take': 35867488,\n",
      "  u'production_budget': 105000000,\n",
      "  u'release_date_limited': None,\n",
      "  u'release_date_wide': u'2008-03-07',\n",
      "  u'title': u'10,000 B.C.',\n",
      "  u'widest_release': 3454,\n",
      "  u'worldwide_gross': 269784201,\n",
      "  u'year': 2008},\n",
      " {u'alt_title': u'102 Dalmatians (2000)',\n",
      "  u'director': None,\n",
      "  u'domestic_gross': 66957026,\n",
      "  u'mojo_slug': u'102dalmatians',\n",
      "  u'opening_per_theater': 7353,\n",
      "  u'opening_weekend_take': 19883351,\n",
      "  u'production_budget': 85000000,\n",
      "  u'release_date_limited': None,\n",
      "  u'release_date_wide': u'2000-11-22',\n",
      "  u'title': u'102 Dalmatians ',\n",
      "  u'widest_release': 2704,\n",
      "  u'worldwide_gross': 183611771,\n",
      "  u'year': 2000},\n",
      " {u'alt_title': u'10 Things I Hate About You (1999)',\n",
      "  u'director': None,\n",
      "  u'domestic_gross': 38178166,\n",
      "  u'mojo_slug': u'10thingsihateaboutyou',\n",
      "  u'opening_per_theater': 3668,\n",
      "  u'opening_weekend_take': 8330681,\n",
      "  u'production_budget': 30000000,\n",
      "  u'release_date_limited': None,\n",
      "  u'release_date_wide': u'1999-03-31',\n",
      "  u'title': u'10 Things I Hate About You',\n",
      "  u'widest_release': 2311,\n",
      "  u'worldwide_gross': 53478166,\n",
      "  u'year': 1999}]\n"
     ]
    }
   ],
   "source": [
    "import os\n",
    "import json\n",
    "from pprint import pprint\n",
    "\n",
<<<<<<< HEAD:EDA_and_Regression_student.ipynb
<<<<<<< HEAD
    "# READ THE DATA\n",
    "DATA_DIR = os.path.join('project_1', 'data','boxofficemojo') \n",
    "#print DATA_DIR\n",
    "#movies = []\n",
    "#for movie_file_name in os.listdir(DATA_DIR):\n",
    "#    movie_path = os.path.join(DATA_DIR, movie_file_name)\n",
    "#    with open(movie_path, 'r') as infile:\n",
    "#        movies.append(json.load(infile))\n",
    "\n",
    "import project_1.loaddata\n",
    "movies=project_1.loaddata.get_movies(DATA_DIR)\n",
=======
    "### READ THE DATA\n",
    "DATA_DIR = os.path.join('project_1', 'data','boxofficemojo') \n",
    "movies = []\n",
    "for movie_file_name in os.listdir(DATA_DIR):\n",
    "    movie_path = os.path.join(DATA_DIR, movie_file_name)\n",
    "    with open(movie_path, 'r') as infile:\n",
    "        movies.append(json.load(infile))\n",
>>>>>>> 5a3707b4fb391782116a16bef20b4e8d1528d284
=======
>>>>>>> 5241ee579d16c6a9d6e315add7657cdd48169da0:day_02/EDA_and_Regression_student.ipynb
    "\n",
    "import sys\n",
    "sys.path.append('..')\n",
    "import project_1.loaddata\n",
    "movies = project_1.loaddata.get_boxofficemojo_movies()\n",
    "\n",
    "\n",
    "print len(movies)\n",
    "pprint(movies[:3])"
   ]
  },
  {
   "cell_type": "markdown",
   "metadata": {},
   "source": [
    "# Exploratory Data Analysis (EDA)\n",
    "\n",
    "### What years are the movies from?"
   ]
  },
  {
   "cell_type": "code",
<<<<<<< HEAD
   "execution_count": 56,
=======
   "execution_count": 14,
>>>>>>> 5a3707b4fb391782116a16bef20b4e8d1528d284
   "metadata": {
    "collapsed": false
   },
   "outputs": [
    {
     "name": "stdout",
     "output_type": "stream",
     "text": [
      "[(2013, 308), (2014, 280), (2011, 264), (2012, 257), (2010, 209)]\n",
      "{None: 7,\n",
      " 1933: 1,\n",
      " 1936: 1,\n",
      " 1937: 1,\n",
      " 1940: 1,\n",
      " 1946: 1,\n",
      " 1950: 1,\n",
      " 1951: 3,\n",
      " 1953: 1,\n",
      " 1956: 2,\n",
      " 1959: 1,\n",
      " 1960: 1,\n",
      " 1964: 1,\n",
      " 1967: 2,\n",
      " 1968: 2,\n",
      " 1969: 4,\n",
      " 1970: 6,\n",
      " 1971: 2,\n",
      " 1972: 4,\n",
      " 1974: 4,\n",
      " 1975: 3,\n",
      " 1976: 6,\n",
      " 1977: 4,\n",
      " 1978: 6,\n",
      " 1979: 9,\n",
      " 1980: 14,\n",
      " 1981: 12,\n",
      " 1982: 18,\n",
      " 1983: 19,\n",
      " 1984: 17,\n",
      " 1985: 13,\n",
      " 1986: 21,\n",
      " 1987: 27,\n",
      " 1988: 31,\n",
      " 1989: 29,\n",
      " 1990: 24,\n",
      " 1991: 24,\n",
      " 1992: 28,\n",
      " 1993: 39,\n",
      " 1994: 30,\n",
      " 1995: 51,\n",
      " 1996: 52,\n",
      " 1997: 74,\n",
      " 1998: 84,\n",
      " 1999: 106,\n",
      " 2000: 99,\n",
      " 2001: 108,\n",
      " 2002: 132,\n",
      " 2003: 146,\n",
      " 2004: 161,\n",
      " 2005: 164,\n",
      " 2006: 184,\n",
      " 2007: 190,\n",
      " 2008: 194,\n",
      " 2009: 192,\n",
      " 2010: 209,\n",
      " 2011: 264,\n",
      " 2012: 257,\n",
      " 2013: 308,\n",
      " 2014: 280,\n",
      " 2015: 53}\n"
     ]
    }
   ],
   "source": [
    "# A list comprehension: http://www.diveintopython.net/native_data_types/mapping_lists.html\n",
    "#years = []\n",
    "#for movie in movies:\n",
    "#    years.append(movie['year'])\n",
<<<<<<< HEAD
=======
    "\n",
>>>>>>> 5a3707b4fb391782116a16bef20b4e8d1528d284
    "years = [movie['year'] for movie in movies]\n",
    "#print years\n",
    "\n",
    "\n",
    "# https://docs.python.org/2/library/collections.html#collections.Counter\n",
<<<<<<< HEAD
    "from pprint import pprint\n",
    "from collections import Counter\n",
    "year_counter = Counter()\n",
    "for year in years:\n",
    "    year_counter[year]+=1\n",
    "print year_counter.most_common(5)\n",
=======
    "from collections import Counter\n",
    "\n",
    "year_counter = Counter()\n",
    "for year in years:\n",
    "    year_counter[year] += 1\n",
    "    \n",
    "#print year_counter\n",
    "print year_counter.most_common(5)    \n",
    "\n",
>>>>>>> 5a3707b4fb391782116a16bef20b4e8d1528d284
    "year_dict = dict(year_counter)\n",
    "pprint(year_dict)\n"
   ]
  },
  {
   "cell_type": "markdown",
   "metadata": {},
   "source": [
    "Let's check out the whole distribution"
   ]
  },
  {
   "cell_type": "code",
   "execution_count": 57,
   "metadata": {
    "collapsed": false,
    "scrolled": true
   },
   "outputs": [
    {
     "ename": "TypeError",
     "evalue": "unsupported operand type(s) for +: 'NoneType' and 'float'",
     "output_type": "error",
     "traceback": [
      "\u001b[1;31m---------------------------------------------------------------------------\u001b[0m",
      "\u001b[1;31mTypeError\u001b[0m                                 Traceback (most recent call last)",
      "\u001b[1;32m<ipython-input-57-1e8014417f3c>\u001b[0m in \u001b[0;36m<module>\u001b[1;34m()\u001b[0m\n\u001b[0;32m      3\u001b[0m \u001b[1;33m\u001b[0m\u001b[0m\n\u001b[0;32m      4\u001b[0m \u001b[0mmovie_years\u001b[0m \u001b[1;33m=\u001b[0m \u001b[1;33m[\u001b[0m\u001b[0mmovie\u001b[0m\u001b[1;33m[\u001b[0m\u001b[1;34m'year'\u001b[0m\u001b[1;33m]\u001b[0m \u001b[1;32mfor\u001b[0m \u001b[0mmovie\u001b[0m \u001b[1;32min\u001b[0m \u001b[0mmovies\u001b[0m\u001b[1;33m]\u001b[0m\u001b[1;33m\u001b[0m\u001b[0m\n\u001b[1;32m----> 5\u001b[1;33m \u001b[0mplt\u001b[0m\u001b[1;33m.\u001b[0m\u001b[0mhist\u001b[0m\u001b[1;33m(\u001b[0m\u001b[0mmovie_years\u001b[0m\u001b[1;33m)\u001b[0m\u001b[1;33m\u001b[0m\u001b[0m\n\u001b[0m",
      "\u001b[1;32mC:\\Users\\SKH469\\AppData\\Local\\Continuum\\Anaconda\\lib\\site-packages\\matplotlib\\pyplot.pyc\u001b[0m in \u001b[0;36mhist\u001b[1;34m(x, bins, range, normed, weights, cumulative, bottom, histtype, align, orientation, rwidth, log, color, label, stacked, hold, **kwargs)\u001b[0m\n\u001b[0;32m   2894\u001b[0m                       \u001b[0mhisttype\u001b[0m\u001b[1;33m=\u001b[0m\u001b[0mhisttype\u001b[0m\u001b[1;33m,\u001b[0m \u001b[0malign\u001b[0m\u001b[1;33m=\u001b[0m\u001b[0malign\u001b[0m\u001b[1;33m,\u001b[0m \u001b[0morientation\u001b[0m\u001b[1;33m=\u001b[0m\u001b[0morientation\u001b[0m\u001b[1;33m,\u001b[0m\u001b[1;33m\u001b[0m\u001b[0m\n\u001b[0;32m   2895\u001b[0m                       \u001b[0mrwidth\u001b[0m\u001b[1;33m=\u001b[0m\u001b[0mrwidth\u001b[0m\u001b[1;33m,\u001b[0m \u001b[0mlog\u001b[0m\u001b[1;33m=\u001b[0m\u001b[0mlog\u001b[0m\u001b[1;33m,\u001b[0m \u001b[0mcolor\u001b[0m\u001b[1;33m=\u001b[0m\u001b[0mcolor\u001b[0m\u001b[1;33m,\u001b[0m \u001b[0mlabel\u001b[0m\u001b[1;33m=\u001b[0m\u001b[0mlabel\u001b[0m\u001b[1;33m,\u001b[0m\u001b[1;33m\u001b[0m\u001b[0m\n\u001b[1;32m-> 2896\u001b[1;33m                       stacked=stacked, **kwargs)\n\u001b[0m\u001b[0;32m   2897\u001b[0m         \u001b[0mdraw_if_interactive\u001b[0m\u001b[1;33m(\u001b[0m\u001b[1;33m)\u001b[0m\u001b[1;33m\u001b[0m\u001b[0m\n\u001b[0;32m   2898\u001b[0m     \u001b[1;32mfinally\u001b[0m\u001b[1;33m:\u001b[0m\u001b[1;33m\u001b[0m\u001b[0m\n",
      "\u001b[1;32mC:\\Users\\SKH469\\AppData\\Local\\Continuum\\Anaconda\\lib\\site-packages\\matplotlib\\axes\\_axes.pyc\u001b[0m in \u001b[0;36mhist\u001b[1;34m(self, x, bins, range, normed, weights, cumulative, bottom, histtype, align, orientation, rwidth, log, color, label, stacked, **kwargs)\u001b[0m\n\u001b[0;32m   5676\u001b[0m             \u001b[1;31m# this will automatically overwrite bins,\u001b[0m\u001b[1;33m\u001b[0m\u001b[1;33m\u001b[0m\u001b[0m\n\u001b[0;32m   5677\u001b[0m             \u001b[1;31m# so that each histogram uses the same bins\u001b[0m\u001b[1;33m\u001b[0m\u001b[1;33m\u001b[0m\u001b[0m\n\u001b[1;32m-> 5678\u001b[1;33m             \u001b[0mm\u001b[0m\u001b[1;33m,\u001b[0m \u001b[0mbins\u001b[0m \u001b[1;33m=\u001b[0m \u001b[0mnp\u001b[0m\u001b[1;33m.\u001b[0m\u001b[0mhistogram\u001b[0m\u001b[1;33m(\u001b[0m\u001b[0mx\u001b[0m\u001b[1;33m[\u001b[0m\u001b[0mi\u001b[0m\u001b[1;33m]\u001b[0m\u001b[1;33m,\u001b[0m \u001b[0mbins\u001b[0m\u001b[1;33m,\u001b[0m \u001b[0mweights\u001b[0m\u001b[1;33m=\u001b[0m\u001b[0mw\u001b[0m\u001b[1;33m[\u001b[0m\u001b[0mi\u001b[0m\u001b[1;33m]\u001b[0m\u001b[1;33m,\u001b[0m \u001b[1;33m**\u001b[0m\u001b[0mhist_kwargs\u001b[0m\u001b[1;33m)\u001b[0m\u001b[1;33m\u001b[0m\u001b[0m\n\u001b[0m\u001b[0;32m   5679\u001b[0m             \u001b[0mm\u001b[0m \u001b[1;33m=\u001b[0m \u001b[0mm\u001b[0m\u001b[1;33m.\u001b[0m\u001b[0mastype\u001b[0m\u001b[1;33m(\u001b[0m\u001b[0mfloat\u001b[0m\u001b[1;33m)\u001b[0m  \u001b[1;31m# causes problems later if it's an int\u001b[0m\u001b[1;33m\u001b[0m\u001b[0m\n\u001b[0;32m   5680\u001b[0m             \u001b[1;32mif\u001b[0m \u001b[0mmlast\u001b[0m \u001b[1;32mis\u001b[0m \u001b[0mNone\u001b[0m\u001b[1;33m:\u001b[0m\u001b[1;33m\u001b[0m\u001b[0m\n",
      "\u001b[1;32mC:\\Users\\SKH469\\AppData\\Local\\Continuum\\Anaconda\\lib\\site-packages\\numpy\\lib\\function_base.pyc\u001b[0m in \u001b[0;36mhistogram\u001b[1;34m(a, bins, range, normed, weights, density)\u001b[0m\n\u001b[0;32m    186\u001b[0m             \u001b[1;32melse\u001b[0m\u001b[1;33m:\u001b[0m\u001b[1;33m\u001b[0m\u001b[0m\n\u001b[0;32m    187\u001b[0m                 \u001b[0mrange\u001b[0m \u001b[1;33m=\u001b[0m \u001b[1;33m(\u001b[0m\u001b[0ma\u001b[0m\u001b[1;33m.\u001b[0m\u001b[0mmin\u001b[0m\u001b[1;33m(\u001b[0m\u001b[1;33m)\u001b[0m\u001b[1;33m,\u001b[0m \u001b[0ma\u001b[0m\u001b[1;33m.\u001b[0m\u001b[0mmax\u001b[0m\u001b[1;33m(\u001b[0m\u001b[1;33m)\u001b[0m\u001b[1;33m)\u001b[0m\u001b[1;33m\u001b[0m\u001b[0m\n\u001b[1;32m--> 188\u001b[1;33m         \u001b[0mmn\u001b[0m\u001b[1;33m,\u001b[0m \u001b[0mmx\u001b[0m \u001b[1;33m=\u001b[0m \u001b[1;33m[\u001b[0m\u001b[0mmi\u001b[0m \u001b[1;33m+\u001b[0m \u001b[1;36m0.0\u001b[0m \u001b[1;32mfor\u001b[0m \u001b[0mmi\u001b[0m \u001b[1;32min\u001b[0m \u001b[0mrange\u001b[0m\u001b[1;33m]\u001b[0m\u001b[1;33m\u001b[0m\u001b[0m\n\u001b[0m\u001b[0;32m    189\u001b[0m         \u001b[1;32mif\u001b[0m \u001b[0mmn\u001b[0m \u001b[1;33m==\u001b[0m \u001b[0mmx\u001b[0m\u001b[1;33m:\u001b[0m\u001b[1;33m\u001b[0m\u001b[0m\n\u001b[0;32m    190\u001b[0m             \u001b[0mmn\u001b[0m \u001b[1;33m-=\u001b[0m \u001b[1;36m0.5\u001b[0m\u001b[1;33m\u001b[0m\u001b[0m\n",
      "\u001b[1;31mTypeError\u001b[0m: unsupported operand type(s) for +: 'NoneType' and 'float'"
     ]
    },
    {
     "data": {
      "image/png": "iVBORw0KGgoAAAANSUhEUgAAAXcAAAEACAYAAABI5zaHAAAABHNCSVQICAgIfAhkiAAAAAlwSFlz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\nYII=\n",
      "text/plain": [
       "<matplotlib.figure.Figure at 0xefbc0f0>"
      ]
     },
     "metadata": {},
     "output_type": "display_data"
    }
   ],
   "source": [
    "%matplotlib inline\n",
    "import matplotlib.pyplot as plt\n",
    "\n",
    "movie_years = [movie['year'] for movie in movies]\n",
    "plt.hist(movie_years)"
   ]
  },
  {
   "cell_type": "markdown",
   "metadata": {},
   "source": [
    "Ok, looking at this is like looking at a histogram. (By the way we have 7 None values.) We get a general sense, \n",
    "\n",
    "### but let's make a real histogram\n",
    "http://matplotlib.org/api/pyplot_api.html#matplotlib.pyplot.hist"
   ]
  },
  {
   "cell_type": "code",
<<<<<<< HEAD
   "execution_count": 32,
=======
   "execution_count": 16,
>>>>>>> 5a3707b4fb391782116a16bef20b4e8d1528d284
   "metadata": {
    "collapsed": false
   },
   "outputs": [],
   "source": [
    "%matplotlib inline\n",
    "import matplotlib.pyplot as plt\n",
    "#import seaborn as sns"
   ]
  },
  {
   "cell_type": "code",
   "execution_count": 18,
   "metadata": {
    "collapsed": false
   },
   "outputs": [
    {
     "data": {
      "text/plain": [
       "(array([  4.00000000e+00,   1.00000000e+00,   7.00000000e+00,\n",
       "          3.00000000e+00,   2.00000000e+01,   7.60000000e+01,\n",
       "          1.81000000e+02,   3.82000000e+02,   1.10000000e+03,\n",
       "          1.94700000e+03]),\n",
       " array([ 1933. ,  1941.2,  1949.4,  1957.6,  1965.8,  1974. ,  1982.2,\n",
       "         1990.4,  1998.6,  2006.8,  2015. ]),\n",
       " <a list of 10 Patch objects>)"
      ]
     },
     "execution_count": 18,
     "metadata": {},
     "output_type": "execute_result"
    },
    {
     "data": {
      "image/png": "iVBORw0KGgoAAAANSUhEUgAAAYQAAAECCAYAAAD+VKAWAAAABHNCSVQICAgIfAhkiAAAAAlwSFlz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\nRK5CYII=\n",
      "text/plain": [
       "<matplotlib.figure.Figure at 0x10c1a7190>"
      ]
     },
     "metadata": {},
     "output_type": "display_data"
    }
   ],
   "source": [
    "years = [movie['year'] for movie in movies if movie['year']]\n",
    "plt.hist(years)"
   ]
  },
  {
   "cell_type": "markdown",
   "metadata": {},
   "source": [
    "Whoa! What just happened? We have a weird error. Hmm. It says NoneType in the error. Remember those None values, perhaps they are causing this. Let's remove them and try again."
   ]
  },
  {
   "cell_type": "code",
<<<<<<< HEAD
   "execution_count": 28,
=======
   "execution_count": 21,
>>>>>>> 5a3707b4fb391782116a16bef20b4e8d1528d284
   "metadata": {
    "collapsed": false
   },
   "outputs": [
    {
     "name": "stdout",
     "output_type": "stream",
     "text": [
      "3728 3721\n"
     ]
    }
   ],
   "source": [
<<<<<<< HEAD
    "movie_years_clean = [movie['year'] for movie in movies if movie['year']]\n",
=======
    "years = [movie['year'] for movie in movies]\n",
    "years_clean = [movie['year'] for movie in movies if movie['year']]\n",
>>>>>>> 5a3707b4fb391782116a16bef20b4e8d1528d284
    "\n",
    "print len(years), len(years_clean)"
   ]
  },
  {
   "cell_type": "code",
<<<<<<< HEAD
   "execution_count": 34,
=======
   "execution_count": 22,
>>>>>>> 5a3707b4fb391782116a16bef20b4e8d1528d284
   "metadata": {
    "collapsed": false
   },
   "outputs": [
    {
     "data": {
<<<<<<< HEAD
      "image/png": "iVBORw0KGgoAAAANSUhEUgAAAYUAAAEACAYAAABcXmojAAAABHNCSVQICAgIfAhkiAAAAAlwSFlz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\nSWr+Hybi6O+BUXH6AAAAAElFTkSuQmCC\n",
      "text/plain": [
       "<matplotlib.figure.Figure at 0xb386e80>"
=======
      "image/png": "iVBORw0KGgoAAAANSUhEUgAAAYQAAAEKCAYAAAASByJ7AAAABHNCSVQICAgIfAhkiAAAAAlwSFlz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\nqTIQJEkA/H9msWXhdPxgAQAAAABJRU5ErkJggg==\n",
      "text/plain": [
       "<matplotlib.figure.Figure at 0x10c30ab10>"
>>>>>>> 5a3707b4fb391782116a16bef20b4e8d1528d284
      ]
     },
     "metadata": {},
     "output_type": "display_data"
    }
   ],
   "source": [
<<<<<<< HEAD
    "year_histogram = plt.hist(movie_years_clean)\n",
    "title = (\"Number of movies per year in our dataset\")"
=======
    "year_histogram = plt.hist(years_clean)\n",
    "title = plt.title(\"Number of movies per year in our dataset\")"
>>>>>>> 5a3707b4fb391782116a16bef20b4e8d1528d284
   ]
  },
  {
   "cell_type": "markdown",
   "metadata": {},
   "source": [
    "Let's look at something else, what do we have?"
   ]
  },
  {
   "cell_type": "code",
<<<<<<< HEAD
   "execution_count": 35,
=======
   "execution_count": 23,
>>>>>>> 5a3707b4fb391782116a16bef20b4e8d1528d284
   "metadata": {
    "collapsed": false
   },
   "outputs": [
    {
     "data": {
      "text/plain": [
       "[u'opening_weekend_take',\n",
       " u'release_date_limited',\n",
       " u'title',\n",
       " u'widest_release',\n",
       " u'alt_title',\n",
       " u'mojo_slug',\n",
       " u'worldwide_gross',\n",
       " u'director',\n",
       " u'production_budget',\n",
       " u'year',\n",
       " u'release_date_wide',\n",
       " u'opening_per_theater',\n",
       " u'domestic_gross']"
      ]
     },
<<<<<<< HEAD
     "execution_count": 35,
=======
     "execution_count": 23,
>>>>>>> 5a3707b4fb391782116a16bef20b4e8d1528d284
     "metadata": {},
     "output_type": "execute_result"
    }
   ],
   "source": [
    "movies[0].keys()"
   ]
  },
  {
   "cell_type": "code",
<<<<<<< HEAD
   "execution_count": 38,
=======
   "execution_count": 24,
>>>>>>> 5a3707b4fb391782116a16bef20b4e8d1528d284
   "metadata": {
    "collapsed": false
   },
   "outputs": [
    {
     "name": "stdout",
     "output_type": "stream",
     "text": [
      "[94784201, 66957026, 38178166, 203373, 9213]\n"
     ]
    }
   ],
   "source": [
<<<<<<< HEAD
    "domestic_gross_numbers = [movie['domestic_gross'] for movie in movies if movie['domestic_gross']]\n",
=======
    "domestic_gross_numbers = [movie['domestic_gross'] for movie in movies \\\n",
    "                          if movie['domestic_gross']]\n",
>>>>>>> 5a3707b4fb391782116a16bef20b4e8d1528d284
    "print domestic_gross_numbers[:5]"
   ]
  },
  {
   "cell_type": "code",
<<<<<<< HEAD
   "execution_count": 39,
=======
   "execution_count": 25,
>>>>>>> 5a3707b4fb391782116a16bef20b4e8d1528d284
   "metadata": {
    "collapsed": false
   },
   "outputs": [
    {
     "data": {
<<<<<<< HEAD
      "image/png": "iVBORw0KGgoAAAANSUhEUgAAAXsAAAEXCAYAAABMCOQqAAAABHNCSVQICAgIfAhkiAAAAAlwSFlz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\n",
      "text/plain": [
       "<matplotlib.figure.Figure at 0xb3dbb38>"
=======
      "image/png": "iVBORw0KGgoAAAANSUhEUgAAAXwAAAEWCAYAAABliCz2AAAABHNCSVQICAgIfAhkiAAAAAlwSFlz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\nCuHANzMrhAPfzKwQ/x+upWZo2gFHtQAAAABJRU5ErkJggg==\n",
      "text/plain": [
       "<matplotlib.figure.Figure at 0x10c4771d0>"
>>>>>>> 5a3707b4fb391782116a16bef20b4e8d1528d284
      ]
     },
     "metadata": {},
     "output_type": "display_data"
    }
   ],
   "source": [
    "gross_histogram = plt.hist(domestic_gross_numbers)\n",
    "title = plt.title(\"Domestic gross distribution of movies in the dataset\")"
   ]
  },
  {
   "cell_type": "markdown",
   "metadata": {},
   "source": [
    "Can't really see. Super low gross movies dominate. We can see better if we use log scale and look at log(gross) instead"
   ]
  },
  {
   "cell_type": "code",
<<<<<<< HEAD
   "execution_count": 66,
=======
   "execution_count": 26,
>>>>>>> 5a3707b4fb391782116a16bef20b4e8d1528d284
   "metadata": {
    "collapsed": false
   },
   "outputs": [
    {
     "data": {
<<<<<<< HEAD
      "image/png": "iVBORw0KGgoAAAANSUhEUgAAAXkAAAEXCAYAAABI/TQXAAAABHNCSVQICAgIfAhkiAAAAAlwSFlz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\n",
      "text/plain": [
       "<matplotlib.figure.Figure at 0xee86240>"
=======
      "image/png": "iVBORw0KGgoAAAANSUhEUgAAAXcAAAEWCAYAAACdaNcBAAAABHNCSVQICAgIfAhkiAAAAAlwSFlz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\nqUGGuyQ16P8DUkpqvAEtSIMAAAAASUVORK5CYII=\n",
      "text/plain": [
       "<matplotlib.figure.Figure at 0x10c5e3450>"
>>>>>>> 5a3707b4fb391782116a16bef20b4e8d1528d284
      ]
     },
     "metadata": {},
     "output_type": "display_data"
    }
   ],
   "source": [
    "gross_histogram = plt.hist(domestic_gross_numbers, log=True)\n",
    "title = plt.title(\"Log(Domestic gross) distribution of movies in the dataset\")"
   ]
  },
  {
   "cell_type": "markdown",
   "metadata": {},
   "source": [
    "How about the length of their names?"
   ]
  },
  {
   "cell_type": "code",
<<<<<<< HEAD
   "execution_count": 47,
=======
   "execution_count": 27,
>>>>>>> 5a3707b4fb391782116a16bef20b4e8d1528d284
   "metadata": {
    "collapsed": false
   },
   "outputs": [
    {
     "data": {
      "text/plain": [
<<<<<<< HEAD
       "<matplotlib.text.Text at 0xb423160>"
      ]
     },
     "execution_count": 47,
=======
       "<matplotlib.text.Text at 0x10c565690>"
      ]
     },
     "execution_count": 27,
>>>>>>> 5a3707b4fb391782116a16bef20b4e8d1528d284
     "metadata": {},
     "output_type": "execute_result"
    },
    {
     "data": {
<<<<<<< HEAD
      "image/png": "iVBORw0KGgoAAAANSUhEUgAAAY0AAAEPCAYAAAC+35gCAAAABHNCSVQICAgIfAhkiAAAAAlwSFlz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\nSUVORK5CYII=\n",
      "text/plain": [
       "<matplotlib.figure.Figure at 0xc96ce10>"
=======
      "image/png": "iVBORw0KGgoAAAANSUhEUgAAAY0AAAERCAYAAACHA/vpAAAABHNCSVQICAgIfAhkiAAAAAlwSFlz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\nkopZGpKkYv8faIgEiYckpv8AAAAASUVORK5CYII=\n",
      "text/plain": [
       "<matplotlib.figure.Figure at 0x10c619490>"
>>>>>>> 5a3707b4fb391782116a16bef20b4e8d1528d284
      ]
     },
     "metadata": {},
     "output_type": "display_data"
    }
   ],
   "source": [
    "title_lengths = [len(movie['title']) for movie in movies]\n",
<<<<<<< HEAD
    "titlen_histogram = plt.hist(title_lengths)\n",
=======
    "plt.hist(title_lengths)\n",
>>>>>>> 5a3707b4fb391782116a16bef20b4e8d1528d284
    "plt.xlabel(\"Movie title length\")\n",
    "plt.ylabel(\"Number of movies\")"
   ]
  },
  {
   "cell_type": "markdown",
   "metadata": {},
   "source": [
    "Now let's do this with pandas"
   ]
  },
  {
   "cell_type": "code",
<<<<<<< HEAD
   "execution_count": 52,
=======
   "execution_count": 29,
>>>>>>> 5a3707b4fb391782116a16bef20b4e8d1528d284
   "metadata": {
    "collapsed": false,
    "scrolled": false
   },
   "outputs": [
    {
     "data": {
      "text/plain": [
<<<<<<< HEAD
       "<matplotlib.axes._subplots.AxesSubplot at 0xe318978>"
      ]
     },
     "execution_count": 52,
=======
       "<matplotlib.axes._subplots.AxesSubplot at 0x10c5b6110>"
      ]
     },
     "execution_count": 29,
>>>>>>> 5a3707b4fb391782116a16bef20b4e8d1528d284
     "metadata": {},
     "output_type": "execute_result"
    },
    {
     "data": {
<<<<<<< HEAD
      "image/png": "iVBORw0KGgoAAAANSUhEUgAAAYUAAAEACAYAAABcXmojAAAABHNCSVQICAgIfAhkiAAAAAlwSFlz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\ngg==\n",
      "text/plain": [
       "<matplotlib.figure.Figure at 0xe3186a0>"
=======
      "image/png": "iVBORw0KGgoAAAANSUhEUgAAAYQAAAECCAYAAAD+VKAWAAAABHNCSVQICAgIfAhkiAAAAAlwSFlz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\nRK5CYII=\n",
      "text/plain": [
       "<matplotlib.figure.Figure at 0x10c364a90>"
>>>>>>> 5a3707b4fb391782116a16bef20b4e8d1528d284
      ]
     },
     "metadata": {},
     "output_type": "display_data"
    }
   ],
   "source": [
    "import pandas as pd\n",
    "\n",
    "movies_df = pd.DataFrame(movies)\n",
<<<<<<< HEAD
    "movies_df['year'].hist()\n"
=======
    "movies_df['year'].hist()"
>>>>>>> 5a3707b4fb391782116a16bef20b4e8d1528d284
   ]
  },
  {
   "cell_type": "code",
<<<<<<< HEAD
   "execution_count": 53,
=======
   "execution_count": 31,
>>>>>>> 5a3707b4fb391782116a16bef20b4e8d1528d284
   "metadata": {
    "collapsed": false
   },
   "outputs": [
    {
     "data": {
      "text/plain": [
<<<<<<< HEAD
       "<matplotlib.axes._subplots.AxesSubplot at 0xe3619e8>"
      ]
     },
     "execution_count": 53,
=======
       "<matplotlib.axes._subplots.AxesSubplot at 0x10c895110>"
      ]
     },
     "execution_count": 31,
>>>>>>> 5a3707b4fb391782116a16bef20b4e8d1528d284
     "metadata": {},
     "output_type": "execute_result"
    },
    {
     "data": {
<<<<<<< HEAD
      "image/png": "iVBORw0KGgoAAAANSUhEUgAAAX8AAAEACAYAAABbMHZzAAAABHNCSVQICAgIfAhkiAAAAAlwSFlz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\nrkJggg==\n",
      "text/plain": [
       "<matplotlib.figure.Figure at 0xe3182b0>"
=======
      "image/png": "iVBORw0KGgoAAAANSUhEUgAAAYQAAAECCAYAAAD+VKAWAAAABHNCSVQICAgIfAhkiAAAAAlwSFlz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\nkgALQZJUWAiSJAD+F4OK0gVfvYF+AAAAAElFTkSuQmCC\n",
      "text/plain": [
       "<matplotlib.figure.Figure at 0x10c885810>"
>>>>>>> 5a3707b4fb391782116a16bef20b4e8d1528d284
      ]
     },
     "metadata": {},
     "output_type": "display_data"
    }
   ],
   "source": [
<<<<<<< HEAD
    "recent_movies = movies_df[movies_df['year']>=1990]\n",
    "recent_movies['year'].hist()"
=======
    "recent_movies = movies_df[ movies_df['year'] >= 1990 ]\n",
    "recent_movies['year'].hist(range=(1930, 2015))\n"
>>>>>>> 5a3707b4fb391782116a16bef20b4e8d1528d284
   ]
  },
  {
   "cell_type": "code",
<<<<<<< HEAD
   "execution_count": 60,
=======
   "execution_count": 36,
>>>>>>> 5a3707b4fb391782116a16bef20b4e8d1528d284
   "metadata": {
    "collapsed": false
   },
   "outputs": [
    {
     "data": {
<<<<<<< HEAD
      "image/png": "iVBORw0KGgoAAAANSUhEUgAAAXwAAAEaCAYAAAASSuyNAAAABHNCSVQICAgIfAhkiAAAAAlwSFlz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\n",
      "text/plain": [
       "<matplotlib.figure.Figure at 0xee984a8>"
=======
      "image/png": "iVBORw0KGgoAAAANSUhEUgAAAWkAAAEHCAYAAABshbdkAAAABHNCSVQICAgIfAhkiAAAAAlwSFlz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\nUsEMaUkqmCEtSQX7fxt+GVCfoQh5AAAAAElFTkSuQmCC\n",
      "text/plain": [
       "<matplotlib.figure.Figure at 0x10d838110>"
      ]
     },
     "metadata": {},
     "output_type": "display_data"
    },
    {
     "data": {
      "image/png": "iVBORw0KGgoAAAANSUhEUgAAAXwAAAEcCAYAAADEEw+QAAAABHNCSVQICAgIfAhkiAAAAAlwSFlz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\nAUEOXwghBgQ5fCGEGBDk8IUQYkD4/0XW/yR/bZb2AAAAAElFTkSuQmCC\n",
      "text/plain": [
       "<matplotlib.figure.Figure at 0x10da9f750>"
>>>>>>> 5a3707b4fb391782116a16bef20b4e8d1528d284
      ]
     },
     "metadata": {},
     "output_type": "display_data"
    }
   ],
   "source": [
    "#boxplot = recent_movies.boxplot(column='year')\n",
    "#boxplot = recent_movies.boxplot(column='domestic_gross')\n",
    "boxplot = recent_movies.boxplot(column='domestic_gross', by='year')\n"
   ]
  },
  {
   "cell_type": "markdown",
   "metadata": {},
   "source": [
    "Ok, this is good but the default size is too small"
   ]
  },
  {
   "cell_type": "code",
<<<<<<< HEAD
   "execution_count": 54,
=======
   "execution_count": 37,
>>>>>>> 5a3707b4fb391782116a16bef20b4e8d1528d284
   "metadata": {
    "collapsed": false
   },
   "outputs": [
    {
     "data": {
<<<<<<< HEAD
      "image/png": "iVBORw0KGgoAAAANSUhEUgAAA4EAAAFrCAYAAABv6owBAAAABHNCSVQICAgIfAhkiAAAAAlwSFlz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\nTc/2AAAAAElFTkSuQmCC\n",
      "text/plain": [
       "<matplotlib.figure.Figure at 0xe513c50>"
=======
      "image/png": "iVBORw0KGgoAAAANSUhEUgAAA4IAAAFqCAYAAABPgeSnAAAABHNCSVQICAgIfAhkiAAAAAlwSFlz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\n",
      "text/plain": [
       "<matplotlib.figure.Figure at 0x10e1ae2d0>"
>>>>>>> 5a3707b4fb391782116a16bef20b4e8d1528d284
      ]
     },
     "metadata": {},
     "output_type": "display_data"
    }
   ],
   "source": [
    "boxplot = recent_movies.boxplot(column='domestic_gross', by='year', \n",
    "                                figsize=(15,5), rot=45)\n",
    "y_range = plt.ylim(0,2.5e8)"
   ]
  },
  {
   "cell_type": "code",
<<<<<<< HEAD
   "execution_count": 61,
=======
   "execution_count": 38,
>>>>>>> 5a3707b4fb391782116a16bef20b4e8d1528d284
   "metadata": {
    "collapsed": false
   },
   "outputs": [
    {
     "data": {
      "text/html": [
<<<<<<< HEAD
       "<div>\n",
=======
       "<div style=\"max-height:1000px;max-width:1500px;overflow:auto;\">\n",
>>>>>>> 5a3707b4fb391782116a16bef20b4e8d1528d284
       "<table border=\"1\" class=\"dataframe\">\n",
       "  <thead>\n",
       "    <tr style=\"text-align: right;\">\n",
       "      <th></th>\n",
       "      <th>alt_title</th>\n",
       "      <th>director</th>\n",
       "      <th>domestic_gross</th>\n",
       "      <th>mojo_slug</th>\n",
       "      <th>opening_per_theater</th>\n",
       "      <th>opening_weekend_take</th>\n",
       "      <th>production_budget</th>\n",
       "      <th>release_date_limited</th>\n",
       "      <th>release_date_wide</th>\n",
       "      <th>title</th>\n",
       "      <th>widest_release</th>\n",
       "      <th>worldwide_gross</th>\n",
       "      <th>year</th>\n",
       "    </tr>\n",
       "  </thead>\n",
       "  <tbody>\n",
       "    <tr>\n",
       "      <th>0</th>\n",
<<<<<<< HEAD
       "      <td>10,000 B.C. (2008)</td>\n",
       "      <td>Roland Emmerich</td>\n",
       "      <td>94784201</td>\n",
       "      <td>10000bc</td>\n",
       "      <td>10518</td>\n",
       "      <td>35867488</td>\n",
       "      <td>105000000</td>\n",
       "      <td>None</td>\n",
       "      <td>2008-03-07</td>\n",
       "      <td>10,000 B.C.</td>\n",
       "      <td>3454</td>\n",
       "      <td>269784201</td>\n",
       "      <td>2008</td>\n",
       "    </tr>\n",
       "    <tr>\n",
       "      <th>1</th>\n",
       "      <td>102 Dalmatians (2000)</td>\n",
       "      <td>None</td>\n",
       "      <td>66957026</td>\n",
       "      <td>102dalmatians</td>\n",
       "      <td>7353</td>\n",
       "      <td>19883351</td>\n",
       "      <td>85000000</td>\n",
       "      <td>None</td>\n",
       "      <td>2000-11-22</td>\n",
       "      <td>102 Dalmatians</td>\n",
       "      <td>2704</td>\n",
       "      <td>183611771</td>\n",
       "      <td>2000</td>\n",
       "    </tr>\n",
       "    <tr>\n",
       "      <th>2</th>\n",
       "      <td>10 Things I Hate About You (1999)</td>\n",
       "      <td>None</td>\n",
       "      <td>38178166</td>\n",
       "      <td>10thingsihateaboutyou</td>\n",
       "      <td>3668</td>\n",
       "      <td>8330681</td>\n",
       "      <td>30000000</td>\n",
       "      <td>None</td>\n",
       "      <td>1999-03-31</td>\n",
       "      <td>10 Things I Hate About You</td>\n",
       "      <td>2311</td>\n",
       "      <td>53478166</td>\n",
       "      <td>1999</td>\n",
       "    </tr>\n",
       "    <tr>\n",
       "      <th>3</th>\n",
       "      <td>10 Years (2012)</td>\n",
       "      <td>Jamie Linden</td>\n",
       "      <td>203373</td>\n",
       "      <td>10years</td>\n",
       "      <td>7569</td>\n",
       "      <td>22707</td>\n",
       "      <td>NaN</td>\n",
       "      <td>None</td>\n",
       "      <td>2012-09-14</td>\n",
       "      <td>10 Years</td>\n",
       "      <td>63</td>\n",
       "      <td>203373</td>\n",
       "      <td>2012</td>\n",
       "    </tr>\n",
       "    <tr>\n",
       "      <th>4</th>\n",
       "      <td>11 Flowers (2013)</td>\n",
       "      <td>None</td>\n",
       "      <td>9213</td>\n",
       "      <td>11flowers</td>\n",
       "      <td>1758</td>\n",
       "      <td>3516</td>\n",
       "      <td>NaN</td>\n",
       "      <td>None</td>\n",
       "      <td>2013-02-22</td>\n",
       "      <td>11 Flowers</td>\n",
       "      <td>2</td>\n",
       "      <td>NaN</td>\n",
       "      <td>2013</td>\n",
=======
       "      <td>                10,000 B.C. (2008)</td>\n",
       "      <td> Roland Emmerich</td>\n",
       "      <td> 94784201</td>\n",
       "      <td>               10000bc</td>\n",
       "      <td> 10518</td>\n",
       "      <td> 35867488</td>\n",
       "      <td> 105000000</td>\n",
       "      <td> None</td>\n",
       "      <td> 2008-03-07</td>\n",
       "      <td>                10,000 B.C.</td>\n",
       "      <td> 3454</td>\n",
       "      <td> 269784201</td>\n",
       "      <td> 2008</td>\n",
       "    </tr>\n",
       "    <tr>\n",
       "      <th>1</th>\n",
       "      <td>             102 Dalmatians (2000)</td>\n",
       "      <td>            None</td>\n",
       "      <td> 66957026</td>\n",
       "      <td>         102dalmatians</td>\n",
       "      <td>  7353</td>\n",
       "      <td> 19883351</td>\n",
       "      <td>  85000000</td>\n",
       "      <td> None</td>\n",
       "      <td> 2000-11-22</td>\n",
       "      <td>            102 Dalmatians </td>\n",
       "      <td> 2704</td>\n",
       "      <td> 183611771</td>\n",
       "      <td> 2000</td>\n",
       "    </tr>\n",
       "    <tr>\n",
       "      <th>2</th>\n",
       "      <td> 10 Things I Hate About You (1999)</td>\n",
       "      <td>            None</td>\n",
       "      <td> 38178166</td>\n",
       "      <td> 10thingsihateaboutyou</td>\n",
       "      <td>  3668</td>\n",
       "      <td>  8330681</td>\n",
       "      <td>  30000000</td>\n",
       "      <td> None</td>\n",
       "      <td> 1999-03-31</td>\n",
       "      <td> 10 Things I Hate About You</td>\n",
       "      <td> 2311</td>\n",
       "      <td>  53478166</td>\n",
       "      <td> 1999</td>\n",
       "    </tr>\n",
       "    <tr>\n",
       "      <th>3</th>\n",
       "      <td>                   10 Years (2012)</td>\n",
       "      <td>    Jamie Linden</td>\n",
       "      <td>   203373</td>\n",
       "      <td>               10years</td>\n",
       "      <td>  7569</td>\n",
       "      <td>    22707</td>\n",
       "      <td>       NaN</td>\n",
       "      <td> None</td>\n",
       "      <td> 2012-09-14</td>\n",
       "      <td>                   10 Years</td>\n",
       "      <td>   63</td>\n",
       "      <td>    203373</td>\n",
       "      <td> 2012</td>\n",
       "    </tr>\n",
       "    <tr>\n",
       "      <th>4</th>\n",
       "      <td>                 11 Flowers (2013)</td>\n",
       "      <td>            None</td>\n",
       "      <td>     9213</td>\n",
       "      <td>             11flowers</td>\n",
       "      <td>  1758</td>\n",
       "      <td>     3516</td>\n",
       "      <td>       NaN</td>\n",
       "      <td> None</td>\n",
       "      <td> 2013-02-22</td>\n",
       "      <td>                11 Flowers </td>\n",
       "      <td>    2</td>\n",
       "      <td>       NaN</td>\n",
       "      <td> 2013</td>\n",
>>>>>>> 5a3707b4fb391782116a16bef20b4e8d1528d284
       "    </tr>\n",
       "  </tbody>\n",
       "</table>\n",
       "</div>"
      ],
      "text/plain": [
       "                           alt_title         director  domestic_gross  \\\n",
       "0                 10,000 B.C. (2008)  Roland Emmerich        94784201   \n",
       "1              102 Dalmatians (2000)             None        66957026   \n",
       "2  10 Things I Hate About You (1999)             None        38178166   \n",
       "3                    10 Years (2012)     Jamie Linden          203373   \n",
       "4                  11 Flowers (2013)             None            9213   \n",
       "\n",
       "               mojo_slug  opening_per_theater  opening_weekend_take  \\\n",
       "0                10000bc                10518              35867488   \n",
       "1          102dalmatians                 7353              19883351   \n",
       "2  10thingsihateaboutyou                 3668               8330681   \n",
       "3                10years                 7569                 22707   \n",
       "4              11flowers                 1758                  3516   \n",
       "\n",
       "   production_budget release_date_limited release_date_wide  \\\n",
       "0          105000000                 None        2008-03-07   \n",
       "1           85000000                 None        2000-11-22   \n",
       "2           30000000                 None        1999-03-31   \n",
       "3                NaN                 None        2012-09-14   \n",
       "4                NaN                 None        2013-02-22   \n",
       "\n",
       "                        title  widest_release  worldwide_gross  year  \n",
       "0                 10,000 B.C.            3454        269784201  2008  \n",
       "1             102 Dalmatians             2704        183611771  2000  \n",
       "2  10 Things I Hate About You            2311         53478166  1999  \n",
       "3                    10 Years              63           203373  2012  \n",
       "4                 11 Flowers                2              NaN  2013  "
      ]
     },
<<<<<<< HEAD
     "execution_count": 61,
=======
     "execution_count": 38,
>>>>>>> 5a3707b4fb391782116a16bef20b4e8d1528d284
     "metadata": {},
     "output_type": "execute_result"
    }
   ],
   "source": [
    "movies_df.head()"
   ]
  },
  {
   "cell_type": "code",
<<<<<<< HEAD
   "execution_count": 62,
=======
   "execution_count": 39,
>>>>>>> 5a3707b4fb391782116a16bef20b4e8d1528d284
   "metadata": {
    "collapsed": false
   },
   "outputs": [
    {
     "data": {
      "text/html": [
<<<<<<< HEAD
       "<div>\n",
=======
       "<div style=\"max-height:1000px;max-width:1500px;overflow:auto;\">\n",
>>>>>>> 5a3707b4fb391782116a16bef20b4e8d1528d284
       "<table border=\"1\" class=\"dataframe\">\n",
       "  <thead>\n",
       "    <tr style=\"text-align: right;\">\n",
       "      <th></th>\n",
       "      <th>domestic_gross</th>\n",
       "      <th>opening_per_theater</th>\n",
       "      <th>opening_weekend_take</th>\n",
       "      <th>production_budget</th>\n",
       "      <th>widest_release</th>\n",
       "      <th>worldwide_gross</th>\n",
       "      <th>year</th>\n",
       "    </tr>\n",
       "  </thead>\n",
       "  <tbody>\n",
       "    <tr>\n",
       "      <th>count</th>\n",
<<<<<<< HEAD
       "      <td>3.653000e+03</td>\n",
       "      <td>3548.000000</td>\n",
       "      <td>3.548000e+03</td>\n",
       "      <td>1.591000e+03</td>\n",
       "      <td>3576.000000</td>\n",
       "      <td>2.821000e+03</td>\n",
       "      <td>3721.000000</td>\n",
       "    </tr>\n",
       "    <tr>\n",
       "      <th>mean</th>\n",
       "      <td>3.587710e+07</td>\n",
       "      <td>7769.070744</td>\n",
       "      <td>8.919290e+06</td>\n",
       "      <td>4.594223e+07</td>\n",
       "      <td>1359.910794</td>\n",
       "      <td>9.117943e+07</td>\n",
       "      <td>2004.740124</td>\n",
       "    </tr>\n",
       "    <tr>\n",
       "      <th>std</th>\n",
       "      <td>5.660351e+07</td>\n",
       "      <td>8251.101404</td>\n",
       "      <td>1.403204e+07</td>\n",
       "      <td>4.056849e+07</td>\n",
       "      <td>1293.817347</td>\n",
       "      <td>1.489563e+08</td>\n",
       "      <td>9.127232</td>\n",
       "    </tr>\n",
       "    <tr>\n",
       "      <th>min</th>\n",
       "      <td>7.200000e+01</td>\n",
       "      <td>72.000000</td>\n",
       "      <td>7.200000e+01</td>\n",
       "      <td>2.200000e+02</td>\n",
       "      <td>1.000000</td>\n",
       "      <td>7.200000e+01</td>\n",
       "      <td>1933.000000</td>\n",
       "    </tr>\n",
       "    <tr>\n",
       "      <th>25%</th>\n",
       "      <td>6.353250e+05</td>\n",
       "      <td>3212.000000</td>\n",
       "      <td>4.748775e+04</td>\n",
       "      <td>1.675000e+07</td>\n",
       "      <td>52.000000</td>\n",
       "      <td>5.710236e+06</td>\n",
       "      <td>2001.000000</td>\n",
       "    </tr>\n",
       "    <tr>\n",
       "      <th>50%</th>\n",
       "      <td>1.323532e+07</td>\n",
       "      <td>5520.500000</td>\n",
       "      <td>3.334686e+06</td>\n",
       "      <td>3.500000e+07</td>\n",
       "      <td>1074.500000</td>\n",
       "      <td>3.554776e+07</td>\n",
       "      <td>2007.000000</td>\n",
       "    </tr>\n",
       "    <tr>\n",
       "      <th>75%</th>\n",
       "      <td>4.966253e+07</td>\n",
       "      <td>9463.500000</td>\n",
       "      <td>1.268750e+07</td>\n",
       "      <td>6.500000e+07</td>\n",
       "      <td>2584.250000</td>\n",
       "      <td>1.166729e+08</td>\n",
       "      <td>2011.000000</td>\n",
       "    </tr>\n",
       "    <tr>\n",
       "      <th>max</th>\n",
       "      <td>7.605076e+08</td>\n",
       "      <td>204230.000000</td>\n",
       "      <td>1.741446e+08</td>\n",
       "      <td>2.150000e+08</td>\n",
       "      <td>4468.000000</td>\n",
       "      <td>2.787965e+09</td>\n",
       "      <td>2015.000000</td>\n",
=======
       "      <td> 3.653000e+03</td>\n",
       "      <td>   3548.000000</td>\n",
       "      <td> 3.548000e+03</td>\n",
       "      <td> 1.591000e+03</td>\n",
       "      <td> 3576.000000</td>\n",
       "      <td> 2.821000e+03</td>\n",
       "      <td> 3721.000000</td>\n",
       "    </tr>\n",
       "    <tr>\n",
       "      <th>mean</th>\n",
       "      <td> 3.587710e+07</td>\n",
       "      <td>   7769.070744</td>\n",
       "      <td> 8.919290e+06</td>\n",
       "      <td> 4.594223e+07</td>\n",
       "      <td> 1359.910794</td>\n",
       "      <td> 9.117943e+07</td>\n",
       "      <td> 2004.740124</td>\n",
       "    </tr>\n",
       "    <tr>\n",
       "      <th>std</th>\n",
       "      <td> 5.660351e+07</td>\n",
       "      <td>   8251.101404</td>\n",
       "      <td> 1.403204e+07</td>\n",
       "      <td> 4.056849e+07</td>\n",
       "      <td> 1293.817347</td>\n",
       "      <td> 1.489563e+08</td>\n",
       "      <td>    9.127232</td>\n",
       "    </tr>\n",
       "    <tr>\n",
       "      <th>min</th>\n",
       "      <td> 7.200000e+01</td>\n",
       "      <td>     72.000000</td>\n",
       "      <td> 7.200000e+01</td>\n",
       "      <td> 2.200000e+02</td>\n",
       "      <td>    1.000000</td>\n",
       "      <td> 7.200000e+01</td>\n",
       "      <td> 1933.000000</td>\n",
       "    </tr>\n",
       "    <tr>\n",
       "      <th>25%</th>\n",
       "      <td> 6.353250e+05</td>\n",
       "      <td>   3212.000000</td>\n",
       "      <td> 4.748775e+04</td>\n",
       "      <td> 1.675000e+07</td>\n",
       "      <td>   52.000000</td>\n",
       "      <td> 5.710236e+06</td>\n",
       "      <td> 2001.000000</td>\n",
       "    </tr>\n",
       "    <tr>\n",
       "      <th>50%</th>\n",
       "      <td> 1.323532e+07</td>\n",
       "      <td>   5520.500000</td>\n",
       "      <td> 3.334686e+06</td>\n",
       "      <td> 3.500000e+07</td>\n",
       "      <td> 1074.500000</td>\n",
       "      <td> 3.554776e+07</td>\n",
       "      <td> 2007.000000</td>\n",
       "    </tr>\n",
       "    <tr>\n",
       "      <th>75%</th>\n",
       "      <td> 4.966253e+07</td>\n",
       "      <td>   9463.500000</td>\n",
       "      <td> 1.268750e+07</td>\n",
       "      <td> 6.500000e+07</td>\n",
       "      <td> 2584.250000</td>\n",
       "      <td> 1.166729e+08</td>\n",
       "      <td> 2011.000000</td>\n",
       "    </tr>\n",
       "    <tr>\n",
       "      <th>max</th>\n",
       "      <td> 7.605076e+08</td>\n",
       "      <td> 204230.000000</td>\n",
       "      <td> 1.741446e+08</td>\n",
       "      <td> 2.150000e+08</td>\n",
       "      <td> 4468.000000</td>\n",
       "      <td> 2.787965e+09</td>\n",
       "      <td> 2015.000000</td>\n",
>>>>>>> 5a3707b4fb391782116a16bef20b4e8d1528d284
       "    </tr>\n",
       "  </tbody>\n",
       "</table>\n",
       "</div>"
      ],
      "text/plain": [
       "       domestic_gross  opening_per_theater  opening_weekend_take  \\\n",
       "count    3.653000e+03          3548.000000          3.548000e+03   \n",
       "mean     3.587710e+07          7769.070744          8.919290e+06   \n",
       "std      5.660351e+07          8251.101404          1.403204e+07   \n",
       "min      7.200000e+01            72.000000          7.200000e+01   \n",
       "25%      6.353250e+05          3212.000000          4.748775e+04   \n",
       "50%      1.323532e+07          5520.500000          3.334686e+06   \n",
       "75%      4.966253e+07          9463.500000          1.268750e+07   \n",
       "max      7.605076e+08        204230.000000          1.741446e+08   \n",
       "\n",
       "       production_budget  widest_release  worldwide_gross         year  \n",
       "count       1.591000e+03     3576.000000     2.821000e+03  3721.000000  \n",
       "mean        4.594223e+07     1359.910794     9.117943e+07  2004.740124  \n",
       "std         4.056849e+07     1293.817347     1.489563e+08     9.127232  \n",
       "min         2.200000e+02        1.000000     7.200000e+01  1933.000000  \n",
       "25%         1.675000e+07       52.000000     5.710236e+06  2001.000000  \n",
       "50%         3.500000e+07     1074.500000     3.554776e+07  2007.000000  \n",
       "75%         6.500000e+07     2584.250000     1.166729e+08  2011.000000  \n",
       "max         2.150000e+08     4468.000000     2.787965e+09  2015.000000  "
      ]
     },
<<<<<<< HEAD
     "execution_count": 62,
=======
     "execution_count": 39,
>>>>>>> 5a3707b4fb391782116a16bef20b4e8d1528d284
     "metadata": {},
     "output_type": "execute_result"
    }
   ],
   "source": [
    "movies_df.describe()"
   ]
  },
  {
   "cell_type": "code",
<<<<<<< HEAD
   "execution_count": 70,
=======
   "execution_count": 42,
>>>>>>> 5a3707b4fb391782116a16bef20b4e8d1528d284
   "metadata": {
    "collapsed": false
   },
   "outputs": [
    {
     "data": {
      "text/plain": [
       "1591"
      ]
     },
<<<<<<< HEAD
     "execution_count": 70,
=======
     "execution_count": 42,
>>>>>>> 5a3707b4fb391782116a16bef20b4e8d1528d284
     "metadata": {},
     "output_type": "execute_result"
    }
   ],
   "source": [
    "# how many movies left if we drop ones without budget?\n",
    "len(movies_df.production_budget.dropna())"
   ]
  },
  {
   "cell_type": "code",
<<<<<<< HEAD
   "execution_count": 72,
=======
   "execution_count": 43,
>>>>>>> 5a3707b4fb391782116a16bef20b4e8d1528d284
   "metadata": {
    "collapsed": false
   },
   "outputs": [
    {
     "data": {
<<<<<<< HEAD
      "image/png": "iVBORw0KGgoAAAANSUhEUgAAAX0AAAEWCAYAAACKSkfIAAAABHNCSVQICAgIfAhkiAAAAAlwSFlz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\nMvpCCNFA/D8k6CYEsrvgSwAAAABJRU5ErkJggg==\n",
      "text/plain": [
       "<matplotlib.figure.Figure at 0xb583710>"
=======
      "text/plain": [
       "<matplotlib.axes._subplots.AxesSubplot at 0x10cf07450>"
      ]
     },
     "execution_count": 43,
     "metadata": {},
     "output_type": "execute_result"
    },
    {
     "data": {
      "image/png": "iVBORw0KGgoAAAANSUhEUgAAAYIAAAEWCAYAAABrDZDcAAAABHNCSVQICAgIfAhkiAAAAAlwSFlz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\ng4b8c2AAAAAASUVORK5CYII=\n",
      "text/plain": [
       "<matplotlib.figure.Figure at 0x10d8301d0>"
>>>>>>> 5a3707b4fb391782116a16bef20b4e8d1528d284
      ]
     },
     "metadata": {},
     "output_type": "display_data"
    }
   ],
   "source": [
    "# plot opening weekend vs domestic gross\n",
    "movies_df.plot(kind='scatter',\n",
    "               x='opening_weekend_take',\n",
<<<<<<< HEAD
    "               y='domestic_gross')\n",
    "y_range = plt.ylim(0,8e8)\n",
    "x_range = plt.xlim(0,2e8)"
=======
    "               y='domestic_gross')"
>>>>>>> 5a3707b4fb391782116a16bef20b4e8d1528d284
   ]
  },
  {
   "cell_type": "code",
<<<<<<< HEAD
   "execution_count": 73,
=======
   "execution_count": 44,
>>>>>>> 5a3707b4fb391782116a16bef20b4e8d1528d284
   "metadata": {
    "collapsed": false
   },
   "outputs": [
    {
     "data": {
      "text/html": [
<<<<<<< HEAD
       "<div>\n",
=======
       "<div style=\"max-height:1000px;max-width:1500px;overflow:auto;\">\n",
>>>>>>> 5a3707b4fb391782116a16bef20b4e8d1528d284
       "<table border=\"1\" class=\"dataframe\">\n",
       "  <thead>\n",
       "    <tr style=\"text-align: right;\">\n",
       "      <th></th>\n",
       "      <th>domestic_gross</th>\n",
       "      <th>opening_weekend_take</th>\n",
       "    </tr>\n",
       "  </thead>\n",
       "  <tbody>\n",
       "    <tr>\n",
       "      <th>0</th>\n",
<<<<<<< HEAD
       "      <td>94784201</td>\n",
       "      <td>35867488</td>\n",
       "    </tr>\n",
       "    <tr>\n",
       "      <th>1</th>\n",
       "      <td>66957026</td>\n",
       "      <td>19883351</td>\n",
       "    </tr>\n",
       "    <tr>\n",
       "      <th>2</th>\n",
       "      <td>38178166</td>\n",
       "      <td>8330681</td>\n",
       "    </tr>\n",
       "    <tr>\n",
       "      <th>3</th>\n",
       "      <td>203373</td>\n",
       "      <td>22707</td>\n",
       "    </tr>\n",
       "    <tr>\n",
       "      <th>4</th>\n",
       "      <td>9213</td>\n",
       "      <td>3516</td>\n",
=======
       "      <td> 94784201</td>\n",
       "      <td> 35867488</td>\n",
       "    </tr>\n",
       "    <tr>\n",
       "      <th>1</th>\n",
       "      <td> 66957026</td>\n",
       "      <td> 19883351</td>\n",
       "    </tr>\n",
       "    <tr>\n",
       "      <th>2</th>\n",
       "      <td> 38178166</td>\n",
       "      <td>  8330681</td>\n",
       "    </tr>\n",
       "    <tr>\n",
       "      <th>3</th>\n",
       "      <td>   203373</td>\n",
       "      <td>    22707</td>\n",
       "    </tr>\n",
       "    <tr>\n",
       "      <th>4</th>\n",
       "      <td>     9213</td>\n",
       "      <td>     3516</td>\n",
>>>>>>> 5a3707b4fb391782116a16bef20b4e8d1528d284
       "    </tr>\n",
       "  </tbody>\n",
       "</table>\n",
       "</div>"
      ],
      "text/plain": [
       "   domestic_gross  opening_weekend_take\n",
       "0        94784201              35867488\n",
       "1        66957026              19883351\n",
       "2        38178166               8330681\n",
       "3          203373                 22707\n",
       "4            9213                  3516"
      ]
     },
<<<<<<< HEAD
     "execution_count": 73,
=======
     "execution_count": 44,
>>>>>>> 5a3707b4fb391782116a16bef20b4e8d1528d284
     "metadata": {},
     "output_type": "execute_result"
    }
   ],
   "source": [
    "movies_df[['domestic_gross', 'opening_weekend_take']].head()"
   ]
  },
  {
   "cell_type": "code",
<<<<<<< HEAD
   "execution_count": 75,
=======
   "execution_count": 45,
>>>>>>> 5a3707b4fb391782116a16bef20b4e8d1528d284
   "metadata": {
    "collapsed": false
   },
   "outputs": [
    {
     "name": "stdout",
     "output_type": "stream",
     "text": [
      "shape for all data: (3728, 13)\n",
      "shape for only our two columns: (3728, 2)\n",
      "shape after dropping rows with missing data: (3548, 2)\n"
     ]
    }
   ],
   "source": [
    "print 'shape for all data:', movies_df.shape\n",
    "\n",
    "df = movies_df[['domestic_gross', 'opening_weekend_take']]\n",
    "print 'shape for only our two columns:', df.shape\n",
<<<<<<< HEAD
=======
    "\n",
>>>>>>> 5a3707b4fb391782116a16bef20b4e8d1528d284
    "df = df.dropna()\n",
    "print 'shape after dropping rows with missing data:', df.shape"
   ]
  },
  {
   "cell_type": "markdown",
   "metadata": {},
   "source": [
    "### Let's do a linear regression"
   ]
  },
  {
   "cell_type": "code",
<<<<<<< HEAD
   "execution_count": 78,
=======
   "execution_count": 46,
>>>>>>> 5a3707b4fb391782116a16bef20b4e8d1528d284
   "metadata": {
    "collapsed": false
   },
   "outputs": [],
   "source": [
    "import statsmodels.api as sm\n",
    "\n",
    "Y = df.domestic_gross\n",
    "X = sm.add_constant(df.opening_weekend_take)\n",
    "\n",
<<<<<<< HEAD
    "linmodel=sm.OLS(Y,X).fit()"
=======
    "linmodel = sm.OLS(Y, X).fit()\n",
    "\n"
>>>>>>> 5a3707b4fb391782116a16bef20b4e8d1528d284
   ]
  },
  {
   "cell_type": "code",
<<<<<<< HEAD
   "execution_count": 79,
=======
   "execution_count": 47,
>>>>>>> 5a3707b4fb391782116a16bef20b4e8d1528d284
   "metadata": {
    "collapsed": false
   },
   "outputs": [
    {
     "data": {
      "text/html": [
       "<table class=\"simpletable\">\n",
       "<caption>OLS Regression Results</caption>\n",
       "<tr>\n",
       "  <th>Dep. Variable:</th>     <td>domestic_gross</td>  <th>  R-squared:         </th> <td>   0.729</td> \n",
       "</tr>\n",
       "<tr>\n",
       "  <th>Model:</th>                   <td>OLS</td>       <th>  Adj. R-squared:    </th> <td>   0.729</td> \n",
       "</tr>\n",
       "<tr>\n",
       "  <th>Method:</th>             <td>Least Squares</td>  <th>  F-statistic:       </th> <td>   9522.</td> \n",
       "</tr>\n",
       "<tr>\n",
       "  <th>Date:</th>             <td>Tue, 15 Sep 2015</td> <th>  Prob (F-statistic):</th>  <td>  0.00</td>  \n",
       "</tr>\n",
       "<tr>\n",
<<<<<<< HEAD
       "  <th>Time:</th>                 <td>16:13:44</td>     <th>  Log-Likelihood:    </th> <td> -66088.</td> \n",
=======
       "  <th>Time:</th>                 <td>16:13:43</td>     <th>  Log-Likelihood:    </th> <td> -66088.</td> \n",
>>>>>>> 5a3707b4fb391782116a16bef20b4e8d1528d284
       "</tr>\n",
       "<tr>\n",
       "  <th>No. Observations:</th>      <td>  3548</td>      <th>  AIC:               </th> <td>1.322e+05</td>\n",
       "</tr>\n",
       "<tr>\n",
       "  <th>Df Residuals:</th>          <td>  3546</td>      <th>  BIC:               </th> <td>1.322e+05</td>\n",
       "</tr>\n",
       "<tr>\n",
       "  <th>Df Model:</th>              <td>     1</td>      <th>                     </th>     <td> </td>    \n",
       "</tr>\n",
       "<tr>\n",
       "  <th>Covariance Type:</th>      <td>nonrobust</td>    <th>                     </th>     <td> </td>    \n",
       "</tr>\n",
       "</table>\n",
       "<table class=\"simpletable\">\n",
       "<tr>\n",
       "            <td></td>              <th>coef</th>     <th>std err</th>      <th>t</th>      <th>P>|t|</th> <th>[95.0% Conf. Int.]</th> \n",
       "</tr>\n",
       "<tr>\n",
       "  <th>const</th>                <td> 5.397e+06</td> <td> 5.92e+05</td> <td>    9.120</td> <td> 0.000</td> <td> 4.24e+06  6.56e+06</td>\n",
       "</tr>\n",
       "<tr>\n",
       "  <th>opening_weekend_take</th> <td>    3.4734</td> <td>    0.036</td> <td>   97.581</td> <td> 0.000</td> <td>    3.404     3.543</td>\n",
       "</tr>\n",
       "</table>\n",
       "<table class=\"simpletable\">\n",
       "<tr>\n",
       "  <th>Omnibus:</th>       <td>4177.673</td> <th>  Durbin-Watson:     </th>  <td>   1.914</td> \n",
       "</tr>\n",
       "<tr>\n",
       "  <th>Prob(Omnibus):</th>  <td> 0.000</td>  <th>  Jarque-Bera (JB):  </th> <td>873313.507</td>\n",
       "</tr>\n",
       "<tr>\n",
       "  <th>Skew:</th>           <td> 5.909</td>  <th>  Prob(JB):          </th>  <td>    0.00</td> \n",
       "</tr>\n",
       "<tr>\n",
       "  <th>Kurtosis:</th>       <td>78.946</td>  <th>  Cond. No.          </th>  <td>1.97e+07</td> \n",
       "</tr>\n",
       "</table>"
      ],
      "text/plain": [
       "<class 'statsmodels.iolib.summary.Summary'>\n",
       "\"\"\"\n",
       "                            OLS Regression Results                            \n",
       "==============================================================================\n",
       "Dep. Variable:         domestic_gross   R-squared:                       0.729\n",
       "Model:                            OLS   Adj. R-squared:                  0.729\n",
       "Method:                 Least Squares   F-statistic:                     9522.\n",
       "Date:                Tue, 15 Sep 2015   Prob (F-statistic):               0.00\n",
<<<<<<< HEAD
       "Time:                        16:13:44   Log-Likelihood:                -66088.\n",
=======
       "Time:                        16:13:43   Log-Likelihood:                -66088.\n",
>>>>>>> 5a3707b4fb391782116a16bef20b4e8d1528d284
       "No. Observations:                3548   AIC:                         1.322e+05\n",
       "Df Residuals:                    3546   BIC:                         1.322e+05\n",
       "Df Model:                           1                                         \n",
       "Covariance Type:            nonrobust                                         \n",
       "========================================================================================\n",
       "                           coef    std err          t      P>|t|      [95.0% Conf. Int.]\n",
       "----------------------------------------------------------------------------------------\n",
       "const                 5.397e+06   5.92e+05      9.120      0.000      4.24e+06  6.56e+06\n",
       "opening_weekend_take     3.4734      0.036     97.581      0.000         3.404     3.543\n",
       "==============================================================================\n",
       "Omnibus:                     4177.673   Durbin-Watson:                   1.914\n",
       "Prob(Omnibus):                  0.000   Jarque-Bera (JB):           873313.507\n",
       "Skew:                           5.909   Prob(JB):                         0.00\n",
       "Kurtosis:                      78.946   Cond. No.                     1.97e+07\n",
       "==============================================================================\n",
       "\n",
       "Warnings:\n",
       "[1] Standard Errors assume that the covariance matrix of the errors is correctly specified.\n",
       "[2] The condition number is large, 1.97e+07. This might indicate that there are\n",
       "strong multicollinearity or other numerical problems.\n",
       "\"\"\""
      ]
     },
<<<<<<< HEAD
     "execution_count": 79,
=======
     "execution_count": 47,
>>>>>>> 5a3707b4fb391782116a16bef20b4e8d1528d284
     "metadata": {},
     "output_type": "execute_result"
    }
   ],
   "source": [
    "# tell me about yourself, model.\n",
    "linmodel.summary()"
   ]
  },
  {
   "cell_type": "code",
<<<<<<< HEAD
   "execution_count": 80,
=======
   "execution_count": 48,
>>>>>>> 5a3707b4fb391782116a16bef20b4e8d1528d284
   "metadata": {
    "collapsed": false
   },
   "outputs": [
    {
     "data": {
      "text/plain": [
<<<<<<< HEAD
       "<matplotlib.text.Text at 0x11cb5c18>"
      ]
     },
     "execution_count": 80,
=======
       "<matplotlib.text.Text at 0x10d39a310>"
      ]
     },
     "execution_count": 48,
>>>>>>> 5a3707b4fb391782116a16bef20b4e8d1528d284
     "metadata": {},
     "output_type": "execute_result"
    },
    {
     "data": {
<<<<<<< HEAD
      "image/png": "iVBORw0KGgoAAAANSUhEUgAAAYQAAAEZCAYAAACXRVJOAAAABHNCSVQICAgIfAhkiAAAAAlwSFlz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\nEBzHcRwA/j8tJFiZpxBPngAAAABJRU5ErkJggg==\n",
      "text/plain": [
       "<matplotlib.figure.Figure at 0x11ca50f0>"
=======
      "image/png": "iVBORw0KGgoAAAANSUhEUgAAAYMAAAEaCAYAAADzDTuZAAAABHNCSVQICAgIfAhkiAAAAAlwSFlz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\n",
      "text/plain": [
       "<matplotlib.figure.Figure at 0x10d387250>"
>>>>>>> 5a3707b4fb391782116a16bef20b4e8d1528d284
      ]
     },
     "metadata": {},
     "output_type": "display_data"
    }
   ],
   "source": [
<<<<<<< HEAD
    "plt.scatter(df.opening_weekend_take,df.domestic_gross, color='gray')\n",
    "predicted_gross = linmodel.predict()\n",
    "plt.plot(df.opening_weekend_take,predicted_gross)\n",
=======
    "plt.scatter(df.opening_weekend_take, df.domestic_gross,\n",
    "           color='gray')\n",
    "predicted_gross = linmodel.predict()\n",
    "plt.plot(df.opening_weekend_take, predicted_gross)\n",
>>>>>>> 5a3707b4fb391782116a16bef20b4e8d1528d284
    "\n",
    "plt.title(\"Opening Weekend Based Model for Domestic Gross\")\n",
    "plt.xlabel(\"Opening Weekend Take ($100M)\")\n",
    "plt.ylabel(\"Domestic Gross ($100M)\")"
   ]
  },
  {
   "cell_type": "code",
   "execution_count": null,
   "metadata": {
    "collapsed": false
   },
   "outputs": [],
   "source": [
    "# Mean squared error residuals?\n"
   ]
  },
  {
   "cell_type": "code",
   "execution_count": null,
   "metadata": {
    "collapsed": false
   },
   "outputs": [],
   "source": [
    "\n",
    "\n",
    "plt.title(\"Over/Under Prediction of Gross\")\n",
    "plt.xlabel(\"Actual Domestic Gross ($100M)\")\n",
    "plt.ylabel(\"Predicted Domestic Gross ($100M)\")"
   ]
  },
  {
   "cell_type": "code",
   "execution_count": null,
   "metadata": {
    "collapsed": false
   },
   "outputs": [],
   "source": [
    "\n",
    "\n",
    "\n",
    "plt.title('log fitted values vs residuals')\n",
    "plt.xlabel('log fitted values')\n",
    "plt.ylabel('residuals')"
   ]
  },
  {
   "cell_type": "markdown",
   "metadata": {},
   "source": [
    "### does log transform help?"
   ]
  },
  {
   "cell_type": "code",
   "execution_count": null,
   "metadata": {
    "collapsed": false
   },
   "outputs": [],
   "source": [
    "import numpy as np\n",
    "df = movies_df[['domestic_gross','opening_weekend_take']]\n",
    "\n"
   ]
  },
  {
   "cell_type": "code",
   "execution_count": null,
   "metadata": {
    "collapsed": false
   },
   "outputs": [],
   "source": [
    "df.head()"
   ]
  },
  {
   "cell_type": "code",
   "execution_count": null,
   "metadata": {
    "collapsed": false
   },
   "outputs": [],
   "source": [
    "\n",
    "plt.xlabel('log(opening weekend)')\n",
    "plt.ylabel('log(domestic gross)')"
   ]
  },
  {
   "cell_type": "code",
   "execution_count": null,
   "metadata": {
    "collapsed": false
   },
   "outputs": [],
   "source": [
    "# MODEL IT\n"
   ]
  },
  {
   "cell_type": "code",
   "execution_count": null,
   "metadata": {
    "collapsed": false
   },
   "outputs": [],
   "source": [
    "def residual_plot(model):\n",
    "    ???\n",
    "    \n",
    "residual_plot(linmodel_logs)"
   ]
  },
  {
   "cell_type": "code",
   "execution_count": null,
   "metadata": {
    "collapsed": false
   },
   "outputs": [],
   "source": [
    "movies_df['opening_week2'] = ???\n",
    "movies_df['log_domestic_gross'] = ???\n",
    "movies_df['log_opening_weekend'] = ???\n",
    "movies_df['log_opening_weekend2'] = ???\n",
    "\n",
    "columns = ['domestic_gross','log_domestic_gross','opening_weekend_take',\n",
    "           'opening_week2','log_opening_weekend','log_opening_weekend2']\n",
    "\n",
    "polydf = movies_df[columns].dropna()\n",
    "polydf.head()"
   ]
  },
  {
   "cell_type": "code",
   "execution_count": null,
   "metadata": {
    "collapsed": false
   },
   "outputs": [],
   "source": [
    "import statsmodels.formula.api as smf\n",
    "\n",
    "formula = ???\n",
    "quadmodel = ???\n",
    "quadmodel.summary()"
   ]
  },
  {
   "cell_type": "code",
   "execution_count": null,
   "metadata": {
    "collapsed": false
   },
   "outputs": [],
   "source": [
    "residual_plot(quadmodel)"
   ]
  },
  {
   "cell_type": "markdown",
   "metadata": {},
   "source": [
    "As soon as we have a more solid understanding of how to evaluate/compare different models, this process is figuring out the right model form: Which features, in what functional shapes, interacting how?"
   ]
  }
 ],
 "metadata": {
  "kernelspec": {
   "display_name": "Python 2",
   "language": "python",
   "name": "python2"
  },
  "language_info": {
   "codemirror_mode": {
    "name": "ipython",
    "version": 2
   },
   "file_extension": ".py",
   "mimetype": "text/x-python",
   "name": "python",
   "nbconvert_exporter": "python",
   "pygments_lexer": "ipython2",
   "version": "2.7.6"
  }
 },
 "nbformat": 4,
 "nbformat_minor": 0
}
