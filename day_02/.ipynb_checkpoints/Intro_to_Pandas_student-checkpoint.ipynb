{
 "cells": [
  {
   "cell_type": "markdown",
   "metadata": {},
   "source": [
    "# This goes at the top of your notebook/script"
   ]
  },
  {
   "cell_type": "code",
   "execution_count": 1,
   "metadata": {
    "collapsed": false
   },
   "outputs": [],
   "source": [
    "# makes plots show up in the notebook\n",
    "%matplotlib inline              \n",
    "\n",
    "import numpy as np              # a library for dealing with arrays/matrices of numbers\n",
    "import pandas as pd             # a bunch of convenient data structures and functions for data analysis\n",
    "import matplotlib.pyplot as plt # a library for drawing plots of data\n",
    "# import pyodbc\n",
    "# import seaborn as sns"
   ]
  },
  {
   "cell_type": "markdown",
   "metadata": {},
   "source": [
    "Why the short names? This is a convention lots of python people use, so you'll see it in tutorials and such. And the short names are convenient!"
   ]
  },
  {
   "cell_type": "markdown",
   "metadata": {},
   "source": [
    "## Pandas data structures"
   ]
  },
  {
   "cell_type": "markdown",
   "metadata": {},
   "source": [
    "### what is a Series?\n",
    "1-dimensional data storage"
   ]
  },
  {
   "cell_type": "code",
   "execution_count": 2,
   "metadata": {
    "collapsed": false
   },
   "outputs": [
    {
     "data": {
      "text/plain": [
       "0     3620\n",
       "1     7891\n",
       "2     9761\n",
       "3     3907\n",
       "4     4338\n",
       "5     5373\n",
       "6     8575\n",
       "7     7326\n",
       "8     9112\n",
       "9     7717\n",
       "10    8755\n",
       "11    1010\n",
       "12    5312\n",
       "13    7059\n",
       "dtype: int64"
      ]
     },
     "execution_count": 2,
     "metadata": {},
     "output_type": "execute_result"
    }
   ],
   "source": [
    "# data is from Brian's fitness tracking app\n",
    "step_data = [3620,7891,9761,3907,4338,5373,8575,7326,9112,7717,8755,1010,5312,7059]\n",
    "\n",
    "step_counts = pd.Series(step_data)\n",
    "step_counts"
   ]
  },
  {
   "cell_type": "markdown",
   "metadata": {},
   "source": [
    "### sounds like a list. how is it different?\n",
    "indexes don't have to be numbers! so it's also kind of like a dict..."
   ]
  },
  {
   "cell_type": "code",
   "execution_count": 4,
   "metadata": {
    "collapsed": false
   },
   "outputs": [
    {
     "data": {
      "text/plain": [
       "2015-03-27    3620\n",
       "2015-03-28    7891\n",
       "2015-03-29    9761\n",
       "2015-03-30    3907\n",
       "2015-03-31    4338\n",
       "2015-04-01    5373\n",
       "2015-04-02    8575\n",
       "2015-04-03    7326\n",
       "2015-04-04    9112\n",
       "2015-04-05    7717\n",
       "2015-04-06    8755\n",
       "2015-04-07    1010\n",
       "2015-04-08    5312\n",
       "2015-04-09    7059\n",
       "Freq: D, dtype: int64"
      ]
     },
     "execution_count": 4,
     "metadata": {},
     "output_type": "execute_result"
    }
   ],
   "source": [
    "step_counts.index = pd.date_range('20150327',periods =14)\n",
    "step_counts"
   ]
  },
  {
   "cell_type": "markdown",
   "metadata": {},
   "source": [
    "This is very convenient for plotting things! the labels are already baked in..."
   ]
  },
  {
   "cell_type": "code",
   "execution_count": 5,
   "metadata": {
    "collapsed": false
   },
   "outputs": [
    {
     "data": {
      "text/plain": [
       "<matplotlib.axes._subplots.AxesSubplot at 0xbf55940>"
      ]
     },
     "execution_count": 5,
     "metadata": {},
     "output_type": "execute_result"
    },
    {
     "data": {
      "image/png": "[encoded data removed]",
      "text/plain": [
       "<matplotlib.figure.Figure at 0x403cda0>"
      ]
     },
     "metadata": {},
     "output_type": "display_data"
    }
   ],
   "source": [
    "step_counts.plot()"
   ]
  },
  {
   "cell_type": "markdown",
   "metadata": {},
   "source": [
    "You can access and slice them like lists:"
   ]
  },
  {
   "cell_type": "code",
   "execution_count": 6,
   "metadata": {
    "collapsed": false
   },
   "outputs": [
    {
     "data": {
      "text/plain": [
       "2015-03-30    3907\n",
       "2015-03-31    4338\n",
       "2015-04-01    5373\n",
       "2015-04-02    8575\n",
       "Freq: D, dtype: int64"
      ]
     },
     "execution_count": 6,
     "metadata": {},
     "output_type": "execute_result"
    }
   ],
   "source": [
    "step_counts[3:7] #just want one week of data"
   ]
  },
  {
   "cell_type": "code",
   "execution_count": 10,
   "metadata": {
    "collapsed": false
   },
   "outputs": [
    {
     "data": {
      "text/plain": [
       "7891"
      ]
     },
     "execution_count": 10,
     "metadata": {},
     "output_type": "execute_result"
    }
   ],
   "source": [
    "step_counts[1] #access first element"
   ]
  },
  {
   "cell_type": "markdown",
   "metadata": {},
   "source": [
    "Or like dictionaries, using the index:"
   ]
  },
  {
   "cell_type": "code",
   "execution_count": 11,
   "metadata": {
    "collapsed": false
   },
   "outputs": [
    {
     "data": {
      "text/plain": [
       "8575"
      ]
     },
     "execution_count": 11,
     "metadata": {},
     "output_type": "execute_result"
    }
   ],
   "source": [
    "step_counts['2015-04-02']"
   ]
  },
  {
   "cell_type": "markdown",
   "metadata": {},
   "source": [
    "Some types of indexes, like dates, are smart:"
   ]
  },
  {
   "cell_type": "code",
   "execution_count": 12,
   "metadata": {
    "collapsed": false
   },
   "outputs": [
    {
     "data": {
      "text/plain": [
       "2015-04-01    5373\n",
       "2015-04-02    8575\n",
       "2015-04-03    7326\n",
       "2015-04-04    9112\n",
       "2015-04-05    7717\n",
       "2015-04-06    8755\n",
       "2015-04-07    1010\n",
       "2015-04-08    5312\n",
       "2015-04-09    7059\n",
       "Freq: D, dtype: int64"
      ]
     },
     "execution_count": 12,
     "metadata": {},
     "output_type": "execute_result"
    }
   ],
   "source": [
    "step_counts['2015-04'] #only look at april"
   ]
  },
  {
   "cell_type": "markdown",
   "metadata": {},
   "source": [
    "The Series also has some nice convenience functions, like `describe()`, `median()`, and more"
   ]
  },
  {
   "cell_type": "code",
   "execution_count": 13,
   "metadata": {
    "collapsed": false
   },
   "outputs": [
    {
     "data": {
      "text/plain": [
       "count      14.000000\n",
       "mean     6411.142857\n",
       "std      2536.826754\n",
       "min      1010.000000\n",
       "25%      4581.500000\n",
       "50%      7192.500000\n",
       "75%      8404.000000\n",
       "max      9761.000000\n",
       "dtype: float64"
      ]
     },
     "execution_count": 13,
     "metadata": {},
     "output_type": "execute_result"
    }
   ],
   "source": [
    "step_counts.describe()"
   ]
  },
  {
   "cell_type": "code",
   "execution_count": 14,
   "metadata": {
    "collapsed": false
   },
   "outputs": [
    {
     "data": {
      "text/plain": [
       "7192.5"
      ]
     },
     "execution_count": 14,
     "metadata": {},
     "output_type": "execute_result"
    }
   ],
   "source": [
    "step_counts.median()"
   ]
  },
  {
   "cell_type": "markdown",
   "metadata": {},
   "source": [
    "and it works with matplotlib to make plots with `plot()` (which we've already used) and histograms with `hist()`"
   ]
  },
  {
   "cell_type": "code",
   "execution_count": 15,
   "metadata": {
    "collapsed": false
   },
   "outputs": [
    {
     "data": {
      "text/plain": [
       "<matplotlib.axes._subplots.AxesSubplot at 0xc2a0b38>"
      ]
     },
     "execution_count": 15,
     "metadata": {},
     "output_type": "execute_result"
    },
    {
     "data": {
      "image/png": "[encoded data removed]",
      "text/plain": [
       "<matplotlib.figure.Figure at 0x403cc50>"
      ]
     },
     "metadata": {},
     "output_type": "display_data"
    }
   ],
   "source": [
    "step_counts.hist()"
   ]
  },
  {
   "cell_type": "markdown",
   "metadata": {},
   "source": [
    "## what is a DataFrame?\n",
    "2-dimensional data storage!\n",
    "Like a table, or a dict of Series"
   ]
  },
  {
   "cell_type": "code",
   "execution_count": 19,
   "metadata": {
    "collapsed": false
   },
   "outputs": [
    {
     "data": {
      "text/html": [
       "<div>\n",
       "<table border=\"1\" class=\"dataframe\">\n",
       "  <thead>\n",
       "    <tr style=\"text-align: right;\">\n",
       "      <th></th>\n",
       "      <th>0</th>\n",
       "      <th>1</th>\n",
       "    </tr>\n",
       "  </thead>\n",
       "  <tbody>\n",
       "    <tr>\n",
       "      <th>0</th>\n",
       "      <td>3620</td>\n",
       "      <td>10.7</td>\n",
       "    </tr>\n",
       "    <tr>\n",
       "      <th>1</th>\n",
       "      <td>7891</td>\n",
       "      <td>0.0</td>\n",
       "    </tr>\n",
       "    <tr>\n",
       "      <th>2</th>\n",
       "      <td>9761</td>\n",
       "      <td>0.0</td>\n",
       "    </tr>\n",
       "    <tr>\n",
       "      <th>3</th>\n",
       "      <td>3907</td>\n",
       "      <td>2.4</td>\n",
       "    </tr>\n",
       "    <tr>\n",
       "      <th>4</th>\n",
       "      <td>4338</td>\n",
       "      <td>15.3</td>\n",
       "    </tr>\n",
       "    <tr>\n",
       "      <th>5</th>\n",
       "      <td>5373</td>\n",
       "      <td>10.9</td>\n",
       "    </tr>\n",
       "    <tr>\n",
       "      <th>6</th>\n",
       "      <td>8575</td>\n",
       "      <td>0.0</td>\n",
       "    </tr>\n",
       "    <tr>\n",
       "      <th>7</th>\n",
       "      <td>7326</td>\n",
       "      <td>0.0</td>\n",
       "    </tr>\n",
       "    <tr>\n",
       "      <th>8</th>\n",
       "      <td>9112</td>\n",
       "      <td>0.0</td>\n",
       "    </tr>\n",
       "    <tr>\n",
       "      <th>9</th>\n",
       "      <td>7717</td>\n",
       "      <td>10.7</td>\n",
       "    </tr>\n",
       "    <tr>\n",
       "      <th>10</th>\n",
       "      <td>8755</td>\n",
       "      <td>66.5</td>\n",
       "    </tr>\n",
       "    <tr>\n",
       "      <th>11</th>\n",
       "      <td>1010</td>\n",
       "      <td>NaN</td>\n",
       "    </tr>\n",
       "    <tr>\n",
       "      <th>12</th>\n",
       "      <td>5312</td>\n",
       "      <td>NaN</td>\n",
       "    </tr>\n",
       "    <tr>\n",
       "      <th>13</th>\n",
       "      <td>7059</td>\n",
       "      <td>10.7</td>\n",
       "    </tr>\n",
       "  </tbody>\n",
       "</table>\n",
       "</div>"
      ],
      "text/plain": [
       "       0     1\n",
       "0   3620  10.7\n",
       "1   7891   0.0\n",
       "2   9761   0.0\n",
       "3   3907   2.4\n",
       "4   4338  15.3\n",
       "5   5373  10.9\n",
       "6   8575   0.0\n",
       "7   7326   0.0\n",
       "8   9112   0.0\n",
       "9   7717  10.7\n",
       "10  8755  66.5\n",
       "11  1010   NaN\n",
       "12  5312   NaN\n",
       "13  7059  10.7"
      ]
     },
     "execution_count": 19,
     "metadata": {},
     "output_type": "execute_result"
    }
   ],
   "source": [
    "cycling_data = [10.7,0,0,2.4,15.3,10.9,0,0,0,10.7,66.5,None,None,10.7]\n",
    "data = zip(step_data,cycling_data)\n",
    "activity_frame = pd.DataFrame(data)\n",
    "activity_frame"
   ]
  },
  {
   "cell_type": "markdown",
   "metadata": {},
   "source": [
    "### how is it different from a list of lists?\n",
    "indexes for both rows and columns— you can slice and dice the data both ways without flipping it"
   ]
  },
  {
   "cell_type": "code",
   "execution_count": 21,
   "metadata": {
    "collapsed": false
   },
   "outputs": [
    {
     "data": {
      "text/html": [
       "<div>\n",
       "<table border=\"1\" class=\"dataframe\">\n",
       "  <thead>\n",
       "    <tr style=\"text-align: right;\">\n",
       "      <th></th>\n",
       "      <th>Walking</th>\n",
       "      <th>Cycling</th>\n",
       "    </tr>\n",
       "  </thead>\n",
       "  <tbody>\n",
       "    <tr>\n",
       "      <th>2015-03-27</th>\n",
       "      <td>3620</td>\n",
       "      <td>10.7</td>\n",
       "    </tr>\n",
       "    <tr>\n",
       "      <th>2015-03-28</th>\n",
       "      <td>7891</td>\n",
       "      <td>0.0</td>\n",
       "    </tr>\n",
       "    <tr>\n",
       "      <th>2015-03-29</th>\n",
       "      <td>9761</td>\n",
       "      <td>0.0</td>\n",
       "    </tr>\n",
       "    <tr>\n",
       "      <th>2015-03-30</th>\n",
       "      <td>3907</td>\n",
       "      <td>2.4</td>\n",
       "    </tr>\n",
       "    <tr>\n",
       "      <th>2015-03-31</th>\n",
       "      <td>4338</td>\n",
       "      <td>15.3</td>\n",
       "    </tr>\n",
       "    <tr>\n",
       "      <th>2015-04-01</th>\n",
       "      <td>5373</td>\n",
       "      <td>10.9</td>\n",
       "    </tr>\n",
       "    <tr>\n",
       "      <th>2015-04-02</th>\n",
       "      <td>8575</td>\n",
       "      <td>0.0</td>\n",
       "    </tr>\n",
       "    <tr>\n",
       "      <th>2015-04-03</th>\n",
       "      <td>7326</td>\n",
       "      <td>0.0</td>\n",
       "    </tr>\n",
       "    <tr>\n",
       "      <th>2015-04-04</th>\n",
       "      <td>9112</td>\n",
       "      <td>0.0</td>\n",
       "    </tr>\n",
       "    <tr>\n",
       "      <th>2015-04-05</th>\n",
       "      <td>7717</td>\n",
       "      <td>10.7</td>\n",
       "    </tr>\n",
       "    <tr>\n",
       "      <th>2015-04-06</th>\n",
       "      <td>8755</td>\n",
       "      <td>66.5</td>\n",
       "    </tr>\n",
       "    <tr>\n",
       "      <th>2015-04-07</th>\n",
       "      <td>1010</td>\n",
       "      <td>NaN</td>\n",
       "    </tr>\n",
       "    <tr>\n",
       "      <th>2015-04-08</th>\n",
       "      <td>5312</td>\n",
       "      <td>NaN</td>\n",
       "    </tr>\n",
       "    <tr>\n",
       "      <th>2015-04-09</th>\n",
       "      <td>7059</td>\n",
       "      <td>10.7</td>\n",
       "    </tr>\n",
       "  </tbody>\n",
       "</table>\n",
       "</div>"
      ],
      "text/plain": [
       "            Walking  Cycling\n",
       "2015-03-27     3620     10.7\n",
       "2015-03-28     7891      0.0\n",
       "2015-03-29     9761      0.0\n",
       "2015-03-30     3907      2.4\n",
       "2015-03-31     4338     15.3\n",
       "2015-04-01     5373     10.9\n",
       "2015-04-02     8575      0.0\n",
       "2015-04-03     7326      0.0\n",
       "2015-04-04     9112      0.0\n",
       "2015-04-05     7717     10.7\n",
       "2015-04-06     8755     66.5\n",
       "2015-04-07     1010      NaN\n",
       "2015-04-08     5312      NaN\n",
       "2015-04-09     7059     10.7"
      ]
     },
     "execution_count": 21,
     "metadata": {},
     "output_type": "execute_result"
    }
   ],
   "source": [
    "activity_frame = pd.DataFrame(data,\n",
    "                             index=pd.date_range('20150327',periods=14),\n",
    "                             columns=['Walking','Cycling'])\n",
    "activity_frame\n"
   ]
  },
  {
   "cell_type": "code",
   "execution_count": 22,
   "metadata": {
    "collapsed": false
   },
   "outputs": [
    {
     "data": {
      "text/html": [
       "<div>\n",
       "<table border=\"1\" class=\"dataframe\">\n",
       "  <thead>\n",
       "    <tr style=\"text-align: right;\">\n",
       "      <th></th>\n",
       "      <th>Walking</th>\n",
       "      <th>Cycling</th>\n",
       "    </tr>\n",
       "  </thead>\n",
       "  <tbody>\n",
       "    <tr>\n",
       "      <th>2015-04-01</th>\n",
       "      <td>5373</td>\n",
       "      <td>10.9</td>\n",
       "    </tr>\n",
       "    <tr>\n",
       "      <th>2015-04-02</th>\n",
       "      <td>8575</td>\n",
       "      <td>0.0</td>\n",
       "    </tr>\n",
       "    <tr>\n",
       "      <th>2015-04-03</th>\n",
       "      <td>7326</td>\n",
       "      <td>0.0</td>\n",
       "    </tr>\n",
       "    <tr>\n",
       "      <th>2015-04-04</th>\n",
       "      <td>9112</td>\n",
       "      <td>0.0</td>\n",
       "    </tr>\n",
       "    <tr>\n",
       "      <th>2015-04-05</th>\n",
       "      <td>7717</td>\n",
       "      <td>10.7</td>\n",
       "    </tr>\n",
       "    <tr>\n",
       "      <th>2015-04-06</th>\n",
       "      <td>8755</td>\n",
       "      <td>66.5</td>\n",
       "    </tr>\n",
       "    <tr>\n",
       "      <th>2015-04-07</th>\n",
       "      <td>1010</td>\n",
       "      <td>NaN</td>\n",
       "    </tr>\n",
       "    <tr>\n",
       "      <th>2015-04-08</th>\n",
       "      <td>5312</td>\n",
       "      <td>NaN</td>\n",
       "    </tr>\n",
       "    <tr>\n",
       "      <th>2015-04-09</th>\n",
       "      <td>7059</td>\n",
       "      <td>10.7</td>\n",
       "    </tr>\n",
       "  </tbody>\n",
       "</table>\n",
       "</div>"
      ],
      "text/plain": [
       "            Walking  Cycling\n",
       "2015-04-01     5373     10.9\n",
       "2015-04-02     8575      0.0\n",
       "2015-04-03     7326      0.0\n",
       "2015-04-04     9112      0.0\n",
       "2015-04-05     7717     10.7\n",
       "2015-04-06     8755     66.5\n",
       "2015-04-07     1010      NaN\n",
       "2015-04-08     5312      NaN\n",
       "2015-04-09     7059     10.7"
      ]
     },
     "execution_count": 22,
     "metadata": {},
     "output_type": "execute_result"
    }
   ],
   "source": [
    "activity_frame['2015-04']"
   ]
  },
  {
   "cell_type": "code",
   "execution_count": 24,
   "metadata": {
    "collapsed": false
   },
   "outputs": [
    {
     "data": {
      "text/plain": [
       "2015-03-27    10.7\n",
       "2015-03-28     0.0\n",
       "2015-03-29     0.0\n",
       "2015-03-30     2.4\n",
       "2015-03-31    15.3\n",
       "2015-04-01    10.9\n",
       "2015-04-02     0.0\n",
       "2015-04-03     0.0\n",
       "2015-04-04     0.0\n",
       "2015-04-05    10.7\n",
       "2015-04-06    66.5\n",
       "2015-04-07     NaN\n",
       "2015-04-08     NaN\n",
       "2015-04-09    10.7\n",
       "Freq: D, Name: Cycling, dtype: float64"
      ]
     },
     "execution_count": 24,
     "metadata": {},
     "output_type": "execute_result"
    }
   ],
   "source": [
    "activity_frame['Cycling']"
   ]
  },
  {
   "cell_type": "code",
   "execution_count": 26,
   "metadata": {
    "collapsed": false
   },
   "outputs": [
    {
     "data": {
      "text/plain": [
       "66.5"
      ]
     },
     "execution_count": 26,
     "metadata": {},
     "output_type": "execute_result"
    }
   ],
   "source": [
    "activity_frame['Cycling']['2015-04-06']"
   ]
  },
  {
   "cell_type": "markdown",
   "metadata": {},
   "source": [
    "There are also some other cool ways to look things up like \"boolean indexes\":"
   ]
  },
  {
   "cell_type": "markdown",
   "metadata": {},
   "source": [
    "activity_frame[activity_frame.Cycling > 11]"
   ]
  },
  {
   "cell_type": "code",
   "execution_count": 27,
   "metadata": {
    "collapsed": false
   },
   "outputs": [
    {
     "data": {
      "text/html": [
       "<div>\n",
       "<table border=\"1\" class=\"dataframe\">\n",
       "  <thead>\n",
       "    <tr style=\"text-align: right;\">\n",
       "      <th></th>\n",
       "      <th>Walking</th>\n",
       "      <th>Cycling</th>\n",
       "    </tr>\n",
       "  </thead>\n",
       "  <tbody>\n",
       "    <tr>\n",
       "      <th>2015-03-31</th>\n",
       "      <td>4338</td>\n",
       "      <td>15.3</td>\n",
       "    </tr>\n",
       "    <tr>\n",
       "      <th>2015-04-06</th>\n",
       "      <td>8755</td>\n",
       "      <td>66.5</td>\n",
       "    </tr>\n",
       "  </tbody>\n",
       "</table>\n",
       "</div>"
      ],
      "text/plain": [
       "            Walking  Cycling\n",
       "2015-03-31     4338     15.3\n",
       "2015-04-06     8755     66.5"
      ]
     },
     "execution_count": 27,
     "metadata": {},
     "output_type": "execute_result"
    }
   ],
   "source": [
    "activity_frame[activity_frame.Cycling > 11]"
   ]
  },
  {
   "cell_type": "code",
   "execution_count": 28,
   "metadata": {
    "collapsed": false
   },
   "outputs": [
    {
     "data": {
      "text/html": [
       "<div>\n",
       "<table border=\"1\" class=\"dataframe\">\n",
       "  <thead>\n",
       "    <tr style=\"text-align: right;\">\n",
       "      <th></th>\n",
       "      <th>Walking</th>\n",
       "      <th>Cycling</th>\n",
       "    </tr>\n",
       "  </thead>\n",
       "  <tbody>\n",
       "    <tr>\n",
       "      <th>2015-03-27</th>\n",
       "      <td>3620</td>\n",
       "      <td>10.7</td>\n",
       "    </tr>\n",
       "    <tr>\n",
       "      <th>2015-03-31</th>\n",
       "      <td>4338</td>\n",
       "      <td>15.3</td>\n",
       "    </tr>\n",
       "    <tr>\n",
       "      <th>2015-04-03</th>\n",
       "      <td>7326</td>\n",
       "      <td>0.0</td>\n",
       "    </tr>\n",
       "    <tr>\n",
       "      <th>2015-04-04</th>\n",
       "      <td>9112</td>\n",
       "      <td>0.0</td>\n",
       "    </tr>\n",
       "    <tr>\n",
       "      <th>2015-04-07</th>\n",
       "      <td>1010</td>\n",
       "      <td>NaN</td>\n",
       "    </tr>\n",
       "    <tr>\n",
       "      <th>2015-04-08</th>\n",
       "      <td>5312</td>\n",
       "      <td>NaN</td>\n",
       "    </tr>\n",
       "  </tbody>\n",
       "</table>\n",
       "</div>"
      ],
      "text/plain": [
       "            Walking  Cycling\n",
       "2015-03-27     3620     10.7\n",
       "2015-03-31     4338     15.3\n",
       "2015-04-03     7326      0.0\n",
       "2015-04-04     9112      0.0\n",
       "2015-04-07     1010      NaN\n",
       "2015-04-08     5312      NaN"
      ]
     },
     "execution_count": 28,
     "metadata": {},
     "output_type": "execute_result"
    }
   ],
   "source": [
    "activity_frame[activity_frame.Walking % 2== 0]"
   ]
  },
  {
   "cell_type": "code",
   "execution_count": 29,
   "metadata": {
    "collapsed": false
   },
   "outputs": [
    {
     "data": {
      "text/html": [
       "<div>\n",
       "<table border=\"1\" class=\"dataframe\">\n",
       "  <thead>\n",
       "    <tr style=\"text-align: right;\">\n",
       "      <th></th>\n",
       "      <th>Walking</th>\n",
       "      <th>Cycling</th>\n",
       "    </tr>\n",
       "  </thead>\n",
       "  <tbody>\n",
       "    <tr>\n",
       "      <th>2015-03-27</th>\n",
       "      <td>3620</td>\n",
       "      <td>10.7</td>\n",
       "    </tr>\n",
       "    <tr>\n",
       "      <th>2015-04-05</th>\n",
       "      <td>7717</td>\n",
       "      <td>10.7</td>\n",
       "    </tr>\n",
       "    <tr>\n",
       "      <th>2015-04-09</th>\n",
       "      <td>7059</td>\n",
       "      <td>10.7</td>\n",
       "    </tr>\n",
       "  </tbody>\n",
       "</table>\n",
       "</div>"
      ],
      "text/plain": [
       "            Walking  Cycling\n",
       "2015-03-27     3620     10.7\n",
       "2015-04-05     7717     10.7\n",
       "2015-04-09     7059     10.7"
      ]
     },
     "execution_count": 29,
     "metadata": {},
     "output_type": "execute_result"
    }
   ],
   "source": [
    "activity_frame[activity_frame.Cycling == 10.7]"
   ]
  },
  {
   "cell_type": "markdown",
   "metadata": {},
   "source": [
    "You get the same niceties we already talked about: plotting, summaries, etc."
   ]
  },
  {
   "cell_type": "code",
   "execution_count": 30,
   "metadata": {
    "collapsed": false
   },
   "outputs": [
    {
     "data": {
      "text/html": [
       "<div>\n",
       "<table border=\"1\" class=\"dataframe\">\n",
       "  <thead>\n",
       "    <tr style=\"text-align: right;\">\n",
       "      <th></th>\n",
       "      <th>Walking</th>\n",
       "      <th>Cycling</th>\n",
       "    </tr>\n",
       "  </thead>\n",
       "  <tbody>\n",
       "    <tr>\n",
       "      <th>count</th>\n",
       "      <td>14.000000</td>\n",
       "      <td>12.000000</td>\n",
       "    </tr>\n",
       "    <tr>\n",
       "      <th>mean</th>\n",
       "      <td>6411.142857</td>\n",
       "      <td>10.600000</td>\n",
       "    </tr>\n",
       "    <tr>\n",
       "      <th>std</th>\n",
       "      <td>2536.826754</td>\n",
       "      <td>18.527768</td>\n",
       "    </tr>\n",
       "    <tr>\n",
       "      <th>min</th>\n",
       "      <td>1010.000000</td>\n",
       "      <td>0.000000</td>\n",
       "    </tr>\n",
       "    <tr>\n",
       "      <th>25%</th>\n",
       "      <td>4581.500000</td>\n",
       "      <td>0.000000</td>\n",
       "    </tr>\n",
       "    <tr>\n",
       "      <th>50%</th>\n",
       "      <td>7192.500000</td>\n",
       "      <td>6.550000</td>\n",
       "    </tr>\n",
       "    <tr>\n",
       "      <th>75%</th>\n",
       "      <td>8404.000000</td>\n",
       "      <td>10.750000</td>\n",
       "    </tr>\n",
       "    <tr>\n",
       "      <th>max</th>\n",
       "      <td>9761.000000</td>\n",
       "      <td>66.500000</td>\n",
       "    </tr>\n",
       "  </tbody>\n",
       "</table>\n",
       "</div>"
      ],
      "text/plain": [
       "           Walking    Cycling\n",
       "count    14.000000  12.000000\n",
       "mean   6411.142857  10.600000\n",
       "std    2536.826754  18.527768\n",
       "min    1010.000000   0.000000\n",
       "25%    4581.500000   0.000000\n",
       "50%    7192.500000   6.550000\n",
       "75%    8404.000000  10.750000\n",
       "max    9761.000000  66.500000"
      ]
     },
     "execution_count": 30,
     "metadata": {},
     "output_type": "execute_result"
    }
   ],
   "source": [
    "activity_frame.describe()"
   ]
  },
  {
   "cell_type": "code",
   "execution_count": 35,
   "metadata": {
    "collapsed": false
   },
   "outputs": [
    {
     "data": {
      "text/plain": [
       "array([[<matplotlib.axes._subplots.AxesSubplot object at 0x000000000D622F60>,\n",
       "        <matplotlib.axes._subplots.AxesSubplot object at 0x000000000D85B9B0>]], dtype=object)"
      ]
     },
     "execution_count": 35,
     "metadata": {},
     "output_type": "execute_result"
    },
    {
     "data": {
      "image/png": "[encoded data removed]",
      "text/plain": [
       "<matplotlib.figure.Figure at 0xd839128>"
      ]
     },
     "metadata": {},
     "output_type": "display_data"
    }
   ],
   "source": [
    "activity_frame.hist(xrot=45)"
   ]
  },
  {
   "cell_type": "code",
   "execution_count": 36,
   "metadata": {
    "collapsed": false
   },
   "outputs": [
    {
     "data": {
      "text/plain": [
       "array([<matplotlib.axes._subplots.AxesSubplot object at 0x000000000DA98630>,\n",
       "       <matplotlib.axes._subplots.AxesSubplot object at 0x000000000DD3CFD0>], dtype=object)"
      ]
     },
     "execution_count": 36,
     "metadata": {},
     "output_type": "execute_result"
    },
    {
     "data": {
      "image/png": "[encoded data removed]",
      "text/plain": [
       "<matplotlib.figure.Figure at 0xdab2cc0>"
      ]
     },
     "metadata": {},
     "output_type": "display_data"
    }
   ],
   "source": [
    "activity_frame.plot(subplots=True, title='Brain Activity')"
   ]
  },
  {
   "cell_type": "markdown",
   "metadata": {},
   "source": [
    "## WAIT\n",
    "That doesn't look right...\n",
    "\n",
    "One of the other things Pandas does well is dealing with missing data"
   ]
  },
  {
   "cell_type": "code",
   "execution_count": 40,
   "metadata": {
    "collapsed": false
   },
   "outputs": [
    {
     "data": {
      "text/plain": [
       "array([<matplotlib.axes._subplots.AxesSubplot object at 0x000000000E6C3A58>,\n",
       "       <matplotlib.axes._subplots.AxesSubplot object at 0x000000000E93DC88>], dtype=object)"
      ]
     },
     "execution_count": 40,
     "metadata": {},
     "output_type": "execute_result"
    },
    {
     "data": {
      "image/png": "[encoded data removed]",
      "text/plain": [
       "<matplotlib.figure.Figure at 0xe6c4cc0>"
      ]
     },
     "metadata": {},
     "output_type": "display_data"
    }
   ],
   "source": [
    "activity_frame.fillna(0).plot(subplots=True)"
   ]
  },
  {
   "cell_type": "markdown",
   "metadata": {},
   "source": [
    "You can also create new columns in the frame:"
   ]
  },
  {
   "cell_type": "code",
   "execution_count": 44,
   "metadata": {
    "collapsed": false
   },
   "outputs": [
    {
     "data": {
      "text/plain": [
       "2015-03-27    12.308889\n",
       "2015-03-28     3.507111\n",
       "2015-03-29     4.338222\n",
       "2015-03-30     4.136444\n",
       "2015-03-31    17.228000\n",
       "2015-04-01    13.288000\n",
       "2015-04-02     3.811111\n",
       "2015-04-03     3.256000\n",
       "2015-04-04     4.049778\n",
       "2015-04-05    14.129778\n",
       "2015-04-06    70.391111\n",
       "2015-04-07     0.448889\n",
       "2015-04-08     2.360889\n",
       "2015-04-09    13.837333\n",
       "Freq: D, dtype: float64"
      ]
     },
     "execution_count": 44,
     "metadata": {},
     "output_type": "execute_result"
    }
   ],
   "source": [
    "steps_in_a_mile = 2250\n",
    "activity_frame['Walking (Miles)'] = (activity_frame.Walking /\n",
    "                                     steps_in_a_mile)\n",
    "total=activity_frame.fillna(0).Cycling + activity_frame[\"Walking (Miles)\"]\n",
    "total"
   ]
  },
  {
   "cell_type": "code",
   "execution_count": 45,
   "metadata": {
    "collapsed": false
   },
   "outputs": [
    {
     "data": {
      "text/html": [
       "<div>\n",
       "<table border=\"1\" class=\"dataframe\">\n",
       "  <thead>\n",
       "    <tr style=\"text-align: right;\">\n",
       "      <th></th>\n",
       "      <th>Walking</th>\n",
       "      <th>Cycling</th>\n",
       "      <th>Walking (Miles)</th>\n",
       "      <th>Total Cycling Miles</th>\n",
       "    </tr>\n",
       "  </thead>\n",
       "  <tbody>\n",
       "    <tr>\n",
       "      <th>2015-03-27</th>\n",
       "      <td>3620</td>\n",
       "      <td>10.7</td>\n",
       "      <td>1.608889</td>\n",
       "      <td>12.308889</td>\n",
       "    </tr>\n",
       "    <tr>\n",
       "      <th>2015-03-28</th>\n",
       "      <td>7891</td>\n",
       "      <td>0.0</td>\n",
       "      <td>3.507111</td>\n",
       "      <td>3.507111</td>\n",
       "    </tr>\n",
       "    <tr>\n",
       "      <th>2015-03-29</th>\n",
       "      <td>9761</td>\n",
       "      <td>0.0</td>\n",
       "      <td>4.338222</td>\n",
       "      <td>4.338222</td>\n",
       "    </tr>\n",
       "    <tr>\n",
       "      <th>2015-03-30</th>\n",
       "      <td>3907</td>\n",
       "      <td>2.4</td>\n",
       "      <td>1.736444</td>\n",
       "      <td>4.136444</td>\n",
       "    </tr>\n",
       "    <tr>\n",
       "      <th>2015-03-31</th>\n",
       "      <td>4338</td>\n",
       "      <td>15.3</td>\n",
       "      <td>1.928000</td>\n",
       "      <td>17.228000</td>\n",
       "    </tr>\n",
       "    <tr>\n",
       "      <th>2015-04-01</th>\n",
       "      <td>5373</td>\n",
       "      <td>10.9</td>\n",
       "      <td>2.388000</td>\n",
       "      <td>13.288000</td>\n",
       "    </tr>\n",
       "    <tr>\n",
       "      <th>2015-04-02</th>\n",
       "      <td>8575</td>\n",
       "      <td>0.0</td>\n",
       "      <td>3.811111</td>\n",
       "      <td>3.811111</td>\n",
       "    </tr>\n",
       "    <tr>\n",
       "      <th>2015-04-03</th>\n",
       "      <td>7326</td>\n",
       "      <td>0.0</td>\n",
       "      <td>3.256000</td>\n",
       "      <td>3.256000</td>\n",
       "    </tr>\n",
       "    <tr>\n",
       "      <th>2015-04-04</th>\n",
       "      <td>9112</td>\n",
       "      <td>0.0</td>\n",
       "      <td>4.049778</td>\n",
       "      <td>4.049778</td>\n",
       "    </tr>\n",
       "    <tr>\n",
       "      <th>2015-04-05</th>\n",
       "      <td>7717</td>\n",
       "      <td>10.7</td>\n",
       "      <td>3.429778</td>\n",
       "      <td>14.129778</td>\n",
       "    </tr>\n",
       "    <tr>\n",
       "      <th>2015-04-06</th>\n",
       "      <td>8755</td>\n",
       "      <td>66.5</td>\n",
       "      <td>3.891111</td>\n",
       "      <td>70.391111</td>\n",
       "    </tr>\n",
       "    <tr>\n",
       "      <th>2015-04-07</th>\n",
       "      <td>1010</td>\n",
       "      <td>NaN</td>\n",
       "      <td>0.448889</td>\n",
       "      <td>0.448889</td>\n",
       "    </tr>\n",
       "    <tr>\n",
       "      <th>2015-04-08</th>\n",
       "      <td>5312</td>\n",
       "      <td>NaN</td>\n",
       "      <td>2.360889</td>\n",
       "      <td>2.360889</td>\n",
       "    </tr>\n",
       "    <tr>\n",
       "      <th>2015-04-09</th>\n",
       "      <td>7059</td>\n",
       "      <td>10.7</td>\n",
       "      <td>3.137333</td>\n",
       "      <td>13.837333</td>\n",
       "    </tr>\n",
       "  </tbody>\n",
       "</table>\n",
       "</div>"
      ],
      "text/plain": [
       "            Walking  Cycling  Walking (Miles)  Total Cycling Miles\n",
       "2015-03-27     3620     10.7         1.608889            12.308889\n",
       "2015-03-28     7891      0.0         3.507111             3.507111\n",
       "2015-03-29     9761      0.0         4.338222             4.338222\n",
       "2015-03-30     3907      2.4         1.736444             4.136444\n",
       "2015-03-31     4338     15.3         1.928000            17.228000\n",
       "2015-04-01     5373     10.9         2.388000            13.288000\n",
       "2015-04-02     8575      0.0         3.811111             3.811111\n",
       "2015-04-03     7326      0.0         3.256000             3.256000\n",
       "2015-04-04     9112      0.0         4.049778             4.049778\n",
       "2015-04-05     7717     10.7         3.429778            14.129778\n",
       "2015-04-06     8755     66.5         3.891111            70.391111\n",
       "2015-04-07     1010      NaN         0.448889             0.448889\n",
       "2015-04-08     5312      NaN         2.360889             2.360889\n",
       "2015-04-09     7059     10.7         3.137333            13.837333"
      ]
     },
     "execution_count": 45,
     "metadata": {},
     "output_type": "execute_result"
    }
   ],
   "source": [
    "activity_frame['Total Cycling Miles'] = total\n",
    "activity_frame\n"
   ]
  },
  {
   "cell_type": "markdown",
   "metadata": {},
   "source": [
    "Sort by any combination of columns:"
   ]
  },
  {
   "cell_type": "code",
   "execution_count": 46,
   "metadata": {
    "collapsed": false
   },
   "outputs": [
    {
     "data": {
      "text/html": [
       "<div>\n",
       "<table border=\"1\" class=\"dataframe\">\n",
       "  <thead>\n",
       "    <tr style=\"text-align: right;\">\n",
       "      <th></th>\n",
       "      <th>Walking</th>\n",
       "      <th>Cycling</th>\n",
       "      <th>Walking (Miles)</th>\n",
       "      <th>Total Cycling Miles</th>\n",
       "    </tr>\n",
       "  </thead>\n",
       "  <tbody>\n",
       "    <tr>\n",
       "      <th>2015-04-06</th>\n",
       "      <td>8755</td>\n",
       "      <td>66.5</td>\n",
       "      <td>3.891111</td>\n",
       "      <td>70.391111</td>\n",
       "    </tr>\n",
       "    <tr>\n",
       "      <th>2015-03-31</th>\n",
       "      <td>4338</td>\n",
       "      <td>15.3</td>\n",
       "      <td>1.928000</td>\n",
       "      <td>17.228000</td>\n",
       "    </tr>\n",
       "    <tr>\n",
       "      <th>2015-04-01</th>\n",
       "      <td>5373</td>\n",
       "      <td>10.9</td>\n",
       "      <td>2.388000</td>\n",
       "      <td>13.288000</td>\n",
       "    </tr>\n",
       "    <tr>\n",
       "      <th>2015-04-05</th>\n",
       "      <td>7717</td>\n",
       "      <td>10.7</td>\n",
       "      <td>3.429778</td>\n",
       "      <td>14.129778</td>\n",
       "    </tr>\n",
       "    <tr>\n",
       "      <th>2015-04-09</th>\n",
       "      <td>7059</td>\n",
       "      <td>10.7</td>\n",
       "      <td>3.137333</td>\n",
       "      <td>13.837333</td>\n",
       "    </tr>\n",
       "    <tr>\n",
       "      <th>2015-03-27</th>\n",
       "      <td>3620</td>\n",
       "      <td>10.7</td>\n",
       "      <td>1.608889</td>\n",
       "      <td>12.308889</td>\n",
       "    </tr>\n",
       "    <tr>\n",
       "      <th>2015-03-30</th>\n",
       "      <td>3907</td>\n",
       "      <td>2.4</td>\n",
       "      <td>1.736444</td>\n",
       "      <td>4.136444</td>\n",
       "    </tr>\n",
       "    <tr>\n",
       "      <th>2015-03-29</th>\n",
       "      <td>9761</td>\n",
       "      <td>0.0</td>\n",
       "      <td>4.338222</td>\n",
       "      <td>4.338222</td>\n",
       "    </tr>\n",
       "    <tr>\n",
       "      <th>2015-04-04</th>\n",
       "      <td>9112</td>\n",
       "      <td>0.0</td>\n",
       "      <td>4.049778</td>\n",
       "      <td>4.049778</td>\n",
       "    </tr>\n",
       "    <tr>\n",
       "      <th>2015-04-02</th>\n",
       "      <td>8575</td>\n",
       "      <td>0.0</td>\n",
       "      <td>3.811111</td>\n",
       "      <td>3.811111</td>\n",
       "    </tr>\n",
       "    <tr>\n",
       "      <th>2015-03-28</th>\n",
       "      <td>7891</td>\n",
       "      <td>0.0</td>\n",
       "      <td>3.507111</td>\n",
       "      <td>3.507111</td>\n",
       "    </tr>\n",
       "    <tr>\n",
       "      <th>2015-04-03</th>\n",
       "      <td>7326</td>\n",
       "      <td>0.0</td>\n",
       "      <td>3.256000</td>\n",
       "      <td>3.256000</td>\n",
       "    </tr>\n",
       "    <tr>\n",
       "      <th>2015-04-08</th>\n",
       "      <td>5312</td>\n",
       "      <td>NaN</td>\n",
       "      <td>2.360889</td>\n",
       "      <td>2.360889</td>\n",
       "    </tr>\n",
       "    <tr>\n",
       "      <th>2015-04-07</th>\n",
       "      <td>1010</td>\n",
       "      <td>NaN</td>\n",
       "      <td>0.448889</td>\n",
       "      <td>0.448889</td>\n",
       "    </tr>\n",
       "  </tbody>\n",
       "</table>\n",
       "</div>"
      ],
      "text/plain": [
       "            Walking  Cycling  Walking (Miles)  Total Cycling Miles\n",
       "2015-04-06     8755     66.5         3.891111            70.391111\n",
       "2015-03-31     4338     15.3         1.928000            17.228000\n",
       "2015-04-01     5373     10.9         2.388000            13.288000\n",
       "2015-04-05     7717     10.7         3.429778            14.129778\n",
       "2015-04-09     7059     10.7         3.137333            13.837333\n",
       "2015-03-27     3620     10.7         1.608889            12.308889\n",
       "2015-03-30     3907      2.4         1.736444             4.136444\n",
       "2015-03-29     9761      0.0         4.338222             4.338222\n",
       "2015-04-04     9112      0.0         4.049778             4.049778\n",
       "2015-04-02     8575      0.0         3.811111             3.811111\n",
       "2015-03-28     7891      0.0         3.507111             3.507111\n",
       "2015-04-03     7326      0.0         3.256000             3.256000\n",
       "2015-04-08     5312      NaN         2.360889             2.360889\n",
       "2015-04-07     1010      NaN         0.448889             0.448889"
      ]
     },
     "execution_count": 46,
     "metadata": {},
     "output_type": "execute_result"
    }
   ],
   "source": [
    "activity_frame.sort(['Cycling','Walking'],ascending=False)"
   ]
  },
  {
   "cell_type": "markdown",
   "metadata": {},
   "source": [
    "And transpose the table so columns and rows flip:"
   ]
  },
  {
   "cell_type": "code",
   "execution_count": 48,
   "metadata": {
    "collapsed": false,
    "scrolled": true
   },
   "outputs": [
    {
     "data": {
      "text/html": [
       "<div>\n",
       "<table border=\"1\" class=\"dataframe\">\n",
       "  <thead>\n",
       "    <tr style=\"text-align: right;\">\n",
       "      <th></th>\n",
       "      <th>Walking</th>\n",
       "      <th>Cycling</th>\n",
       "      <th>Walking (Miles)</th>\n",
       "      <th>Total Cycling Miles</th>\n",
       "    </tr>\n",
       "  </thead>\n",
       "  <tbody>\n",
       "    <tr>\n",
       "      <th>2015-03-28</th>\n",
       "      <td>7891</td>\n",
       "      <td>0.0</td>\n",
       "      <td>3.507111</td>\n",
       "      <td>3.507111</td>\n",
       "    </tr>\n",
       "    <tr>\n",
       "      <th>2015-03-29</th>\n",
       "      <td>9761</td>\n",
       "      <td>0.0</td>\n",
       "      <td>4.338222</td>\n",
       "      <td>4.338222</td>\n",
       "    </tr>\n",
       "    <tr>\n",
       "      <th>2015-03-30</th>\n",
       "      <td>3907</td>\n",
       "      <td>2.4</td>\n",
       "      <td>1.736444</td>\n",
       "      <td>4.136444</td>\n",
       "    </tr>\n",
       "    <tr>\n",
       "      <th>2015-04-02</th>\n",
       "      <td>8575</td>\n",
       "      <td>0.0</td>\n",
       "      <td>3.811111</td>\n",
       "      <td>3.811111</td>\n",
       "    </tr>\n",
       "    <tr>\n",
       "      <th>2015-04-03</th>\n",
       "      <td>7326</td>\n",
       "      <td>0.0</td>\n",
       "      <td>3.256000</td>\n",
       "      <td>3.256000</td>\n",
       "    </tr>\n",
       "    <tr>\n",
       "      <th>2015-04-04</th>\n",
       "      <td>9112</td>\n",
       "      <td>0.0</td>\n",
       "      <td>4.049778</td>\n",
       "      <td>4.049778</td>\n",
       "    </tr>\n",
       "  </tbody>\n",
       "</table>\n",
       "</div>"
      ],
      "text/plain": [
       "            Walking  Cycling  Walking (Miles)  Total Cycling Miles\n",
       "2015-03-28     7891      0.0         3.507111             3.507111\n",
       "2015-03-29     9761      0.0         4.338222             4.338222\n",
       "2015-03-30     3907      2.4         1.736444             4.136444\n",
       "2015-04-02     8575      0.0         3.811111             3.811111\n",
       "2015-04-03     7326      0.0         3.256000             3.256000\n",
       "2015-04-04     9112      0.0         4.049778             4.049778"
      ]
     },
     "execution_count": 48,
     "metadata": {},
     "output_type": "execute_result"
    }
   ],
   "source": [
    "activity_frame[activity_frame.Cycling<10]"
   ]
  },
  {
   "cell_type": "markdown",
   "metadata": {},
   "source": [
    "## These are the very basics\n",
    "We'll come across other things as the class goes on.\n",
    "And luckily, Pandas has pretty great [documentation](http://pandas.pydata.org/pandas-docs/stable/index.html)"
   ]
  }
 ],
 "metadata": {
  "kernelspec": {
   "display_name": "Python 2",
   "language": "python",
   "name": "python2"
  },
  "language_info": {
   "codemirror_mode": {
    "name": "ipython",
    "version": 2
   },
   "file_extension": ".py",
   "mimetype": "text/x-python",
   "name": "python",
   "nbconvert_exporter": "python",
   "pygments_lexer": "ipython2",
   "version": "2.7.6"
  }
 },
 "nbformat": 4,
 "nbformat_minor": 0
}
