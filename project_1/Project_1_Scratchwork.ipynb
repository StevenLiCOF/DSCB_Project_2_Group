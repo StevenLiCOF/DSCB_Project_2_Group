{
 "cells": [
  {
   "cell_type": "code",
   "execution_count": 2,
   "metadata": {
    "collapsed": false
   },
   "outputs": [
    {
     "name": "stdout",
     "output_type": "stream",
     "text": [
      "Parsed 3728 movies from 3728 files\n",
      "Parsed 4765 movies from 4767 files\n"
     ]
    }
   ],
   "source": [
    "import os\n",
    "import json\n",
    "from pprint import pprint\n",
    "\n",
    "MOJO_DIR = os.path.join('data','boxofficemojo') \n",
    "META_DIR = os.path.join('data','metacritic') \n",
    "def get_movies(directory):\n",
    "    '''Returns a list of dictionaries containing information in the\n",
    "    JSON files of the provided directory, and prints the number\n",
    "    of movies read'''\n",
    "    file_contents = os.listdir(directory)\n",
    "    movie_list=[]\n",
    "    for filename in file_contents:\n",
    "        filepath = os.path.join(directory, filename)\n",
    "        with open(filepath, 'r') as movie_file:\n",
    "            movie_data = json.load(movie_file)\n",
    "        if type(movie_data) == dict:\n",
    "            movie_list.append(movie_data)\n",
    "    print \"Parsed %i movies from %i files\" % (len(movie_list),\n",
    "                                              len(file_contents))\n",
    "    return movie_list\n",
    "mojomovies=get_movies(MOJO_DIR)\n",
    "metacriticmovies=get_movies(META_DIR)"
   ]
  },
  {
   "cell_type": "code",
   "execution_count": 3,
   "metadata": {
    "collapsed": false
   },
   "outputs": [],
   "source": [
    "from datetime import datetime\n",
    "\n",
    "for movie in mojomovies:\n",
    "    if movie['release_date_limited']:\n",
    "        movie['release_date_limited']=datetime.strptime(movie['release_date_limited'],'%Y-%m-%d').date()\n",
    "    if movie['release_date_wide']:\n",
    "        movie['release_date_wide']=datetime.strptime(movie['release_date_wide'],'%Y-%m-%d').date()"
   ]
  },
  {
   "cell_type": "code",
   "execution_count": 62,
   "metadata": {
    "collapsed": false
   },
   "outputs": [],
   "source": [
    "import numpy as np\n",
    "import pandas as pd\n",
    "\n",
    "mojo_df = pd.DataFrame(mojomovies)\n",
    "meta_df = pd.DataFrame(metacriticmovies)"
   ]
  },
  {
   "cell_type": "code",
   "execution_count": 70,
   "metadata": {
    "collapsed": false
   },
   "outputs": [],
   "source": [
    "merged_df = pd.merge(meta_df, mojo_df, how='outer', on='title')"
   ]
  },
  {
   "cell_type": "code",
   "execution_count": 1,
   "metadata": {
    "collapsed": false
   },
   "outputs": [
    {
     "ename": "NameError",
     "evalue": "name 'mojo_df' is not defined",
     "output_type": "error",
     "traceback": [
      "\u001b[1;31m---------------------------------------------------------------------------\u001b[0m",
      "\u001b[1;31mNameError\u001b[0m                                 Traceback (most recent call last)",
      "\u001b[1;32m<ipython-input-1-0544fa88c897>\u001b[0m in \u001b[0;36m<module>\u001b[1;34m()\u001b[0m\n\u001b[1;32m----> 1\u001b[1;33m \u001b[1;32mprint\u001b[0m \u001b[0mmojo_df\u001b[0m\u001b[1;33m.\u001b[0m\u001b[0mshape\u001b[0m\u001b[1;33m\u001b[0m\u001b[0m\n\u001b[0m\u001b[0;32m      2\u001b[0m \u001b[1;32mprint\u001b[0m \u001b[0mmeta_df\u001b[0m\u001b[1;33m.\u001b[0m\u001b[0mshape\u001b[0m\u001b[1;33m\u001b[0m\u001b[0m\n\u001b[0;32m      3\u001b[0m \u001b[1;32mprint\u001b[0m \u001b[0mmerged_df\u001b[0m\u001b[1;33m.\u001b[0m\u001b[0mshape\u001b[0m\u001b[1;33m\u001b[0m\u001b[0m\n",
      "\u001b[1;31mNameError\u001b[0m: name 'mojo_df' is not defined"
     ]
    }
   ],
   "source": [
    "print mojo_df.shape\n",
    "print meta_df.shape\n",
    "print merged_df.shape"
   ]
  },
  {
   "cell_type": "code",
   "execution_count": 82,
   "metadata": {
    "collapsed": false
   },
   "outputs": [
    {
     "name": "stdout",
     "output_type": "stream",
     "text": [
      "[u'alt_title' u'director' u'domestic_gross' u'mojo_slug'\n",
      " u'opening_per_theater' u'opening_weekend_take' u'production_budget'\n",
      " u'release_date_limited' u'release_date_wide' u'title' u'widest_release'\n",
      " u'worldwide_gross' u'year']\n",
      "[u'complete' u'director' u'genre' u'metacritic_page' u'metascore'\n",
      " u'num_critic_reviews' u'num_user_ratings' u'num_user_reviews' u'rating'\n",
      " u'release_date' u'runtime_minutes' u'studio' u'title'\n",
      " u'unable to retrieve' u'user_score' u'year']\n",
      "[u'complete' u'director_x' u'genre' u'metacritic_page' u'metascore'\n",
      " u'num_critic_reviews' u'num_user_ratings' u'num_user_reviews' u'rating'\n",
      " u'release_date' u'runtime_minutes' u'studio' u'title'\n",
      " u'unable to retrieve' u'user_score' u'year_x' u'alt_title' u'director_y'\n",
      " u'domestic_gross' u'mojo_slug' u'opening_per_theater'\n",
      " u'opening_weekend_take' u'production_budget' u'release_date_limited'\n",
      " u'release_date_wide' u'widest_release' u'worldwide_gross' u'year_y']\n"
     ]
    }
   ],
   "source": [
    "print mojo_df.columns.values\n",
    "print meta_df.columns.values\n",
    "print merged_df.columns.values"
   ]
  },
  {
   "cell_type": "code",
   "execution_count": 20,
   "metadata": {
    "collapsed": false
   },
   "outputs": [
    {
     "data": {
      "text/plain": [
       "pandas.core.frame.DataFrame"
      ]
     },
     "execution_count": 20,
     "metadata": {},
     "output_type": "execute_result"
    }
   ],
   "source": [
    "type(mojo_df)"
   ]
  },
  {
   "cell_type": "code",
   "execution_count": 21,
   "metadata": {
    "collapsed": false
   },
   "outputs": [
    {
     "ename": "NameError",
     "evalue": "name 'meta_df' is not defined",
     "output_type": "error",
     "traceback": [
      "\u001b[1;31m---------------------------------------------------------------------------\u001b[0m",
      "\u001b[1;31mNameError\u001b[0m                                 Traceback (most recent call last)",
      "\u001b[1;32m<ipython-input-21-043382b57826>\u001b[0m in \u001b[0;36m<module>\u001b[1;34m()\u001b[0m\n\u001b[1;32m----> 1\u001b[1;33m \u001b[0mtype\u001b[0m\u001b[1;33m(\u001b[0m\u001b[0mmeta_df\u001b[0m\u001b[1;33m)\u001b[0m\u001b[1;33m\u001b[0m\u001b[0m\n\u001b[0m",
      "\u001b[1;31mNameError\u001b[0m: name 'meta_df' is not defined"
     ]
    }
   ],
   "source": [
    "type(meta_df)"
   ]
  },
  {
   "cell_type": "code",
   "execution_count": null,
   "metadata": {
    "collapsed": true
   },
   "outputs": [],
   "source": []
  }
 ],
 "metadata": {
  "kernelspec": {
   "display_name": "Python 2",
   "language": "python",
   "name": "python2"
  },
  "language_info": {
   "codemirror_mode": {
    "name": "ipython",
    "version": 2
   },
   "file_extension": ".py",
   "mimetype": "text/x-python",
   "name": "python",
   "nbconvert_exporter": "python",
   "pygments_lexer": "ipython2",
   "version": "2.7.6"
  }
 },
 "nbformat": 4,
 "nbformat_minor": 0
}
