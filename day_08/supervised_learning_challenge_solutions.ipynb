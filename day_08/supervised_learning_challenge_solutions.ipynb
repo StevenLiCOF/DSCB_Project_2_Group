{
 "cells": [
  {
   "cell_type": "code",
   "execution_count": 1,
   "metadata": {
    "collapsed": false
   },
   "outputs": [],
   "source": [
    "%matplotlib inline\n",
    "import pandas as pd\n",
    "import numpy as np\n",
    "from datetime import datetime\n",
    "import matplotlib.pyplot as plt\n",
    "import seaborn as sns"
   ]
  },
  {
   "cell_type": "markdown",
   "metadata": {},
   "source": [
    "###Challenge 1\n",
    "\n",
    "Load the data into a pandas dataframe. Replace 'y's with 1s, 'n's with 0s.\n",
    "Now, almost every representative has a ?. This represents a no vote (they were absent or some other similar reason). If we dropped all the rows that had a ?, we would throw out most of our data. Instead, we will replace ? with the best guess in the Bayesian sense: in the absence of any other information, we will say that the probability of the representative saying YES is the ratio of others that said YES over the whole votes.  \n",
    "So, convert each ? to this probability (when yes=1 and no=0, this is the mean of the column)"
   ]
  },
  {
   "cell_type": "code",
   "execution_count": 9,
   "metadata": {
    "collapsed": false
   },
   "outputs": [
    {
     "data": {
      "text/html": [
       "<div style=\"max-height:1000px;max-width:1500px;overflow:auto;\">\n",
       "<table border=\"1\" class=\"dataframe\">\n",
       "  <thead>\n",
       "    <tr style=\"text-align: right;\">\n",
       "      <th></th>\n",
       "      <th>0</th>\n",
       "      <th>1</th>\n",
       "      <th>2</th>\n",
       "      <th>3</th>\n",
       "      <th>4</th>\n",
       "      <th>5</th>\n",
       "      <th>6</th>\n",
       "      <th>7</th>\n",
       "      <th>8</th>\n",
       "      <th>9</th>\n",
       "      <th>10</th>\n",
       "      <th>11</th>\n",
       "      <th>12</th>\n",
       "      <th>13</th>\n",
       "      <th>14</th>\n",
       "      <th>15</th>\n",
       "      <th>16</th>\n",
       "    </tr>\n",
       "  </thead>\n",
       "  <tbody>\n",
       "    <tr>\n",
       "      <th>0</th>\n",
       "      <td> republican</td>\n",
       "      <td> n</td>\n",
       "      <td> y</td>\n",
       "      <td> n</td>\n",
       "      <td> y</td>\n",
       "      <td> y</td>\n",
       "      <td> y</td>\n",
       "      <td> n</td>\n",
       "      <td> n</td>\n",
       "      <td> n</td>\n",
       "      <td> y</td>\n",
       "      <td> ?</td>\n",
       "      <td> y</td>\n",
       "      <td> y</td>\n",
       "      <td> y</td>\n",
       "      <td> n</td>\n",
       "      <td> y</td>\n",
       "    </tr>\n",
       "    <tr>\n",
       "      <th>1</th>\n",
       "      <td> republican</td>\n",
       "      <td> n</td>\n",
       "      <td> y</td>\n",
       "      <td> n</td>\n",
       "      <td> y</td>\n",
       "      <td> y</td>\n",
       "      <td> y</td>\n",
       "      <td> n</td>\n",
       "      <td> n</td>\n",
       "      <td> n</td>\n",
       "      <td> n</td>\n",
       "      <td> n</td>\n",
       "      <td> y</td>\n",
       "      <td> y</td>\n",
       "      <td> y</td>\n",
       "      <td> n</td>\n",
       "      <td> ?</td>\n",
       "    </tr>\n",
       "    <tr>\n",
       "      <th>2</th>\n",
       "      <td>   democrat</td>\n",
       "      <td> ?</td>\n",
       "      <td> y</td>\n",
       "      <td> y</td>\n",
       "      <td> ?</td>\n",
       "      <td> y</td>\n",
       "      <td> y</td>\n",
       "      <td> n</td>\n",
       "      <td> n</td>\n",
       "      <td> n</td>\n",
       "      <td> n</td>\n",
       "      <td> y</td>\n",
       "      <td> n</td>\n",
       "      <td> y</td>\n",
       "      <td> y</td>\n",
       "      <td> n</td>\n",
       "      <td> n</td>\n",
       "    </tr>\n",
       "    <tr>\n",
       "      <th>3</th>\n",
       "      <td>   democrat</td>\n",
       "      <td> n</td>\n",
       "      <td> y</td>\n",
       "      <td> y</td>\n",
       "      <td> n</td>\n",
       "      <td> ?</td>\n",
       "      <td> y</td>\n",
       "      <td> n</td>\n",
       "      <td> n</td>\n",
       "      <td> n</td>\n",
       "      <td> n</td>\n",
       "      <td> y</td>\n",
       "      <td> n</td>\n",
       "      <td> y</td>\n",
       "      <td> n</td>\n",
       "      <td> n</td>\n",
       "      <td> y</td>\n",
       "    </tr>\n",
       "    <tr>\n",
       "      <th>4</th>\n",
       "      <td>   democrat</td>\n",
       "      <td> y</td>\n",
       "      <td> y</td>\n",
       "      <td> y</td>\n",
       "      <td> n</td>\n",
       "      <td> y</td>\n",
       "      <td> y</td>\n",
       "      <td> n</td>\n",
       "      <td> n</td>\n",
       "      <td> n</td>\n",
       "      <td> n</td>\n",
       "      <td> y</td>\n",
       "      <td> ?</td>\n",
       "      <td> y</td>\n",
       "      <td> y</td>\n",
       "      <td> y</td>\n",
       "      <td> y</td>\n",
       "    </tr>\n",
       "  </tbody>\n",
       "</table>\n",
       "</div>"
      ],
      "text/plain": [
       "           0  1  2  3  4  5  6  7  8  9  10 11 12 13 14 15 16\n",
       "0  republican  n  y  n  y  y  y  n  n  n  y  ?  y  y  y  n  y\n",
       "1  republican  n  y  n  y  y  y  n  n  n  n  n  y  y  y  n  ?\n",
       "2    democrat  ?  y  y  ?  y  y  n  n  n  n  y  n  y  y  n  n\n",
       "3    democrat  n  y  y  n  ?  y  n  n  n  n  y  n  y  n  n  y\n",
       "4    democrat  y  y  y  n  y  y  n  n  n  n  y  ?  y  y  y  y"
      ]
     },
     "execution_count": 9,
     "metadata": {},
     "output_type": "execute_result"
    }
   ],
   "source": [
    "representatives = pd.read_csv(\"house-votes-84.csv\", header=None)\n",
    "\n",
    "representatives.head()"
   ]
  },
  {
   "cell_type": "markdown",
   "metadata": {},
   "source": [
    "#####Columns:\n",
    "0. party: 2 (republican, democrat)\n",
    "2. handicapped-infants: 2 (y,n)\n",
    "3. water-project-cost-sharing: 2 (y,n)\n",
    "4. adoption-of-the-budget-resolution: 2 (y,n)\n",
    "5. physician-fee-freeze: 2 (y,n)\n",
    "6. el-salvador-aid: 2 (y,n)\n",
    "7. religious-groups-in-schools: 2 (y,n)\n",
    "8. anti-satellite-test-ban: 2 (y,n)\n",
    "9. aid-to-nicaraguan-contras: 2 (y,n)\n",
    "10. mx-missile: 2 (y,n)\n",
    "11. immigration: 2 (y,n)\n",
    "12. synfuels-corporation-cutback: 2 (y,n)\n",
    "13. education-spending: 2 (y,n)\n",
    "14. superfund-right-to-sue: 2 (y,n)\n",
    "15. crime: 2 (y,n)\n",
    "16. duty-free-exports: 2 (y,n)\n",
    "17. export-administration-act-south-africa: 2 (y,n)"
   ]
  },
  {
   "cell_type": "code",
   "execution_count": 10,
   "metadata": {
    "collapsed": false
   },
   "outputs": [
    {
     "data": {
      "text/html": [
       "<div style=\"max-height:1000px;max-width:1500px;overflow:auto;\">\n",
       "<table border=\"1\" class=\"dataframe\">\n",
       "  <thead>\n",
       "    <tr style=\"text-align: right;\">\n",
       "      <th></th>\n",
       "      <th>0</th>\n",
       "      <th>1</th>\n",
       "      <th>2</th>\n",
       "      <th>3</th>\n",
       "      <th>4</th>\n",
       "      <th>5</th>\n",
       "      <th>6</th>\n",
       "      <th>7</th>\n",
       "      <th>8</th>\n",
       "      <th>9</th>\n",
       "      <th>10</th>\n",
       "      <th>11</th>\n",
       "      <th>12</th>\n",
       "      <th>13</th>\n",
       "      <th>14</th>\n",
       "      <th>15</th>\n",
       "      <th>16</th>\n",
       "    </tr>\n",
       "  </thead>\n",
       "  <tbody>\n",
       "    <tr>\n",
       "      <th>0</th>\n",
       "      <td> republican</td>\n",
       "      <td> 0.00000</td>\n",
       "      <td> 1</td>\n",
       "      <td> 0</td>\n",
       "      <td> 1.000000</td>\n",
       "      <td> 1.000000</td>\n",
       "      <td> 1</td>\n",
       "      <td> 0</td>\n",
       "      <td> 0</td>\n",
       "      <td> 0</td>\n",
       "      <td> 1</td>\n",
       "      <td> 0.362319</td>\n",
       "      <td> 1.000000</td>\n",
       "      <td> 1</td>\n",
       "      <td> 1</td>\n",
       "      <td> 0</td>\n",
       "      <td> 1.000000</td>\n",
       "    </tr>\n",
       "    <tr>\n",
       "      <th>1</th>\n",
       "      <td> republican</td>\n",
       "      <td> 0.00000</td>\n",
       "      <td> 1</td>\n",
       "      <td> 0</td>\n",
       "      <td> 1.000000</td>\n",
       "      <td> 1.000000</td>\n",
       "      <td> 1</td>\n",
       "      <td> 0</td>\n",
       "      <td> 0</td>\n",
       "      <td> 0</td>\n",
       "      <td> 0</td>\n",
       "      <td> 0.000000</td>\n",
       "      <td> 1.000000</td>\n",
       "      <td> 1</td>\n",
       "      <td> 1</td>\n",
       "      <td> 0</td>\n",
       "      <td> 0.812689</td>\n",
       "    </tr>\n",
       "    <tr>\n",
       "      <th>2</th>\n",
       "      <td>   democrat</td>\n",
       "      <td> 0.44208</td>\n",
       "      <td> 1</td>\n",
       "      <td> 1</td>\n",
       "      <td> 0.417453</td>\n",
       "      <td> 1.000000</td>\n",
       "      <td> 1</td>\n",
       "      <td> 0</td>\n",
       "      <td> 0</td>\n",
       "      <td> 0</td>\n",
       "      <td> 0</td>\n",
       "      <td> 1.000000</td>\n",
       "      <td> 0.000000</td>\n",
       "      <td> 1</td>\n",
       "      <td> 1</td>\n",
       "      <td> 0</td>\n",
       "      <td> 0.000000</td>\n",
       "    </tr>\n",
       "    <tr>\n",
       "      <th>3</th>\n",
       "      <td>   democrat</td>\n",
       "      <td> 0.00000</td>\n",
       "      <td> 1</td>\n",
       "      <td> 1</td>\n",
       "      <td> 0.000000</td>\n",
       "      <td> 0.504762</td>\n",
       "      <td> 1</td>\n",
       "      <td> 0</td>\n",
       "      <td> 0</td>\n",
       "      <td> 0</td>\n",
       "      <td> 0</td>\n",
       "      <td> 1.000000</td>\n",
       "      <td> 0.000000</td>\n",
       "      <td> 1</td>\n",
       "      <td> 0</td>\n",
       "      <td> 0</td>\n",
       "      <td> 1.000000</td>\n",
       "    </tr>\n",
       "    <tr>\n",
       "      <th>4</th>\n",
       "      <td>   democrat</td>\n",
       "      <td> 1.00000</td>\n",
       "      <td> 1</td>\n",
       "      <td> 1</td>\n",
       "      <td> 0.000000</td>\n",
       "      <td> 1.000000</td>\n",
       "      <td> 1</td>\n",
       "      <td> 0</td>\n",
       "      <td> 0</td>\n",
       "      <td> 0</td>\n",
       "      <td> 0</td>\n",
       "      <td> 1.000000</td>\n",
       "      <td> 0.423267</td>\n",
       "      <td> 1</td>\n",
       "      <td> 1</td>\n",
       "      <td> 1</td>\n",
       "      <td> 1.000000</td>\n",
       "    </tr>\n",
       "  </tbody>\n",
       "</table>\n",
       "</div>"
      ],
      "text/plain": [
       "           0        1   2   3         4         5   6   7   8   9   10  \\\n",
       "0  republican  0.00000   1   0  1.000000  1.000000   1   0   0   0   1   \n",
       "1  republican  0.00000   1   0  1.000000  1.000000   1   0   0   0   0   \n",
       "2    democrat  0.44208   1   1  0.417453  1.000000   1   0   0   0   0   \n",
       "3    democrat  0.00000   1   1  0.000000  0.504762   1   0   0   0   0   \n",
       "4    democrat  1.00000   1   1  0.000000  1.000000   1   0   0   0   0   \n",
       "\n",
       "         11        12  13  14  15        16  \n",
       "0  0.362319  1.000000   1   1   0  1.000000  \n",
       "1  0.000000  1.000000   1   1   0  0.812689  \n",
       "2  1.000000  0.000000   1   1   0  0.000000  \n",
       "3  1.000000  0.000000   1   0   0  1.000000  \n",
       "4  1.000000  0.423267   1   1   1  1.000000  "
      ]
     },
     "execution_count": 10,
     "metadata": {},
     "output_type": "execute_result"
    }
   ],
   "source": [
    "representatives = representatives.replace('y',1)\n",
    "representatives = representatives.replace('n',0)\n",
    "representatives = representatives.replace('?',np.nan)\n",
    "\n",
    "#replace ? values with the column mean\n",
    "for column in range(1,17):\n",
    "    colmean = representatives[column].mean()\n",
    "    representatives.loc[np.isnan(representatives[column]), column] = colmean\n",
    "\n",
    "representatives.head()"
   ]
  },
  {
   "cell_type": "markdown",
   "metadata": {},
   "source": [
    "###Challenge 2\n",
    "\n",
    "Split the data into a test and training set. Use this function: `from sklearn.cross_validation import train_test_split`"
   ]
  },
  {
   "cell_type": "code",
   "execution_count": 11,
   "metadata": {
    "collapsed": false
   },
   "outputs": [],
   "source": [
    "from sklearn.cross_validation import train_test_split\n",
    "\n",
    "X = representatives[range(1,17)]\n",
    "Y = representatives[0]\n",
    "\n",
    "X_train, X_test, Y_train, Y_test = train_test_split(X,Y, test_size=.30, random_state=4444)"
   ]
  },
  {
   "cell_type": "markdown",
   "metadata": {},
   "source": [
    "### Challenge 3\n",
    "\n",
    "Using scikit.learn's KNN algorithm, train a model that predicts the party (republican/democrat) from sklearn.neighbors import KNeighborsClassifier\n",
    "\n",
    "Try it with a lot of different k values (number of neighbors), from 1 to 20, and on the test set calculate the accuracy (number of correct predictions / number of all predictions) for each k\n",
    "\n",
    "You can use this to calculate accuracy: from sklearn.metrics import accuracy_score\n",
    "\n",
    "Which k value gives the highest accuracy?"
   ]
  },
  {
   "cell_type": "code",
   "execution_count": 12,
   "metadata": {
    "collapsed": false
   },
   "outputs": [
    {
     "name": "stdout",
     "output_type": "stream",
     "text": [
      "0.16.1\n"
     ]
    }
   ],
   "source": [
    "import sklearn\n",
    "print sklearn.__version__"
   ]
  },
  {
   "cell_type": "code",
   "execution_count": 13,
   "metadata": {
    "collapsed": false
   },
   "outputs": [
    {
     "name": "stdout",
     "output_type": "stream",
     "text": [
      "KNN (n=1) accuracy: 0.9008\n",
      "KNN (n=2) accuracy: 0.8931\n",
      "KNN (n=3) accuracy: 0.9008\n",
      "KNN (n=4) accuracy: 0.9008\n",
      "KNN (n=5) accuracy: 0.9160\n",
      "KNN (n=6) accuracy: 0.9313\n",
      "KNN (n=7) accuracy: 0.9160\n",
      "KNN (n=8) accuracy: 0.9237\n",
      "KNN (n=9) accuracy: 0.9313\n",
      "KNN (n=10) accuracy: 0.9313\n",
      "KNN (n=11) accuracy: 0.9237\n",
      "KNN (n=12) accuracy: 0.9237\n",
      "KNN (n=13) accuracy: 0.9237\n",
      "KNN (n=14) accuracy: 0.9237\n",
      "KNN (n=15) accuracy: 0.9237\n",
      "KNN (n=16) accuracy: 0.9237\n",
      "KNN (n=17) accuracy: 0.9237\n",
      "KNN (n=18) accuracy: 0.9160\n",
      "KNN (n=19) accuracy: 0.9160\n",
      "KNN max accuracy: 0.9313\n"
     ]
    },
    {
     "data": {
      "text/plain": [
       "<matplotlib.text.Text at 0x108422f90>"
      ]
     },
     "execution_count": 13,
     "metadata": {},
     "output_type": "execute_result"
    },
    {
     "data": {
      "image/png": "[encoded data removed]",
      "text/plain": [
       "<matplotlib.figure.Figure at 0x107dca650>"
      ]
     },
     "metadata": {},
     "output_type": "display_data"
    }
   ],
   "source": [
    "from sklearn.metrics import accuracy_score\n",
    "from sklearn.neighbors import KNeighborsClassifier\n",
    "\n",
    "accs = []\n",
    "for n in range(1,20):\n",
    "    model = KNeighborsClassifier(n_neighbors=n).fit(X_train,Y_train)\n",
    "    Y_test_pred = model.predict(X_test)\n",
    "    accuracy = accuracy_score(Y_test, Y_test_pred)\n",
    "    accs.append(accuracy)\n",
    "    print 'KNN (n=%i) accuracy: %.4f' % (n,accuracy)\n",
    "\n",
    "print 'KNN max accuracy: %.4f' % max(accs)\n",
    "plt.plot(range(1,20), accs)\n",
    "plt.xlabel('k neighbors')\n",
    "plt.ylabel('Accuracy')"
   ]
  },
  {
   "cell_type": "markdown",
   "metadata": {},
   "source": [
    "#### Challenge 4\n",
    "\n",
    "Make a similar model but with LogisticRegression instead, calculate test accuracy."
   ]
  },
  {
   "cell_type": "code",
   "execution_count": 14,
   "metadata": {
    "collapsed": false
   },
   "outputs": [
    {
     "name": "stdout",
     "output_type": "stream",
     "text": [
      "Logistic Regression accuracy: 0.9389\n"
     ]
    }
   ],
   "source": [
    "from sklearn.linear_model import LogisticRegression\n",
    "\n",
    "model = LogisticRegression().fit(X_train, Y_train)\n",
    "Y_test_pred = model.predict(X_test)\n",
    "logit_accuracy = accuracy_score(Y_test, Y_test_pred)\n",
    "print 'Logistic Regression accuracy: %.4f' % logit_accuracy"
   ]
  },
  {
   "cell_type": "markdown",
   "metadata": {},
   "source": [
    "### Challenge 5\n",
    "\n",
    "Make a bar graph of democrats and republicans. How many of each are there? Make a very simple predictor that predicts 'democrat' for every incoming example. (Just make a function that takes in an X --an array or matrix with input examples--, and returns an array of the same length as X, where each value is 'democrat'. For example, if X is three rows, your function should return ['democrat','democrat','democrat']) Make a y_predicted vector using this and measure its accuracy. Do the same with predicting 'republican' all the time and measure its accuracy."
   ]
  },
  {
   "cell_type": "code",
   "execution_count": 22,
   "metadata": {
    "collapsed": false
   },
   "outputs": [
    {
     "data": {
      "text/plain": [
       "<matplotlib.axes._subplots.AxesSubplot at 0x1084f60d0>"
      ]
     },
     "execution_count": 22,
     "metadata": {},
     "output_type": "execute_result"
    },
    {
     "data": {
      "image/png": "[encoded data removed]",
      "text/plain": [
       "<matplotlib.figure.Figure at 0x10884fa50>"
      ]
     },
     "metadata": {},
     "output_type": "display_data"
    }
   ],
   "source": [
    "representatives.groupby(0)[0].count().plot(kind='bar')"
   ]
  },
  {
   "cell_type": "code",
   "execution_count": 23,
   "metadata": {
    "collapsed": false
   },
   "outputs": [
    {
     "name": "stdout",
     "output_type": "stream",
     "text": [
      "Baseline democrat guess predictor accuracy: 0.5878\n",
      "Baseline republican guess predictor accuracy: 0.4122\n"
     ]
    }
   ],
   "source": [
    "def baseline_model(X, same_guess=\"democrat\"):\n",
    "    \"\"\"guess the same for any input\"\"\"\n",
    "    pred = np.array([same_guess] * len(X))\n",
    "    return pred\n",
    "\n",
    "y_pred_democ_baseline = baseline_model(X_test, same_guess='democrat')\n",
    "democ_accuracy = accuracy_score(Y_test, y_pred_democ_baseline)\n",
    "\n",
    "\n",
    "y_pred_repub_baseline = baseline_model(X_test, same_guess='republican')\n",
    "repub_accuracy = accuracy_score(Y_test, y_pred_repub_baseline)\n",
    "\n",
    "\n",
    "for values in [(\"democrat\", democ_accuracy), (\"republican\", repub_accuracy)]:\n",
    "    print 'Baseline %s guess predictor accuracy: %.4f' % values\n"
   ]
  },
  {
   "cell_type": "markdown",
   "metadata": {},
   "source": [
    "### Challenge 6\n",
    "\n",
    "Plot the accuracies as a function of k. Since k only matters for KNN, your logistic regression accuracy, 'democrat' predictor accuracy and 'republican' predictor accuracy will stay the same over all k, so each of these three will be a horizontal line. But the KNN accuracy will change with k.\n",
    "\n"
   ]
  },
  {
   "cell_type": "code",
   "execution_count": 24,
   "metadata": {
    "collapsed": false
   },
   "outputs": [
    {
     "data": {
      "text/plain": [
       "<matplotlib.text.Text at 0x108bf0790>"
      ]
     },
     "execution_count": 24,
     "metadata": {},
     "output_type": "execute_result"
    },
    {
     "data": {
      "image/png": "[encoded data removed]",
      "text/plain": [
       "<matplotlib.figure.Figure at 0x108983510>"
      ]
     },
     "metadata": {},
     "output_type": "display_data"
    }
   ],
   "source": [
    "knn, = plt.plot(range(1,20), accs)\n",
    "logit, = plt.plot(range(1,20), [logit_accuracy]*19)\n",
    "democ, = plt.plot(range(1,20), [democ_accuracy]*19)\n",
    "repub, = plt.plot(range(1,20), [repub_accuracy]*19)\n",
    "plt.legend((logit,knn,democ,repub),\n",
    "           (\"LogitReg\",\"KNN\",\"Democrat\", \"Republican\"),\n",
    "           loc='best')\n",
    "plt.xlabel('k neighbors')\n",
    "plt.ylabel('Accuracy')"
   ]
  },
  {
   "cell_type": "markdown",
   "metadata": {},
   "source": [
    "### Challenge 7\n",
    "\n",
    "When you found the k value with highest test accuracy in Challenge 3, you used a single test set. Use scikit.learn's cross-validation tools to get a range of accuracies for each k. Using the average cross validation accuracy, does the best k change? Can you imagine cases where it might and might not change?"
   ]
  },
  {
   "cell_type": "code",
   "execution_count": 25,
   "metadata": {
    "collapsed": false
   },
   "outputs": [
    {
     "name": "stdout",
     "output_type": "stream",
     "text": [
      "KNN (n=1) CV accuracy: 0.9240\n",
      "KNN (n=2) CV accuracy: 0.9355\n",
      "KNN (n=3) CV accuracy: 0.9263\n",
      "KNN (n=4) CV accuracy: 0.9309\n",
      "KNN (n=5) CV accuracy: 0.9217\n",
      "KNN (n=6) CV accuracy: 0.9286\n",
      "KNN (n=7) CV accuracy: 0.9286\n",
      "KNN (n=8) CV accuracy: 0.9309\n",
      "KNN (n=9) CV accuracy: 0.9332\n",
      "KNN (n=10) CV accuracy: 0.9332\n",
      "KNN (n=11) CV accuracy: 0.9240\n",
      "KNN (n=12) CV accuracy: 0.9263\n",
      "KNN (n=13) CV accuracy: 0.9240\n",
      "KNN (n=14) CV accuracy: 0.9263\n",
      "KNN (n=15) CV accuracy: 0.9263\n",
      "KNN (n=16) CV accuracy: 0.9263\n",
      "KNN (n=17) CV accuracy: 0.9217\n",
      "KNN (n=18) CV accuracy: 0.9240\n",
      "KNN (n=19) CV accuracy: 0.9194\n",
      "KNN max CV accuracy: 0.9355\n"
     ]
    },
    {
     "data": {
      "text/plain": [
       "<matplotlib.text.Text at 0x108d2df10>"
      ]
     },
     "execution_count": 25,
     "metadata": {},
     "output_type": "execute_result"
    },
    {
     "data": {
      "image/png": "[encoded data removed]",
      "text/plain": [
       "<matplotlib.figure.Figure at 0x10897c610>"
      ]
     },
     "metadata": {},
     "output_type": "display_data"
    }
   ],
   "source": [
    "from sklearn.cross_validation import cross_val_score\n",
    "\n",
    "accs, stds = [], []\n",
    "for k in range(1,20):\n",
    "    #7-fold cross validation\n",
    "    accuracies = cross_val_score(KNeighborsClassifier(k), X,Y, cv=7)\n",
    "    accuracy = np.mean(accuracies)\n",
    "    accuracy_std = np.std(accuracies)\n",
    "    accs.append(accuracy)\n",
    "    stds.append(accuracy_std)\n",
    "    print 'KNN (n=%i) CV accuracy: %.4f' % (k,accuracy)\n",
    "\n",
    "print 'KNN max CV accuracy: %.4f' % max(accs)\n",
    "plt.plot(range(1,20), accs)\n",
    "plt.xlabel('k neighbors')\n",
    "plt.ylabel('Accuracy')"
   ]
  },
  {
   "cell_type": "markdown",
   "metadata": {},
   "source": [
    "### Challenge 8\n",
    "Like in Challenge 6, make a graph of  accuracies for each k value. \n",
    "This time, put error bars in your graph, using your results from Challenge 7.\n",
    "Use the standard deviation of the cross validation accuracy values for each k as its error bar height (for the KNN predictor)."
   ]
  },
  {
   "cell_type": "code",
   "execution_count": 26,
   "metadata": {
    "collapsed": false
   },
   "outputs": [
    {
     "name": "stdout",
     "output_type": "stream",
     "text": [
      "KNN max CV accuracy: 0.9355\n"
     ]
    },
    {
     "data": {
      "text/plain": [
       "<matplotlib.text.Text at 0x108d39250>"
      ]
     },
     "execution_count": 26,
     "metadata": {},
     "output_type": "execute_result"
    },
    {
     "data": {
      "image/png": "[encoded data removed]",
      "text/plain": [
       "<matplotlib.figure.Figure at 0x108bb4e10>"
      ]
     },
     "metadata": {},
     "output_type": "display_data"
    }
   ],
   "source": [
    "print 'KNN max CV accuracy: %.4f' % max(accs)\n",
    "plt.errorbar(range(1,20), accs, yerr=stds)\n",
    "plt.xlabel('k neighbors')\n",
    "plt.ylabel('Accuracy')"
   ]
  },
  {
   "cell_type": "markdown",
   "metadata": {},
   "source": [
    "### Challenges 9 & 10\n",
    "Calculate the accuracy, precision, recall and f1 scores for the KNN and Logistic Regression classifiers you built. (Use only one KNN, no need to do this for all k values)."
   ]
  },
  {
   "cell_type": "code",
   "execution_count": 46,
   "metadata": {
    "collapsed": false
   },
   "outputs": [
    {
     "name": "stdout",
     "output_type": "stream",
     "text": [
      "LogisticRegression             accuracy  :0.9582\n",
      "LogisticRegression             precision :0.9493\n",
      "LogisticRegression             recall    :0.9463\n",
      "LogisticRegression             f1        :0.9463\n",
      "KNeighborsClassifier           accuracy  :0.9283\n",
      "KNeighborsClassifier           precision :0.8916\n",
      "KNeighborsClassifier           recall    :0.9397\n",
      "KNeighborsClassifier           f1        :0.9117\n"
     ]
    }
   ],
   "source": [
    "X = representatives[range(1,17)]\n",
    "Y = representatives.replace('democrat',0).replace('republican', 1)[0]\n",
    "\n",
    "for algorithm in (LogisticRegression, \n",
    "                  KNeighborsClassifier):\n",
    "    for score in ('accuracy',\n",
    "                 'precision',\n",
    "                 'recall',\n",
    "                 'f1'):\n",
    "        result = np.mean(cross_val_score(algorithm(), X,Y,\n",
    "                                         scoring=score,\n",
    "                                         cv=10))\n",
    "        print '%-30s %-10s:%.4f' % (algorithm.__name__, score, result)"
   ]
  },
  {
   "cell_type": "markdown",
   "metadata": {},
   "source": [
    "### Extra Challenge A\n",
    "\n",
    "Instead of 'democrat' or 'republican', can you predict the vote of a representative based on their other votes?\n",
    "\n",
    "Reload the data from scratch. Convert y-->1, n-->0. Choose one vote. Build a classifier (logistic regression or KNN), that uses the other votes (do not use the party as a feature) to predict if the vote will be 1 or 0.\n",
    "\n",
    "Convert each ? to the mode of the column (if a senator has not voted, make their vote 1 if most others voted 1, make it 0 if most others voted 0).\n",
    "\n",
    "Calculate the cross validation accuracy of your classifier for predicting how each representative will vote on the issue."
   ]
  },
  {
   "cell_type": "code",
   "execution_count": 33,
   "metadata": {
    "collapsed": false
   },
   "outputs": [
    {
     "name": "stdout",
     "output_type": "stream",
     "text": [
      "LogisticRegression             0.9545\n",
      "KNeighborsClassifier           0.9402\n"
     ]
    }
   ],
   "source": [
    "# Predict the El Salvador Aid vote (column 5) using the other votes\n",
    "rep = pd.read_csv('house-votes-84.csv', header=None)\n",
    "rep = rep.replace('y',1)\n",
    "rep = rep.replace('n',0)\n",
    "rep = rep.replace('?',np.nan)\n",
    "\n",
    "# drop the rows where our outcome vote is missing    \n",
    "rep = rep[-np.isnan(rep[5])]\n",
    "\n",
    "# Features: All votes but column 5 (also no column 0-- party)\n",
    "feature_cols = range(1,5)+range(6,17)\n",
    "\n",
    "#Replace missing values with the column's mode\n",
    "for column in feature_cols:\n",
    "    # This [0] is ugly but pandas mode() returns a DataFrame instead of a value,\n",
    "    # and we need to take the value in its zeroth column. Uglyish design decision by pandas.\n",
    "    colmode = rep[column].mode()[0]   \n",
    "    rep.loc[np.isnan(rep[column]), column] = colmode\n",
    "    \n",
    "\n",
    "\n",
    "X = rep[feature_cols]\n",
    "Y = rep[5]\n",
    "\n",
    "\n",
    "# Classify with the whole gamut and report accuracy\n",
    "for algorithm in (LogisticRegression, \n",
    "                  KNeighborsClassifier):\n",
    "    accuracy = np.mean(cross_val_score(algorithm(), X,Y, cv=10))\n",
    "    print '%-30s %.4f' % (algorithm.__name__, accuracy)"
   ]
  },
  {
   "cell_type": "markdown",
   "metadata": {},
   "source": [
    "### Extra Challenge B\n",
    "\n",
    "Back to your movie data! The example below is shown on a slightly different data set (column names etc.), but the essence is exactly the same.\n",
    "\n",
    "Choose one categoric feature to predict. We chose MPAA Rating, but genre, month, etc. are all decent choices. If you don't have any non-numeric features, you can make two bins out of a numeric one (like \"Runtime>100 mins\" and \"Runtime<=100 mins\")\n",
    "\n",
    "Make a bar graph of how many of each movie there is in the data. For example, with Ratings, show how many G, PG, PG-13, R movies there are, etc. (basically a histogram of your labels).\n",
    "\n",
    "Predict your outcome variable (labels) using KNN and logistic regression. Calculate their accuracies.\n",
    "\n",
    "Make a baseline stupid predictor that always predicts the label that is present the most in the data. Calculate its accuracy on a test set.\n",
    "\n",
    "How much better do KNN and logistic regression do versus the baseline?\n",
    "\n",
    "What are the coefficients of logistic regression? Which features affect the outcome how?"
   ]
  },
  {
   "cell_type": "code",
   "execution_count": 35,
   "metadata": {
    "collapsed": false
   },
   "outputs": [
    {
     "data": {
      "text/html": [
       "<div style=\"max-height:1000px;max-width:1500px;overflow:auto;\">\n",
       "<table border=\"1\" class=\"dataframe\">\n",
       "  <thead>\n",
       "    <tr style=\"text-align: right;\">\n",
       "      <th></th>\n",
       "      <th>Date</th>\n",
       "      <th>Title</th>\n",
       "      <th>Budget</th>\n",
       "      <th>DomesticTotalGross</th>\n",
       "      <th>Director</th>\n",
       "      <th>Rating</th>\n",
       "      <th>Runtime</th>\n",
       "    </tr>\n",
       "  </thead>\n",
       "  <tbody>\n",
       "    <tr>\n",
       "      <th>0</th>\n",
       "      <td>2013-11-22</td>\n",
       "      <td> The Hunger Games: Catching Fire</td>\n",
       "      <td> 130000000</td>\n",
       "      <td> 424668047</td>\n",
       "      <td>          Francis Lawrence</td>\n",
       "      <td> PG-13</td>\n",
       "      <td> 146</td>\n",
       "    </tr>\n",
       "    <tr>\n",
       "      <th>1</th>\n",
       "      <td>2013-05-03</td>\n",
       "      <td>                      Iron Man 3</td>\n",
       "      <td> 200000000</td>\n",
       "      <td> 409013994</td>\n",
       "      <td>               Shane Black</td>\n",
       "      <td> PG-13</td>\n",
       "      <td> 129</td>\n",
       "    </tr>\n",
       "    <tr>\n",
       "      <th>2</th>\n",
       "      <td>2013-11-22</td>\n",
       "      <td>                          Frozen</td>\n",
       "      <td> 150000000</td>\n",
       "      <td> 400738009</td>\n",
       "      <td>    Chris BuckJennifer Lee</td>\n",
       "      <td>    PG</td>\n",
       "      <td> 108</td>\n",
       "    </tr>\n",
       "    <tr>\n",
       "      <th>3</th>\n",
       "      <td>2013-07-03</td>\n",
       "      <td>                 Despicable Me 2</td>\n",
       "      <td>  76000000</td>\n",
       "      <td> 368061265</td>\n",
       "      <td> Pierre CoffinChris Renaud</td>\n",
       "      <td>    PG</td>\n",
       "      <td>  98</td>\n",
       "    </tr>\n",
       "    <tr>\n",
       "      <th>4</th>\n",
       "      <td>2013-06-14</td>\n",
       "      <td>                    Man of Steel</td>\n",
       "      <td> 225000000</td>\n",
       "      <td> 291045518</td>\n",
       "      <td>               Zack Snyder</td>\n",
       "      <td> PG-13</td>\n",
       "      <td> 143</td>\n",
       "    </tr>\n",
       "  </tbody>\n",
       "</table>\n",
       "</div>"
      ],
      "text/plain": [
       "        Date                            Title     Budget  DomesticTotalGross  \\\n",
       "0 2013-11-22  The Hunger Games: Catching Fire  130000000           424668047   \n",
       "1 2013-05-03                       Iron Man 3  200000000           409013994   \n",
       "2 2013-11-22                           Frozen  150000000           400738009   \n",
       "3 2013-07-03                  Despicable Me 2   76000000           368061265   \n",
       "4 2013-06-14                     Man of Steel  225000000           291045518   \n",
       "\n",
       "                    Director Rating  Runtime  \n",
       "0           Francis Lawrence  PG-13      146  \n",
       "1                Shane Black  PG-13      129  \n",
       "2     Chris BuckJennifer Lee     PG      108  \n",
       "3  Pierre CoffinChris Renaud     PG       98  \n",
       "4                Zack Snyder  PG-13      143  "
      ]
     },
     "execution_count": 35,
     "metadata": {},
     "output_type": "execute_result"
    }
   ],
   "source": [
    "%matplotlib inline\n",
    "import pandas as pd\n",
    "import numpy as np\n",
    "from datetime import datetime\n",
    "import matplotlib.pyplot as plt\n",
    "\n",
    "# Note: Here I'm loading my movie csv file to make a data frame\n",
    "# You can work on your own data frame\n",
    "\n",
    "movies = pd.read_csv('2013_movies.csv', parse_dates={'Date':['ReleaseDate']})\n",
    "movies = movies.dropna(axis=0, subset=['Budget'])\n",
    "#movies['Ones'] = 1\n",
    "\n",
    "movies.head()"
   ]
  },
  {
   "cell_type": "code",
   "execution_count": 36,
   "metadata": {
    "collapsed": false
   },
   "outputs": [
    {
     "data": {
      "text/plain": [
       "<matplotlib.axes._subplots.AxesSubplot at 0x109027ad0>"
      ]
     },
     "execution_count": 36,
     "metadata": {},
     "output_type": "execute_result"
    },
    {
     "data": {
      "image/png": "[encoded data removed]",
      "text/plain": [
       "<matplotlib.figure.Figure at 0x109027710>"
      ]
     },
     "metadata": {},
     "output_type": "display_data"
    }
   ],
   "source": [
    "movies.groupby('Rating')['Title'].count().plot(kind='bar')"
   ]
  },
  {
   "cell_type": "code",
   "execution_count": 37,
   "metadata": {
    "collapsed": false
   },
   "outputs": [
    {
     "name": "stdout",
     "output_type": "stream",
     "text": [
      "KNN(k=1) accuracy: 0.368\n",
      "KNN(k=2) accuracy: 0.332\n",
      "KNN(k=3) accuracy: 0.468\n",
      "KNN(k=4) accuracy: 0.433\n",
      "KNN(k=5) accuracy: 0.458\n",
      "KNN(k=6) accuracy: 0.433\n",
      "KNN(k=7) accuracy: 0.507\n",
      "KNN(k=8) accuracy: 0.457\n",
      "KNN(k=9) accuracy: 0.487\n",
      "KNN(k=10) accuracy: 0.452\n",
      "KNN(k=11) accuracy: 0.474\n",
      "KNN(k=12) accuracy: 0.407\n",
      "KNN(k=13) accuracy: 0.431\n",
      "KNN(k=14) accuracy: 0.474\n",
      "KNN(k=15) accuracy: 0.463\n",
      "KNN(k=16) accuracy: 0.431\n",
      "KNN(k=17) accuracy: 0.442\n",
      "KNN(k=18) accuracy: 0.443\n",
      "KNN(k=19) accuracy: 0.478\n",
      "KNN(k=20) accuracy: 0.479\n",
      "KNN(k=21) accuracy: 0.477\n",
      "KNN(k=22) accuracy: 0.479\n",
      "KNN(k=23) accuracy: 0.477\n",
      "KNN(k=24) accuracy: 0.512\n",
      "KNN(k=25) accuracy: 0.488\n",
      "KNN(k=26) accuracy: 0.464\n",
      "KNN(k=27) accuracy: 0.478\n",
      "KNN(k=28) accuracy: 0.477\n",
      "KNN(k=29) accuracy: 0.475\n"
     ]
    }
   ],
   "source": [
    "X = movies[['Runtime','DomesticTotalGross','Budget']]\n",
    "Y = movies['Rating']\n",
    "\n",
    "for k in range(1,30):\n",
    "    model = KNeighborsClassifier(n_neighbors=k)\n",
    "    accuracy = np.mean(cross_val_score(model, X,Y, cv=10))\n",
    "    print 'KNN(k=%i) accuracy: %.3f' % (k,accuracy)"
   ]
  },
  {
   "cell_type": "code",
   "execution_count": 38,
   "metadata": {
    "collapsed": false
   },
   "outputs": [
    {
     "name": "stdout",
     "output_type": "stream",
     "text": [
      "Logistic Regression (L2 penalty) accuracy: 0.496\n",
      "Logistic Regression (L1 penalty) accuracy: 0.531\n",
      "Logistic Regression (L1 penalty, C=0.05) accuracy: 0.522\n",
      "Logistic Regression (L1 penalty, C=11.16) accuracy: 0.572\n",
      "Logistic Regression (L1 penalty, C=22.26) accuracy: 0.572\n",
      "Logistic Regression (L1 penalty, C=33.37) accuracy: 0.572\n",
      "Logistic Regression (L1 penalty, C=44.47) accuracy: 0.572\n",
      "Logistic Regression (L1 penalty, C=55.58) accuracy: 0.572\n",
      "Logistic Regression (L1 penalty, C=66.68) accuracy: 0.572\n",
      "Logistic Regression (L1 penalty, C=77.79) accuracy: 0.572\n",
      "Logistic Regression (L1 penalty, C=88.89) accuracy: 0.572\n",
      "Logistic Regression (L1 penalty, C=100.00) accuracy: 0.572\n"
     ]
    }
   ],
   "source": [
    "model = LogisticRegression()\n",
    "accuracy = np.mean(cross_val_score(model, X,Y, cv=10))\n",
    "print 'Logistic Regression (L2 penalty) accuracy: %.3f' % accuracy\n",
    "\n",
    "# L1 and L2 are just two different forms of regularization. The form of\n",
    "# what is added to the cost funtion is slightly different. L2 is default,\n",
    "# Let's try L1 here, too. Different problems work better with different\n",
    "# penalty forms.\n",
    "model = LogisticRegression(penalty='l1')\n",
    "accuracy = np.mean(cross_val_score(model, X,Y, cv=10))\n",
    "print 'Logistic Regression (L1 penalty) accuracy: %.3f' % accuracy\n",
    "\n",
    "# Ok, let's also check different C values. C is just like alpha in Ridge Regression,\n",
    "# It let's us fine tune how much regularization (how much shrinking) we will do on\n",
    "# coeefficients. Default C is 1.0. Small C means more shrinking, tends to underfit,\n",
    "# Large C means less shrinking, tends to overfit.\n",
    "for C in np.linspace(0.05,100,10):\n",
    "    model = LogisticRegression(penalty='l1', C=C)\n",
    "    accuracy = np.mean(cross_val_score(model, X,Y, cv=10))\n",
    "    print 'Logistic Regression (L1 penalty, C=%.2f) accuracy: %.3f' % (C,accuracy)\n"
   ]
  },
  {
   "cell_type": "code",
   "execution_count": 39,
   "metadata": {
    "collapsed": false
   },
   "outputs": [
    {
     "name": "stdout",
     "output_type": "stream",
     "text": [
      "Baseline PG-13 guess accuracy: 0.457\n"
     ]
    }
   ],
   "source": [
    "def baseline_model(X, same_guess=\"PG-13\"):\n",
    "    \"\"\"guess the same for any input\"\"\"\n",
    "    pred = np.array([same_guess] * len(X))\n",
    "    return pred\n",
    "\n",
    "# We already showed how to make baseline predictions with a function like\n",
    "# this (baseline_model) on a test set and calculate \n",
    "# the test accuracy in a previous challange.\n",
    "#\n",
    "# Here I want to show how to use this with the cross_val_score function.\n",
    "# That function takes a model instance, like LogisticRegression()\n",
    "# Scikitlearn models all have a few methods that they are expected to have.\n",
    "# I will imitate a model class like that for my baseline model.\n",
    "#\n",
    "# You don't need to do that, you can do this just like we did in Challenge 5.\n",
    "# This is extra, showing how to use cross_val_score with a model class of your\n",
    "# own.\n",
    "#\n",
    "# I need to make a class that will behave exactly like a sklearn model\n",
    "# for this baseline predictor. All it needs is a fit method so you can run\n",
    "# baseline.fit(X,Y)\n",
    "# and also a predict method so you can run\n",
    "# baseline.predict(X)\n",
    "# It should also have a score method like this:\n",
    "# baseline.score(X,Y)\n",
    "# It should also have a get_params method:\n",
    "# baseline.get_params(deep=True)\n",
    "# These are the three functions that cross_val_score runs\n",
    "\n",
    "\n",
    "class Baseline(object):\n",
    "    \n",
    "    def __init__(self, guess):\n",
    "        self.guess = guess\n",
    "        \n",
    "    def fit(self, X, Y):\n",
    "        # Do nothing. This classifier\n",
    "        # doesn't really train on data,\n",
    "        # it will only guess the same thing!\n",
    "        pass\n",
    "    \n",
    "    def predict(self, X):\n",
    "        # create an array full of the exact same\n",
    "        # guess and return it!\n",
    "        pred = np.array([self.guess] * len(X))\n",
    "        return pred        \n",
    "    \n",
    "    def score(self, X,Y):\n",
    "        # Calculate the accuracy of your\n",
    "        # stupid predictions against the\n",
    "        # actual values\n",
    "        Y_pred = self.predict(X)\n",
    "        Y_true = Y\n",
    "        return accuracy_score(Y_true, Y_pred)\n",
    "    \n",
    "    def get_params(self, deep=False):\n",
    "        # Scikitlearn models return a dictionary\n",
    "        # of {parameter: value} with this function\n",
    "        # We only have one parameter, out guess.\n",
    "        # You don't even need to worry about the \n",
    "        # \"deep\" kw argument, we're not using it.\n",
    "        return {'guess': self.guess}\n",
    "    \n",
    "# Ok, now that our class has fit, predict, score and get_params\n",
    "# just as cross_val_score expects, we can run it!\n",
    "model = Baseline(guess=\"PG-13\")\n",
    "accuracy = np.mean(cross_val_score(model, X,Y, cv=10))\n",
    "print 'Baseline PG-13 guess accuracy: %.3f' % accuracy\n",
    "\n"
   ]
  },
  {
   "cell_type": "markdown",
   "metadata": {},
   "source": [
    "Well, looks like baseline accuracy is 0.457, but we can hit 0.572 with logistic regression, using budget, gross and runtime as features. This means that these features DO carry information about the rating. KNN accuracy was 0.475, so it barely passed baseline accuracy. You did alright, KNN. Not your best day today, though. But trust me people, sometimes, in some problems, KNN outperforms the smartest, sleekest algorithms."
   ]
  },
  {
   "cell_type": "markdown",
   "metadata": {},
   "source": [
    "Let's check coefficients now."
   ]
  },
  {
   "cell_type": "code",
   "execution_count": 40,
   "metadata": {
    "collapsed": false
   },
   "outputs": [
    {
     "data": {
      "text/plain": [
       "array([[ -1.12601427e-01,   4.17717991e-09,   1.78848156e-08],\n",
       "       [  2.19316145e-02,  -2.22940551e-09,   1.27062829e-08],\n",
       "       [  2.04161583e-02,  -1.20136889e-09,  -2.75192374e-08]])"
      ]
     },
     "execution_count": 40,
     "metadata": {},
     "output_type": "execute_result"
    }
   ],
   "source": [
    "model = LogisticRegression(penalty='l1', C=22)\n",
    "model.fit(X, Y)\n",
    "\n",
    "model.coef_"
   ]
  },
  {
   "cell_type": "markdown",
   "metadata": {},
   "source": [
    "Wait, what, why are there 4 rows and three columns?\n",
    "Well. LogisticRegression.coef\\_ is an array of shape (n_classes, n_features)\n",
    "So, one row for each class (G,PG,PG-13,R), one column for each feature (runtime, gross, budget).\n",
    "\n",
    "Why does it have different coefficients for each class?\n",
    "Because as we saw in class, the model can distinguish only between two classes. So how will it distinguish between multiple classes?\n",
    "One vs All: For each class, it fits a separate logistic regression model with 2 labels each:  \n",
    "1)G vs 'not G'\n",
    "2)PG vs 'not PG'\n",
    "3)PG-13 vs 'not PG-13'\n",
    "4)R vs 'not R'\n",
    "\n",
    "If more than one reports positive (like, 1 says not G, 2 say PG, 3 says PG13, 4 says notR), the winner with the highest confidence level (actualy logistic regression output before the threshold cutoff) is chosen as the predicted class (like, if this example model we mentioned had reported a higher value for PG13 vs 'not PG13' than PG vs 'not PG', PG13 is chosen as prediction).\n",
    "\n",
    "See http://en.wikipedia.org/wiki/Multiclass_classification#One-vs.-rest"
   ]
  },
  {
   "cell_type": "code",
   "execution_count": 41,
   "metadata": {
    "collapsed": false
   },
   "outputs": [
    {
     "name": "stdout",
     "output_type": "stream",
     "text": [
      "0     PG-13\n",
      "1     PG-13\n",
      "2        PG\n",
      "3        PG\n",
      "4     PG-13\n",
      "5     PG-13\n",
      "8     PG-13\n",
      "9        PG\n",
      "10    PG-13\n",
      "11    PG-13\n",
      "Name: Rating, dtype: object\n",
      "[[ -1.12601427e-01   4.17717991e-09   1.78848156e-08]\n",
      " [  2.19316145e-02  -2.22940551e-09   1.27062829e-08]\n",
      " [  2.04161583e-02  -1.20136889e-09  -2.75192374e-08]]\n"
     ]
    }
   ],
   "source": [
    "# print Y to find our which class comes first in the coef_\n",
    "print Y[:10]\n",
    "print model.coef_"
   ]
  },
  {
   "cell_type": "markdown",
   "metadata": {},
   "source": [
    "Ok, so the 4 rows in coef\\_ correspond to, in order, PG-13, G, PG and R.\n",
    "The 3 columns are runtime, gross, budget.\n",
    "\n",
    "We can see that for PG-13, gross and budget both increase the confidence substantially.\n",
    "Budget also increases confidence for PG, but not as much as PG-13, and gross actually has a negative effect on PG confidence, so a huge budget is a sign that this is less likely to be PG.\n",
    "For R, both budget and gross have negative coefficients, we know those are smaller.\n",
    "G (which includes many animations) is also guessible from a high budget/high gross, but those increase confidence with less of a boost than they do for PG-13. Long runtimes seem to be lowering confidence in PG-13 or G, but slightly increasing it in PG and R."
   ]
  },
  {
   "cell_type": "markdown",
   "metadata": {},
   "source": [
    "### Extra Challenge C\n",
    "\n",
    "This is a preview of many other classification algorithms. Scikit.learn has the same interface for all of these, so you can use them exactly the same way as you did LogisticRegression and KNeighborsClassifier. Use each of these to classify your data and print the test accuracy of each:\n",
    "\n",
    "Gaussian Naive Bayes \n",
    "from sklearn.naive_bayes import GaussianNB\n",
    "\n",
    "SVM (Support Vector Machine) Classifier\n",
    "from sklearn.svm import SVC\n",
    "\n",
    "Decision Tree\n",
    "from sklearn.tree import DecisionTreeClassifier\n",
    "\n",
    "Random Forest\n",
    "from sklearn.ensemble import RandomForestClassifier"
   ]
  },
  {
   "cell_type": "code",
   "execution_count": 35,
   "metadata": {
    "collapsed": false
   },
   "outputs": [
    {
     "name": "stdout",
     "output_type": "stream",
     "text": [
      "Naive Bayes (Gaussian) accuracy: 0.9389\n"
     ]
    }
   ],
   "source": [
    "from sklearn.naive_bayes import GaussianNB\n",
    "\n",
    "model = GaussianNB().fit(X_train, Y_train)\n",
    "Y_test_pred = model.predict(X_test)\n",
    "print 'Naive Bayes (Gaussian) accuracy: %.4f' % accuracy_score(Y_test, Y_test_pred)"
   ]
  },
  {
   "cell_type": "code",
   "execution_count": 36,
   "metadata": {
    "collapsed": false
   },
   "outputs": [
    {
     "name": "stdout",
     "output_type": "stream",
     "text": [
      "SVM Classifier accuracy: 0.9542\n"
     ]
    }
   ],
   "source": [
    "from sklearn.svm import SVC\n",
    "model = SVC().fit(X_train, Y_train)\n",
    "Y_test_pred = model.predict(X_test)\n",
    "print 'SVM Classifier accuracy: %.4f' % accuracy_score(Y_test, Y_test_pred)"
   ]
  },
  {
   "cell_type": "code",
   "execution_count": 37,
   "metadata": {
    "collapsed": false
   },
   "outputs": [
    {
     "name": "stdout",
     "output_type": "stream",
     "text": [
      "Decision Tree accuracy: 0.9466\n"
     ]
    }
   ],
   "source": [
    "from sklearn.tree import DecisionTreeClassifier\n",
    "model = DecisionTreeClassifier().fit(X_train, Y_train)\n",
    "Y_test_pred = model.predict(X_test)\n",
    "print 'Decision Tree accuracy: %.4f' % accuracy_score(Y_test, Y_test_pred)"
   ]
  },
  {
   "cell_type": "code",
   "execution_count": 38,
   "metadata": {
    "collapsed": false
   },
   "outputs": [
    {
     "name": "stdout",
     "output_type": "stream",
     "text": [
      "Random Forest accuracy: 0.9618\n"
     ]
    }
   ],
   "source": [
    "from sklearn.ensemble import RandomForestClassifier\n",
    "model = RandomForestClassifier().fit(X_train, Y_train)\n",
    "Y_test_pred = model.predict(X_test)\n",
    "print 'Random Forest accuracy: %.4f' % accuracy_score(Y_test, Y_test_pred)"
   ]
  },
  {
   "cell_type": "markdown",
   "metadata": {},
   "source": [
    "And let's check these models with the more rigorous cross validation"
   ]
  },
  {
   "cell_type": "code",
   "execution_count": 39,
   "metadata": {
    "collapsed": false
   },
   "outputs": [
    {
     "name": "stdout",
     "output_type": "stream",
     "text": [
      "LogisticRegression             0.9545\n",
      "KNeighborsClassifier           0.9402\n",
      "GaussianNB                     0.9565\n",
      "SVC                            0.9616\n",
      "DecisionTreeClassifier         0.9496\n",
      "RandomForestClassifier         0.9474\n"
     ]
    }
   ],
   "source": [
    "from sklearn.cross_validation import cross_val_score\n",
    "\n",
    "names, accs = [],[]\n",
    "for algorithm in (LogisticRegression, \n",
    "                  KNeighborsClassifier,\n",
    "                  GaussianNB,\n",
    "                  SVC,\n",
    "                  DecisionTreeClassifier,\n",
    "                  RandomForestClassifier):\n",
    "\n",
    "    accuracy = np.mean(cross_val_score(algorithm(), X,Y, cv=10)) #10-fold cross validation\n",
    "    print '%-30s %.4f' % (algorithm.__name__, accuracy)\n",
    "    names.append(algorithm.__name__)\n",
    "    accs.append(accuracy)"
   ]
  },
  {
   "cell_type": "markdown",
   "metadata": {},
   "source": [
    "And let's visualize this so we can see it better. Also, high five `[Visualization]` track."
   ]
  },
  {
   "cell_type": "code",
   "execution_count": 40,
   "metadata": {
    "collapsed": false
   },
   "outputs": [
    {
     "data": {
      "text/plain": [
       "<matplotlib.text.Text at 0x10b7ba910>"
      ]
     },
     "execution_count": 40,
     "metadata": {},
     "output_type": "execute_result"
    },
    {
     "data": {
      "image/png": "[encoded data removed]",
      "text/plain": [
       "<matplotlib.figure.Figure at 0x10b3ee450>"
      ]
     },
     "metadata": {},
     "output_type": "display_data"
    }
   ],
   "source": [
    "plt.figure(figsize=(15,5))\n",
    "\n",
    "plt.subplot(121)\n",
    "plt.bar(range(6), accs, color='#75A3FF')\n",
    "plt.xticks(np.arange(6)+0.35, names, rotation=90)\n",
    "plt.ylabel(\"Accuracy\")\n",
    "plt.title('They are all pretty accurate')\n",
    "\n",
    "plt.subplot(122)\n",
    "plt.bar(range(6), accs, color='#CC6699')\n",
    "plt.xticks(np.arange(6)+0.35, names, rotation=90)\n",
    "plt.ylim(0.88, 1.0)\n",
    "plt.ylabel(\"Accuracy\")\n",
    "plt.title('Zooming in to see differences')"
   ]
  },
  {
   "cell_type": "markdown",
   "metadata": {},
   "source": [
    "### Extra Challenge D\n",
    "\n",
    "Now you are a classification master. The representative votes dataset only had 0s and 1s. Let's just swiftly tackle the breast cancer surgery data we talked about in class.\n",
    "\n",
    "What is the average and standard deviation of the age of all of the patients?  \n",
    "What is the average and standard deviation of the age of those patients that survived 5 or more years after surgery?  \n",
    "What is the average and standard deviation of the age of those patients who survived fewer than 5 years after surgery?  \n",
    "Plot a histogram of the ages side by side with a histogram of the number of axillary nodes.  \n",
    "What is the earliest year of surgery in this dataset?  \n",
    "What is the most recent year of surgery?  \n",
    "\n",
    "Use logistic regression to predict survival after 5 years. How well does your model do?   \n",
    "What are the coefficients of logistic regression? Which features affect the outcome how?    \n",
    "\n"
   ]
  },
  {
   "cell_type": "code",
   "execution_count": 48,
   "metadata": {
    "collapsed": false
   },
   "outputs": [
    {
     "data": {
      "text/html": [
       "<div style=\"max-height:1000px;max-width:1500px;overflow:auto;\">\n",
       "<table border=\"1\" class=\"dataframe\">\n",
       "  <thead>\n",
       "    <tr style=\"text-align: right;\">\n",
       "      <th></th>\n",
       "      <th>age</th>\n",
       "      <th>year</th>\n",
       "      <th>nodes</th>\n",
       "      <th>survived</th>\n",
       "    </tr>\n",
       "  </thead>\n",
       "  <tbody>\n",
       "    <tr>\n",
       "      <th>0</th>\n",
       "      <td> 30</td>\n",
       "      <td> 64</td>\n",
       "      <td> 1</td>\n",
       "      <td> 1</td>\n",
       "    </tr>\n",
       "    <tr>\n",
       "      <th>1</th>\n",
       "      <td> 30</td>\n",
       "      <td> 62</td>\n",
       "      <td> 3</td>\n",
       "      <td> 1</td>\n",
       "    </tr>\n",
       "    <tr>\n",
       "      <th>2</th>\n",
       "      <td> 30</td>\n",
       "      <td> 65</td>\n",
       "      <td> 0</td>\n",
       "      <td> 1</td>\n",
       "    </tr>\n",
       "    <tr>\n",
       "      <th>3</th>\n",
       "      <td> 31</td>\n",
       "      <td> 59</td>\n",
       "      <td> 0</td>\n",
       "      <td> 1</td>\n",
       "    </tr>\n",
       "    <tr>\n",
       "      <th>4</th>\n",
       "      <td> 31</td>\n",
       "      <td> 65</td>\n",
       "      <td> 4</td>\n",
       "      <td> 1</td>\n",
       "    </tr>\n",
       "  </tbody>\n",
       "</table>\n",
       "</div>"
      ],
      "text/plain": [
       "   age  year  nodes  survived\n",
       "0   30    64      1         1\n",
       "1   30    62      3         1\n",
       "2   30    65      0         1\n",
       "3   31    59      0         1\n",
       "4   31    65      4         1"
      ]
     },
     "execution_count": 48,
     "metadata": {},
     "output_type": "execute_result"
    }
   ],
   "source": [
    "patients = pd.read_csv(\"haberman.csv\", header=None)\n",
    "\n",
    "patients.columns=['age','year','nodes','survived']\n",
    "patients=patients.replace(2,0)\n",
    "patients.head()"
   ]
  },
  {
   "cell_type": "code",
   "execution_count": 49,
   "metadata": {
    "collapsed": false
   },
   "outputs": [
    {
     "data": {
      "text/plain": [
       "count    306.000000\n",
       "mean      52.457516\n",
       "std       10.803452\n",
       "min       30.000000\n",
       "25%       44.000000\n",
       "50%       52.000000\n",
       "75%       60.750000\n",
       "max       83.000000\n",
       "Name: age, dtype: float64"
      ]
     },
     "execution_count": 49,
     "metadata": {},
     "output_type": "execute_result"
    }
   ],
   "source": [
    "#average and standard deviation of the age of all of the patients?\n",
    "patients['age'].describe()"
   ]
  },
  {
   "cell_type": "code",
   "execution_count": 50,
   "metadata": {
    "collapsed": false
   },
   "outputs": [
    {
     "data": {
      "text/plain": [
       "count    225.000000\n",
       "mean      52.017778\n",
       "std       11.012154\n",
       "min       30.000000\n",
       "25%       43.000000\n",
       "50%       52.000000\n",
       "75%       60.000000\n",
       "max       77.000000\n",
       "Name: age, dtype: float64"
      ]
     },
     "execution_count": 50,
     "metadata": {},
     "output_type": "execute_result"
    }
   ],
   "source": [
    "#average and std of the age of those patients that survived 5 or more years after surgery?\n",
    "patients['age'][patients['survived']==1].describe()"
   ]
  },
  {
   "cell_type": "code",
   "execution_count": 51,
   "metadata": {
    "collapsed": false
   },
   "outputs": [
    {
     "data": {
      "text/plain": [
       "count    81.000000\n",
       "mean     53.679012\n",
       "std      10.167137\n",
       "min      34.000000\n",
       "25%      46.000000\n",
       "50%      53.000000\n",
       "75%      61.000000\n",
       "max      83.000000\n",
       "Name: age, dtype: float64"
      ]
     },
     "execution_count": 51,
     "metadata": {},
     "output_type": "execute_result"
    }
   ],
   "source": [
    "#average and std of the age of those patients who survived fewer than 5 years after surgery?\n",
    "patients['age'][patients['survived']==0].describe()"
   ]
  },
  {
   "cell_type": "code",
   "execution_count": 52,
   "metadata": {
    "collapsed": false
   },
   "outputs": [
    {
     "data": {
      "text/plain": [
       "<matplotlib.text.Text at 0x1092b5650>"
      ]
     },
     "execution_count": 52,
     "metadata": {},
     "output_type": "execute_result"
    },
    {
     "data": {
      "image/png": "[encoded data removed]",
      "text/plain": [
       "<matplotlib.figure.Figure at 0x108ff53d0>"
      ]
     },
     "metadata": {},
     "output_type": "display_data"
    }
   ],
   "source": [
    "#histogram of the ages side by side with a histogram of the number of axillary nodes\n",
    "plt.figure(figsize=(15,5))\n",
    "plt.subplot(121)\n",
    "patients['age'].hist(bins=13)\n",
    "plt.title('Ages')\n",
    "plt.subplot(122)\n",
    "patients['nodes'].hist(bins=13)\n",
    "plt.title('Number of positive nodes')"
   ]
  },
  {
   "cell_type": "code",
   "execution_count": 53,
   "metadata": {
    "collapsed": false
   },
   "outputs": [
    {
     "data": {
      "text/plain": [
       "58"
      ]
     },
     "execution_count": 53,
     "metadata": {},
     "output_type": "execute_result"
    }
   ],
   "source": [
    "#earliest year of surgery in this dataset?\n",
    "patients['year'].min()"
   ]
  },
  {
   "cell_type": "code",
   "execution_count": 54,
   "metadata": {
    "collapsed": false
   },
   "outputs": [
    {
     "data": {
      "text/plain": [
       "69"
      ]
     },
     "execution_count": 54,
     "metadata": {},
     "output_type": "execute_result"
    }
   ],
   "source": [
    "#the most recent year of surgery?\n",
    "patients['year'].max()"
   ]
  },
  {
   "cell_type": "code",
   "execution_count": 55,
   "metadata": {
    "collapsed": false
   },
   "outputs": [
    {
     "name": "stdout",
     "output_type": "stream",
     "text": [
      "Logistic Regression accuracy: 0.752\n"
     ]
    }
   ],
   "source": [
    "#Use logistic regression to predict survival after 5 years. How well does your model do?\n",
    "X = patients[['age','year','nodes']]\n",
    "Y = patients['survived']\n",
    "model = LogisticRegression()\n",
    "accuracy = np.mean(cross_val_score(model, X,Y, cv=10))\n",
    "print 'Logistic Regression accuracy: %.3f' % accuracy"
   ]
  },
  {
   "cell_type": "code",
   "execution_count": 56,
   "metadata": {
    "collapsed": false
   },
   "outputs": [
    {
     "data": {
      "text/plain": [
       "array([[-0.01854801,  0.03455384, -0.08687346]])"
      ]
     },
     "execution_count": 56,
     "metadata": {},
     "output_type": "execute_result"
    }
   ],
   "source": [
    "#What are the coefficients of logistic regression? Which features affect the outcome how?\n",
    "model.fit(X,Y).coef_"
   ]
  },
  {
   "cell_type": "markdown",
   "metadata": {},
   "source": [
    "Age coefficient is negative. Being older decreases the chance of survival.\n",
    "Year coeff. is positive (technology develops, makes sense). With each additional year, chances of survival increase. This effect is about twice as strong as the age effect. (Every year you age one year but technology advances, too, and the overall effect is positive!)\n",
    "Positive lyph nodes coeff. is understandably negative, and is the most powerful predictor among the others. More cancerous nodes means lower chance of survival."
   ]
  }
 ],
 "metadata": {
  "kernelspec": {
   "display_name": "Python 2",
   "language": "python",
   "name": "python2"
  },
  "language_info": {
   "codemirror_mode": {
    "name": "ipython",
    "version": 2
   },
   "file_extension": ".py",
   "mimetype": "text/x-python",
   "name": "python",
   "nbconvert_exporter": "python",
   "pygments_lexer": "ipython2",
   "version": "2.7.9"
  }
 },
 "nbformat": 4,
 "nbformat_minor": 0
}
