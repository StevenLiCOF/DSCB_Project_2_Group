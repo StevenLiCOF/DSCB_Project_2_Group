{
 "cells": [
  {
   "cell_type": "markdown",
   "metadata": {},
   "source": [
    "# Read the Data"
   ]
  },
  {
   "cell_type": "code",
   "execution_count": 7,
   "metadata": {
    "collapsed": false
   },
   "outputs": [
    {
     "name": "stdout",
     "output_type": "stream",
     "text": [
      "Parsed 3728 movies from 3728 files\n",
      "3728\n",
      "[{u'alt_title': u'10,000 B.C. (2008)',\n",
      "  u'director': u'Roland Emmerich',\n",
      "  u'domestic_gross': 94784201,\n",
      "  u'mojo_slug': u'10000bc',\n",
      "  u'opening_per_theater': 10518,\n",
      "  u'opening_weekend_take': 35867488,\n",
      "  u'production_budget': 105000000,\n",
      "  u'release_date_limited': None,\n",
      "  u'release_date_wide': u'2008-03-07',\n",
      "  u'title': u'10,000 B.C.',\n",
      "  u'widest_release': 3454,\n",
      "  u'worldwide_gross': 269784201,\n",
      "  u'year': 2008},\n",
      " {u'alt_title': u'102 Dalmatians (2000)',\n",
      "  u'director': None,\n",
      "  u'domestic_gross': 66957026,\n",
      "  u'mojo_slug': u'102dalmatians',\n",
      "  u'opening_per_theater': 7353,\n",
      "  u'opening_weekend_take': 19883351,\n",
      "  u'production_budget': 85000000,\n",
      "  u'release_date_limited': None,\n",
      "  u'release_date_wide': u'2000-11-22',\n",
      "  u'title': u'102 Dalmatians ',\n",
      "  u'widest_release': 2704,\n",
      "  u'worldwide_gross': 183611771,\n",
      "  u'year': 2000},\n",
      " {u'alt_title': u'10 Things I Hate About You (1999)',\n",
      "  u'director': None,\n",
      "  u'domestic_gross': 38178166,\n",
      "  u'mojo_slug': u'10thingsihateaboutyou',\n",
      "  u'opening_per_theater': 3668,\n",
      "  u'opening_weekend_take': 8330681,\n",
      "  u'production_budget': 30000000,\n",
      "  u'release_date_limited': None,\n",
      "  u'release_date_wide': u'1999-03-31',\n",
      "  u'title': u'10 Things I Hate About You',\n",
      "  u'widest_release': 2311,\n",
      "  u'worldwide_gross': 53478166,\n",
      "  u'year': 1999}]\n"
     ]
    }
   ],
   "source": [
    "import os\n",
    "import json\n",
    "from pprint import pprint\n",
    "\n",
    "### READ THE DATA\n",
    "DATA_DIR = os.path.join('project_1', 'data','boxofficemojo') \n",
    "movies = []\n",
    "for movie_file_name in os.listdir(DATA_DIR):\n",
    "    movie_path = os.path.join(DATA_DIR, movie_file_name)\n",
    "    with open(movie_path, 'r') as infile:\n",
    "        movies.append(json.load(infile))\n",
    "\n",
    "import project_1.loaddata\n",
    "movies = project_1.loaddata.get_boxofficemojo_movies()\n",
    "\n",
    "print len(movies)\n",
    "pprint(movies[:3])"
   ]
  },
  {
   "cell_type": "markdown",
   "metadata": {},
   "source": [
    "# Exploratory Data Analysis (EDA)\n",
    "\n",
    "### What years are the movies from?"
   ]
  },
  {
   "cell_type": "code",
   "execution_count": 14,
   "metadata": {
    "collapsed": false
   },
   "outputs": [
    {
     "name": "stdout",
     "output_type": "stream",
     "text": [
      "[(2013, 308), (2014, 280), (2011, 264), (2012, 257), (2010, 209)]\n",
      "{None: 7,\n",
      " 1933: 1,\n",
      " 1936: 1,\n",
      " 1937: 1,\n",
      " 1940: 1,\n",
      " 1946: 1,\n",
      " 1950: 1,\n",
      " 1951: 3,\n",
      " 1953: 1,\n",
      " 1956: 2,\n",
      " 1959: 1,\n",
      " 1960: 1,\n",
      " 1964: 1,\n",
      " 1967: 2,\n",
      " 1968: 2,\n",
      " 1969: 4,\n",
      " 1970: 6,\n",
      " 1971: 2,\n",
      " 1972: 4,\n",
      " 1974: 4,\n",
      " 1975: 3,\n",
      " 1976: 6,\n",
      " 1977: 4,\n",
      " 1978: 6,\n",
      " 1979: 9,\n",
      " 1980: 14,\n",
      " 1981: 12,\n",
      " 1982: 18,\n",
      " 1983: 19,\n",
      " 1984: 17,\n",
      " 1985: 13,\n",
      " 1986: 21,\n",
      " 1987: 27,\n",
      " 1988: 31,\n",
      " 1989: 29,\n",
      " 1990: 24,\n",
      " 1991: 24,\n",
      " 1992: 28,\n",
      " 1993: 39,\n",
      " 1994: 30,\n",
      " 1995: 51,\n",
      " 1996: 52,\n",
      " 1997: 74,\n",
      " 1998: 84,\n",
      " 1999: 106,\n",
      " 2000: 99,\n",
      " 2001: 108,\n",
      " 2002: 132,\n",
      " 2003: 146,\n",
      " 2004: 161,\n",
      " 2005: 164,\n",
      " 2006: 184,\n",
      " 2007: 190,\n",
      " 2008: 194,\n",
      " 2009: 192,\n",
      " 2010: 209,\n",
      " 2011: 264,\n",
      " 2012: 257,\n",
      " 2013: 308,\n",
      " 2014: 280,\n",
      " 2015: 53}\n"
     ]
    }
   ],
   "source": [
    "# A list comprehension: http://www.diveintopython.net/native_data_types/mapping_lists.html\n",
    "#years = []\n",
    "#for movie in movies:\n",
    "#    years.append(movie['year'])\n",
    "\n",
    "years = [movie['year'] for movie in movies]\n",
    "#print years\n",
    "\n",
    "\n",
    "# https://docs.python.org/2/library/collections.html#collections.Counter\n",
    "from collections import Counter\n",
    "\n",
    "year_counter = Counter()\n",
    "for year in years:\n",
    "    year_counter[year] += 1\n",
    "    \n",
    "#print year_counter\n",
    "print year_counter.most_common(5)    \n",
    "\n",
    "year_dict = dict(year_counter)\n",
    "pprint(year_dict)\n"
   ]
  },
  {
   "cell_type": "markdown",
   "metadata": {},
   "source": [
    "Let's check out the whole distribution"
   ]
  },
  {
   "cell_type": "code",
   "execution_count": null,
   "metadata": {
    "collapsed": false,
    "scrolled": true
   },
   "outputs": [],
   "source": []
  },
  {
   "cell_type": "markdown",
   "metadata": {},
   "source": [
    "Ok, looking at this is like looking at a histogram. (By the way we have 7 None values.) We get a general sense, \n",
    "\n",
    "### but let's make a real histogram\n",
    "http://matplotlib.org/api/pyplot_api.html#matplotlib.pyplot.hist"
   ]
  },
  {
   "cell_type": "code",
   "execution_count": 16,
   "metadata": {
    "collapsed": true
   },
   "outputs": [],
   "source": [
    "%matplotlib inline\n",
    "import matplotlib.pyplot as plt\n",
    "#import seaborn as sns"
   ]
  },
  {
   "cell_type": "code",
   "execution_count": 18,
   "metadata": {
    "collapsed": false
   },
   "outputs": [
    {
     "data": {
      "text/plain": [
       "(array([  4.00000000e+00,   1.00000000e+00,   7.00000000e+00,\n",
       "          3.00000000e+00,   2.00000000e+01,   7.60000000e+01,\n",
       "          1.81000000e+02,   3.82000000e+02,   1.10000000e+03,\n",
       "          1.94700000e+03]),\n",
       " array([ 1933. ,  1941.2,  1949.4,  1957.6,  1965.8,  1974. ,  1982.2,\n",
       "         1990.4,  1998.6,  2006.8,  2015. ]),\n",
       " <a list of 10 Patch objects>)"
      ]
     },
     "execution_count": 18,
     "metadata": {},
     "output_type": "execute_result"
    },
    {
     "data": {
      "image/png": "[encoded data removed]",
      "text/plain": [
       "<matplotlib.figure.Figure at 0x10c1a7190>"
      ]
     },
     "metadata": {},
     "output_type": "display_data"
    }
   ],
   "source": [
    "years = [movie['year'] for movie in movies if movie['year']]\n",
    "plt.hist(years)"
   ]
  },
  {
   "cell_type": "markdown",
   "metadata": {},
   "source": [
    "Whoa! What just happened? We have a weird error. Hmm. It says NoneType in the error. Remember those None values, perhaps they are causing this. Let's remove them and try again."
   ]
  },
  {
   "cell_type": "code",
   "execution_count": 21,
   "metadata": {
    "collapsed": false
   },
   "outputs": [
    {
     "name": "stdout",
     "output_type": "stream",
     "text": [
      "3728 3721\n"
     ]
    }
   ],
   "source": [
    "years = [movie['year'] for movie in movies]\n",
    "years_clean = [movie['year'] for movie in movies if movie['year']]\n",
    "\n",
    "print len(years), len(years_clean)"
   ]
  },
  {
   "cell_type": "code",
   "execution_count": 22,
   "metadata": {
    "collapsed": false
   },
   "outputs": [
    {
     "data": {
      "image/png": "[encoded data removed]",
      "text/plain": [
       "<matplotlib.figure.Figure at 0x10c30ab10>"
      ]
     },
     "metadata": {},
     "output_type": "display_data"
    }
   ],
   "source": [
    "year_histogram = plt.hist(years_clean)\n",
    "title = plt.title(\"Number of movies per year in our dataset\")"
   ]
  },
  {
   "cell_type": "markdown",
   "metadata": {},
   "source": [
    "Let's look at something else, what do we have?"
   ]
  },
  {
   "cell_type": "code",
   "execution_count": 23,
   "metadata": {
    "collapsed": false
   },
   "outputs": [
    {
     "data": {
      "text/plain": [
       "[u'opening_weekend_take',\n",
       " u'release_date_limited',\n",
       " u'title',\n",
       " u'widest_release',\n",
       " u'alt_title',\n",
       " u'mojo_slug',\n",
       " u'worldwide_gross',\n",
       " u'director',\n",
       " u'production_budget',\n",
       " u'year',\n",
       " u'release_date_wide',\n",
       " u'opening_per_theater',\n",
       " u'domestic_gross']"
      ]
     },
     "execution_count": 23,
     "metadata": {},
     "output_type": "execute_result"
    }
   ],
   "source": [
    "movies[0].keys()"
   ]
  },
  {
   "cell_type": "code",
   "execution_count": 24,
   "metadata": {
    "collapsed": false
   },
   "outputs": [
    {
     "name": "stdout",
     "output_type": "stream",
     "text": [
      "[94784201, 66957026, 38178166, 203373, 9213]\n"
     ]
    }
   ],
   "source": [
    "domestic_gross_numbers = [movie['domestic_gross'] for movie in movies \\\n",
    "                          if movie['domestic_gross']]\n",
    "print domestic_gross_numbers[:5]"
   ]
  },
  {
   "cell_type": "code",
   "execution_count": 25,
   "metadata": {
    "collapsed": false
   },
   "outputs": [
    {
     "data": {
      "image/png": "[encoded data removed]",
      "text/plain": [
       "<matplotlib.figure.Figure at 0x10c4771d0>"
      ]
     },
     "metadata": {},
     "output_type": "display_data"
    }
   ],
   "source": [
    "gross_histogram = plt.hist(domestic_gross_numbers)\n",
    "title = plt.title(\"Domestic gross distribution of movies in the dataset\")"
   ]
  },
  {
   "cell_type": "markdown",
   "metadata": {},
   "source": [
    "Can't really see. Super low gross movies dominate. We can see better if we use log scale and look at log(gross) instead"
   ]
  },
  {
   "cell_type": "code",
   "execution_count": 26,
   "metadata": {
    "collapsed": false
   },
   "outputs": [
    {
     "data": {
      "image/png": "[encoded data removed]",
      "text/plain": [
       "<matplotlib.figure.Figure at 0x10c5e3450>"
      ]
     },
     "metadata": {},
     "output_type": "display_data"
    }
   ],
   "source": [
    "gross_histogram = plt.hist(domestic_gross_numbers, log=True)\n",
    "title = plt.title(\"Log(Domestic gross) distribution of movies in the dataset\")"
   ]
  },
  {
   "cell_type": "markdown",
   "metadata": {},
   "source": [
    "How about the length of their names?"
   ]
  },
  {
   "cell_type": "code",
   "execution_count": 27,
   "metadata": {
    "collapsed": false
   },
   "outputs": [
    {
     "data": {
      "text/plain": [
       "<matplotlib.text.Text at 0x10c565690>"
      ]
     },
     "execution_count": 27,
     "metadata": {},
     "output_type": "execute_result"
    },
    {
     "data": {
      "image/png": "[encoded data removed]",
      "text/plain": [
       "<matplotlib.figure.Figure at 0x10c619490>"
      ]
     },
     "metadata": {},
     "output_type": "display_data"
    }
   ],
   "source": [
    "title_lengths = [len(movie['title']) for movie in movies]\n",
    "plt.hist(title_lengths)\n",
    "plt.xlabel(\"Movie title length\")\n",
    "plt.ylabel(\"Number of movies\")"
   ]
  },
  {
   "cell_type": "markdown",
   "metadata": {},
   "source": [
    "Now let's do this with pandas"
   ]
  },
  {
   "cell_type": "code",
   "execution_count": 29,
   "metadata": {
    "collapsed": false
   },
   "outputs": [
    {
     "data": {
      "text/plain": [
       "<matplotlib.axes._subplots.AxesSubplot at 0x10c5b6110>"
      ]
     },
     "execution_count": 29,
     "metadata": {},
     "output_type": "execute_result"
    },
    {
     "data": {
      "image/png": "[encoded data removed]",
      "text/plain": [
       "<matplotlib.figure.Figure at 0x10c364a90>"
      ]
     },
     "metadata": {},
     "output_type": "display_data"
    }
   ],
   "source": [
    "import pandas as pd\n",
    "\n",
    "movies_df = pd.DataFrame(movies)\n",
    "movies_df['year'].hist()"
   ]
  },
  {
   "cell_type": "code",
   "execution_count": 31,
   "metadata": {
    "collapsed": false
   },
   "outputs": [
    {
     "data": {
      "text/plain": [
       "<matplotlib.axes._subplots.AxesSubplot at 0x10c895110>"
      ]
     },
     "execution_count": 31,
     "metadata": {},
     "output_type": "execute_result"
    },
    {
     "data": {
      "image/png": "[encoded data removed]",
      "text/plain": [
       "<matplotlib.figure.Figure at 0x10c885810>"
      ]
     },
     "metadata": {},
     "output_type": "display_data"
    }
   ],
   "source": [
    "recent_movies = movies_df[ movies_df['year'] >= 1990 ]\n",
    "recent_movies['year'].hist(range=(1930, 2015))\n"
   ]
  },
  {
   "cell_type": "code",
   "execution_count": 36,
   "metadata": {
    "collapsed": false
   },
   "outputs": [
    {
     "data": {
      "image/png": "[encoded data removed]",
      "text/plain": [
       "<matplotlib.figure.Figure at 0x10d838110>"
      ]
     },
     "metadata": {},
     "output_type": "display_data"
    },
    {
     "data": {
      "image/png": "[encoded data removed]",
      "text/plain": [
       "<matplotlib.figure.Figure at 0x10da9f750>"
      ]
     },
     "metadata": {},
     "output_type": "display_data"
    }
   ],
   "source": [
    "#boxplot = recent_movies.boxplot(column='year')\n",
    "#boxplot = recent_movies.boxplot(column='domestic_gross')\n",
    "boxplot = recent_movies.boxplot(column='domestic_gross', by='year')\n"
   ]
  },
  {
   "cell_type": "markdown",
   "metadata": {},
   "source": [
    "Ok, this is good but the default size is too small"
   ]
  },
  {
   "cell_type": "code",
   "execution_count": 37,
   "metadata": {
    "collapsed": false
   },
   "outputs": [
    {
     "data": {
      "image/png": "[encoded data removed]",
      "text/plain": [
       "<matplotlib.figure.Figure at 0x10e1ae2d0>"
      ]
     },
     "metadata": {},
     "output_type": "display_data"
    }
   ],
   "source": [
    "boxplot = recent_movies.boxplot(column='domestic_gross', by='year', \n",
    "                                figsize=(15,5), rot=45)\n",
    "y_range = plt.ylim(0,2.5e8)"
   ]
  },
  {
   "cell_type": "code",
   "execution_count": 38,
   "metadata": {
    "collapsed": false
   },
   "outputs": [
    {
     "data": {
      "text/html": [
       "<div style=\"max-height:1000px;max-width:1500px;overflow:auto;\">\n",
       "<table border=\"1\" class=\"dataframe\">\n",
       "  <thead>\n",
       "    <tr style=\"text-align: right;\">\n",
       "      <th></th>\n",
       "      <th>alt_title</th>\n",
       "      <th>director</th>\n",
       "      <th>domestic_gross</th>\n",
       "      <th>mojo_slug</th>\n",
       "      <th>opening_per_theater</th>\n",
       "      <th>opening_weekend_take</th>\n",
       "      <th>production_budget</th>\n",
       "      <th>release_date_limited</th>\n",
       "      <th>release_date_wide</th>\n",
       "      <th>title</th>\n",
       "      <th>widest_release</th>\n",
       "      <th>worldwide_gross</th>\n",
       "      <th>year</th>\n",
       "    </tr>\n",
       "  </thead>\n",
       "  <tbody>\n",
       "    <tr>\n",
       "      <th>0</th>\n",
       "      <td>                10,000 B.C. (2008)</td>\n",
       "      <td> Roland Emmerich</td>\n",
       "      <td> 94784201</td>\n",
       "      <td>               10000bc</td>\n",
       "      <td> 10518</td>\n",
       "      <td> 35867488</td>\n",
       "      <td> 105000000</td>\n",
       "      <td> None</td>\n",
       "      <td> 2008-03-07</td>\n",
       "      <td>                10,000 B.C.</td>\n",
       "      <td> 3454</td>\n",
       "      <td> 269784201</td>\n",
       "      <td> 2008</td>\n",
       "    </tr>\n",
       "    <tr>\n",
       "      <th>1</th>\n",
       "      <td>             102 Dalmatians (2000)</td>\n",
       "      <td>            None</td>\n",
       "      <td> 66957026</td>\n",
       "      <td>         102dalmatians</td>\n",
       "      <td>  7353</td>\n",
       "      <td> 19883351</td>\n",
       "      <td>  85000000</td>\n",
       "      <td> None</td>\n",
       "      <td> 2000-11-22</td>\n",
       "      <td>            102 Dalmatians </td>\n",
       "      <td> 2704</td>\n",
       "      <td> 183611771</td>\n",
       "      <td> 2000</td>\n",
       "    </tr>\n",
       "    <tr>\n",
       "      <th>2</th>\n",
       "      <td> 10 Things I Hate About You (1999)</td>\n",
       "      <td>            None</td>\n",
       "      <td> 38178166</td>\n",
       "      <td> 10thingsihateaboutyou</td>\n",
       "      <td>  3668</td>\n",
       "      <td>  8330681</td>\n",
       "      <td>  30000000</td>\n",
       "      <td> None</td>\n",
       "      <td> 1999-03-31</td>\n",
       "      <td> 10 Things I Hate About You</td>\n",
       "      <td> 2311</td>\n",
       "      <td>  53478166</td>\n",
       "      <td> 1999</td>\n",
       "    </tr>\n",
       "    <tr>\n",
       "      <th>3</th>\n",
       "      <td>                   10 Years (2012)</td>\n",
       "      <td>    Jamie Linden</td>\n",
       "      <td>   203373</td>\n",
       "      <td>               10years</td>\n",
       "      <td>  7569</td>\n",
       "      <td>    22707</td>\n",
       "      <td>       NaN</td>\n",
       "      <td> None</td>\n",
       "      <td> 2012-09-14</td>\n",
       "      <td>                   10 Years</td>\n",
       "      <td>   63</td>\n",
       "      <td>    203373</td>\n",
       "      <td> 2012</td>\n",
       "    </tr>\n",
       "    <tr>\n",
       "      <th>4</th>\n",
       "      <td>                 11 Flowers (2013)</td>\n",
       "      <td>            None</td>\n",
       "      <td>     9213</td>\n",
       "      <td>             11flowers</td>\n",
       "      <td>  1758</td>\n",
       "      <td>     3516</td>\n",
       "      <td>       NaN</td>\n",
       "      <td> None</td>\n",
       "      <td> 2013-02-22</td>\n",
       "      <td>                11 Flowers </td>\n",
       "      <td>    2</td>\n",
       "      <td>       NaN</td>\n",
       "      <td> 2013</td>\n",
       "    </tr>\n",
       "  </tbody>\n",
       "</table>\n",
       "</div>"
      ],
      "text/plain": [
       "                           alt_title         director  domestic_gross  \\\n",
       "0                 10,000 B.C. (2008)  Roland Emmerich        94784201   \n",
       "1              102 Dalmatians (2000)             None        66957026   \n",
       "2  10 Things I Hate About You (1999)             None        38178166   \n",
       "3                    10 Years (2012)     Jamie Linden          203373   \n",
       "4                  11 Flowers (2013)             None            9213   \n",
       "\n",
       "               mojo_slug  opening_per_theater  opening_weekend_take  \\\n",
       "0                10000bc                10518              35867488   \n",
       "1          102dalmatians                 7353              19883351   \n",
       "2  10thingsihateaboutyou                 3668               8330681   \n",
       "3                10years                 7569                 22707   \n",
       "4              11flowers                 1758                  3516   \n",
       "\n",
       "   production_budget release_date_limited release_date_wide  \\\n",
       "0          105000000                 None        2008-03-07   \n",
       "1           85000000                 None        2000-11-22   \n",
       "2           30000000                 None        1999-03-31   \n",
       "3                NaN                 None        2012-09-14   \n",
       "4                NaN                 None        2013-02-22   \n",
       "\n",
       "                        title  widest_release  worldwide_gross  year  \n",
       "0                 10,000 B.C.            3454        269784201  2008  \n",
       "1             102 Dalmatians             2704        183611771  2000  \n",
       "2  10 Things I Hate About You            2311         53478166  1999  \n",
       "3                    10 Years              63           203373  2012  \n",
       "4                 11 Flowers                2              NaN  2013  "
      ]
     },
     "execution_count": 38,
     "metadata": {},
     "output_type": "execute_result"
    }
   ],
   "source": [
    "movies_df.head()"
   ]
  },
  {
   "cell_type": "code",
   "execution_count": 39,
   "metadata": {
    "collapsed": false
   },
   "outputs": [
    {
     "data": {
      "text/html": [
       "<div style=\"max-height:1000px;max-width:1500px;overflow:auto;\">\n",
       "<table border=\"1\" class=\"dataframe\">\n",
       "  <thead>\n",
       "    <tr style=\"text-align: right;\">\n",
       "      <th></th>\n",
       "      <th>domestic_gross</th>\n",
       "      <th>opening_per_theater</th>\n",
       "      <th>opening_weekend_take</th>\n",
       "      <th>production_budget</th>\n",
       "      <th>widest_release</th>\n",
       "      <th>worldwide_gross</th>\n",
       "      <th>year</th>\n",
       "    </tr>\n",
       "  </thead>\n",
       "  <tbody>\n",
       "    <tr>\n",
       "      <th>count</th>\n",
       "      <td> 3.653000e+03</td>\n",
       "      <td>   3548.000000</td>\n",
       "      <td> 3.548000e+03</td>\n",
       "      <td> 1.591000e+03</td>\n",
       "      <td> 3576.000000</td>\n",
       "      <td> 2.821000e+03</td>\n",
       "      <td> 3721.000000</td>\n",
       "    </tr>\n",
       "    <tr>\n",
       "      <th>mean</th>\n",
       "      <td> 3.587710e+07</td>\n",
       "      <td>   7769.070744</td>\n",
       "      <td> 8.919290e+06</td>\n",
       "      <td> 4.594223e+07</td>\n",
       "      <td> 1359.910794</td>\n",
       "      <td> 9.117943e+07</td>\n",
       "      <td> 2004.740124</td>\n",
       "    </tr>\n",
       "    <tr>\n",
       "      <th>std</th>\n",
       "      <td> 5.660351e+07</td>\n",
       "      <td>   8251.101404</td>\n",
       "      <td> 1.403204e+07</td>\n",
       "      <td> 4.056849e+07</td>\n",
       "      <td> 1293.817347</td>\n",
       "      <td> 1.489563e+08</td>\n",
       "      <td>    9.127232</td>\n",
       "    </tr>\n",
       "    <tr>\n",
       "      <th>min</th>\n",
       "      <td> 7.200000e+01</td>\n",
       "      <td>     72.000000</td>\n",
       "      <td> 7.200000e+01</td>\n",
       "      <td> 2.200000e+02</td>\n",
       "      <td>    1.000000</td>\n",
       "      <td> 7.200000e+01</td>\n",
       "      <td> 1933.000000</td>\n",
       "    </tr>\n",
       "    <tr>\n",
       "      <th>25%</th>\n",
       "      <td> 6.353250e+05</td>\n",
       "      <td>   3212.000000</td>\n",
       "      <td> 4.748775e+04</td>\n",
       "      <td> 1.675000e+07</td>\n",
       "      <td>   52.000000</td>\n",
       "      <td> 5.710236e+06</td>\n",
       "      <td> 2001.000000</td>\n",
       "    </tr>\n",
       "    <tr>\n",
       "      <th>50%</th>\n",
       "      <td> 1.323532e+07</td>\n",
       "      <td>   5520.500000</td>\n",
       "      <td> 3.334686e+06</td>\n",
       "      <td> 3.500000e+07</td>\n",
       "      <td> 1074.500000</td>\n",
       "      <td> 3.554776e+07</td>\n",
       "      <td> 2007.000000</td>\n",
       "    </tr>\n",
       "    <tr>\n",
       "      <th>75%</th>\n",
       "      <td> 4.966253e+07</td>\n",
       "      <td>   9463.500000</td>\n",
       "      <td> 1.268750e+07</td>\n",
       "      <td> 6.500000e+07</td>\n",
       "      <td> 2584.250000</td>\n",
       "      <td> 1.166729e+08</td>\n",
       "      <td> 2011.000000</td>\n",
       "    </tr>\n",
       "    <tr>\n",
       "      <th>max</th>\n",
       "      <td> 7.605076e+08</td>\n",
       "      <td> 204230.000000</td>\n",
       "      <td> 1.741446e+08</td>\n",
       "      <td> 2.150000e+08</td>\n",
       "      <td> 4468.000000</td>\n",
       "      <td> 2.787965e+09</td>\n",
       "      <td> 2015.000000</td>\n",
       "    </tr>\n",
       "  </tbody>\n",
       "</table>\n",
       "</div>"
      ],
      "text/plain": [
       "       domestic_gross  opening_per_theater  opening_weekend_take  \\\n",
       "count    3.653000e+03          3548.000000          3.548000e+03   \n",
       "mean     3.587710e+07          7769.070744          8.919290e+06   \n",
       "std      5.660351e+07          8251.101404          1.403204e+07   \n",
       "min      7.200000e+01            72.000000          7.200000e+01   \n",
       "25%      6.353250e+05          3212.000000          4.748775e+04   \n",
       "50%      1.323532e+07          5520.500000          3.334686e+06   \n",
       "75%      4.966253e+07          9463.500000          1.268750e+07   \n",
       "max      7.605076e+08        204230.000000          1.741446e+08   \n",
       "\n",
       "       production_budget  widest_release  worldwide_gross         year  \n",
       "count       1.591000e+03     3576.000000     2.821000e+03  3721.000000  \n",
       "mean        4.594223e+07     1359.910794     9.117943e+07  2004.740124  \n",
       "std         4.056849e+07     1293.817347     1.489563e+08     9.127232  \n",
       "min         2.200000e+02        1.000000     7.200000e+01  1933.000000  \n",
       "25%         1.675000e+07       52.000000     5.710236e+06  2001.000000  \n",
       "50%         3.500000e+07     1074.500000     3.554776e+07  2007.000000  \n",
       "75%         6.500000e+07     2584.250000     1.166729e+08  2011.000000  \n",
       "max         2.150000e+08     4468.000000     2.787965e+09  2015.000000  "
      ]
     },
     "execution_count": 39,
     "metadata": {},
     "output_type": "execute_result"
    }
   ],
   "source": [
    "movies_df.describe()"
   ]
  },
  {
   "cell_type": "code",
   "execution_count": 42,
   "metadata": {
    "collapsed": false
   },
   "outputs": [
    {
     "data": {
      "text/plain": [
       "1591"
      ]
     },
     "execution_count": 42,
     "metadata": {},
     "output_type": "execute_result"
    }
   ],
   "source": [
    "# how many movies left if we drop ones without budget?\n",
    "len(movies_df.production_budget.dropna())"
   ]
  },
  {
   "cell_type": "code",
   "execution_count": 43,
   "metadata": {
    "collapsed": false
   },
   "outputs": [
    {
     "data": {
      "text/plain": [
       "<matplotlib.axes._subplots.AxesSubplot at 0x10cf07450>"
      ]
     },
     "execution_count": 43,
     "metadata": {},
     "output_type": "execute_result"
    },
    {
     "data": {
      "image/png": "[encoded data removed]",
      "text/plain": [
       "<matplotlib.figure.Figure at 0x10d8301d0>"
      ]
     },
     "metadata": {},
     "output_type": "display_data"
    }
   ],
   "source": [
    "# plot opening weekend vs domestic gross\n",
    "movies_df.plot(kind='scatter',\n",
    "               x='opening_weekend_take',\n",
    "               y='domestic_gross')"
   ]
  },
  {
   "cell_type": "code",
   "execution_count": 44,
   "metadata": {
    "collapsed": false
   },
   "outputs": [
    {
     "data": {
      "text/html": [
       "<div style=\"max-height:1000px;max-width:1500px;overflow:auto;\">\n",
       "<table border=\"1\" class=\"dataframe\">\n",
       "  <thead>\n",
       "    <tr style=\"text-align: right;\">\n",
       "      <th></th>\n",
       "      <th>domestic_gross</th>\n",
       "      <th>opening_weekend_take</th>\n",
       "    </tr>\n",
       "  </thead>\n",
       "  <tbody>\n",
       "    <tr>\n",
       "      <th>0</th>\n",
       "      <td> 94784201</td>\n",
       "      <td> 35867488</td>\n",
       "    </tr>\n",
       "    <tr>\n",
       "      <th>1</th>\n",
       "      <td> 66957026</td>\n",
       "      <td> 19883351</td>\n",
       "    </tr>\n",
       "    <tr>\n",
       "      <th>2</th>\n",
       "      <td> 38178166</td>\n",
       "      <td>  8330681</td>\n",
       "    </tr>\n",
       "    <tr>\n",
       "      <th>3</th>\n",
       "      <td>   203373</td>\n",
       "      <td>    22707</td>\n",
       "    </tr>\n",
       "    <tr>\n",
       "      <th>4</th>\n",
       "      <td>     9213</td>\n",
       "      <td>     3516</td>\n",
       "    </tr>\n",
       "  </tbody>\n",
       "</table>\n",
       "</div>"
      ],
      "text/plain": [
       "   domestic_gross  opening_weekend_take\n",
       "0        94784201              35867488\n",
       "1        66957026              19883351\n",
       "2        38178166               8330681\n",
       "3          203373                 22707\n",
       "4            9213                  3516"
      ]
     },
     "execution_count": 44,
     "metadata": {},
     "output_type": "execute_result"
    }
   ],
   "source": [
    "movies_df[['domestic_gross', 'opening_weekend_take']].head()"
   ]
  },
  {
   "cell_type": "code",
   "execution_count": 45,
   "metadata": {
    "collapsed": false
   },
   "outputs": [
    {
     "name": "stdout",
     "output_type": "stream",
     "text": [
      "shape for all data: (3728, 13)\n",
      "shape for only our two columns: (3728, 2)\n",
      "shape after dropping rows with missing data: (3548, 2)\n"
     ]
    }
   ],
   "source": [
    "print 'shape for all data:', movies_df.shape\n",
    "\n",
    "df = movies_df[['domestic_gross', 'opening_weekend_take']]\n",
    "print 'shape for only our two columns:', df.shape\n",
    "\n",
    "df = df.dropna()\n",
    "print 'shape after dropping rows with missing data:', df.shape"
   ]
  },
  {
   "cell_type": "markdown",
   "metadata": {},
   "source": [
    "### Let's do a linear regression"
   ]
  },
  {
   "cell_type": "code",
   "execution_count": 46,
   "metadata": {
    "collapsed": false
   },
   "outputs": [],
   "source": [
    "import statsmodels.api as sm\n",
    "\n",
    "Y = df.domestic_gross\n",
    "X = sm.add_constant(df.opening_weekend_take)\n",
    "\n",
    "linmodel = sm.OLS(Y, X).fit()\n",
    "\n"
   ]
  },
  {
   "cell_type": "code",
   "execution_count": 47,
   "metadata": {
    "collapsed": false
   },
   "outputs": [
    {
     "data": {
      "text/html": [
       "<table class=\"simpletable\">\n",
       "<caption>OLS Regression Results</caption>\n",
       "<tr>\n",
       "  <th>Dep. Variable:</th>     <td>domestic_gross</td>  <th>  R-squared:         </th> <td>   0.729</td> \n",
       "</tr>\n",
       "<tr>\n",
       "  <th>Model:</th>                   <td>OLS</td>       <th>  Adj. R-squared:    </th> <td>   0.729</td> \n",
       "</tr>\n",
       "<tr>\n",
       "  <th>Method:</th>             <td>Least Squares</td>  <th>  F-statistic:       </th> <td>   9522.</td> \n",
       "</tr>\n",
       "<tr>\n",
       "  <th>Date:</th>             <td>Tue, 15 Sep 2015</td> <th>  Prob (F-statistic):</th>  <td>  0.00</td>  \n",
       "</tr>\n",
       "<tr>\n",
       "  <th>Time:</th>                 <td>16:13:43</td>     <th>  Log-Likelihood:    </th> <td> -66088.</td> \n",
       "</tr>\n",
       "<tr>\n",
       "  <th>No. Observations:</th>      <td>  3548</td>      <th>  AIC:               </th> <td>1.322e+05</td>\n",
       "</tr>\n",
       "<tr>\n",
       "  <th>Df Residuals:</th>          <td>  3546</td>      <th>  BIC:               </th> <td>1.322e+05</td>\n",
       "</tr>\n",
       "<tr>\n",
       "  <th>Df Model:</th>              <td>     1</td>      <th>                     </th>     <td> </td>    \n",
       "</tr>\n",
       "<tr>\n",
       "  <th>Covariance Type:</th>      <td>nonrobust</td>    <th>                     </th>     <td> </td>    \n",
       "</tr>\n",
       "</table>\n",
       "<table class=\"simpletable\">\n",
       "<tr>\n",
       "            <td></td>              <th>coef</th>     <th>std err</th>      <th>t</th>      <th>P>|t|</th> <th>[95.0% Conf. Int.]</th> \n",
       "</tr>\n",
       "<tr>\n",
       "  <th>const</th>                <td> 5.397e+06</td> <td> 5.92e+05</td> <td>    9.120</td> <td> 0.000</td> <td> 4.24e+06  6.56e+06</td>\n",
       "</tr>\n",
       "<tr>\n",
       "  <th>opening_weekend_take</th> <td>    3.4734</td> <td>    0.036</td> <td>   97.581</td> <td> 0.000</td> <td>    3.404     3.543</td>\n",
       "</tr>\n",
       "</table>\n",
       "<table class=\"simpletable\">\n",
       "<tr>\n",
       "  <th>Omnibus:</th>       <td>4177.673</td> <th>  Durbin-Watson:     </th>  <td>   1.914</td> \n",
       "</tr>\n",
       "<tr>\n",
       "  <th>Prob(Omnibus):</th>  <td> 0.000</td>  <th>  Jarque-Bera (JB):  </th> <td>873313.507</td>\n",
       "</tr>\n",
       "<tr>\n",
       "  <th>Skew:</th>           <td> 5.909</td>  <th>  Prob(JB):          </th>  <td>    0.00</td> \n",
       "</tr>\n",
       "<tr>\n",
       "  <th>Kurtosis:</th>       <td>78.946</td>  <th>  Cond. No.          </th>  <td>1.97e+07</td> \n",
       "</tr>\n",
       "</table>"
      ],
      "text/plain": [
       "<class 'statsmodels.iolib.summary.Summary'>\n",
       "\"\"\"\n",
       "                            OLS Regression Results                            \n",
       "==============================================================================\n",
       "Dep. Variable:         domestic_gross   R-squared:                       0.729\n",
       "Model:                            OLS   Adj. R-squared:                  0.729\n",
       "Method:                 Least Squares   F-statistic:                     9522.\n",
       "Date:                Tue, 15 Sep 2015   Prob (F-statistic):               0.00\n",
       "Time:                        16:13:43   Log-Likelihood:                -66088.\n",
       "No. Observations:                3548   AIC:                         1.322e+05\n",
       "Df Residuals:                    3546   BIC:                         1.322e+05\n",
       "Df Model:                           1                                         \n",
       "Covariance Type:            nonrobust                                         \n",
       "========================================================================================\n",
       "                           coef    std err          t      P>|t|      [95.0% Conf. Int.]\n",
       "----------------------------------------------------------------------------------------\n",
       "const                 5.397e+06   5.92e+05      9.120      0.000      4.24e+06  6.56e+06\n",
       "opening_weekend_take     3.4734      0.036     97.581      0.000         3.404     3.543\n",
       "==============================================================================\n",
       "Omnibus:                     4177.673   Durbin-Watson:                   1.914\n",
       "Prob(Omnibus):                  0.000   Jarque-Bera (JB):           873313.507\n",
       "Skew:                           5.909   Prob(JB):                         0.00\n",
       "Kurtosis:                      78.946   Cond. No.                     1.97e+07\n",
       "==============================================================================\n",
       "\n",
       "Warnings:\n",
       "[1] Standard Errors assume that the covariance matrix of the errors is correctly specified.\n",
       "[2] The condition number is large, 1.97e+07. This might indicate that there are\n",
       "strong multicollinearity or other numerical problems.\n",
       "\"\"\""
      ]
     },
     "execution_count": 47,
     "metadata": {},
     "output_type": "execute_result"
    }
   ],
   "source": [
    "# tell me about yourself, model.\n",
    "linmodel.summary()"
   ]
  },
  {
   "cell_type": "code",
   "execution_count": 48,
   "metadata": {
    "collapsed": false
   },
   "outputs": [
    {
     "data": {
      "text/plain": [
       "<matplotlib.text.Text at 0x10d39a310>"
      ]
     },
     "execution_count": 48,
     "metadata": {},
     "output_type": "execute_result"
    },
    {
     "data": {
      "image/png": "[encoded data removed]",
      "text/plain": [
       "<matplotlib.figure.Figure at 0x10d387250>"
      ]
     },
     "metadata": {},
     "output_type": "display_data"
    }
   ],
   "source": [
    "plt.scatter(df.opening_weekend_take, df.domestic_gross,\n",
    "           color='gray')\n",
    "predicted_gross = linmodel.predict()\n",
    "plt.plot(df.opening_weekend_take, predicted_gross)\n",
    "\n",
    "plt.title(\"Opening Weekend Based Model for Domestic Gross\")\n",
    "plt.xlabel(\"Opening Weekend Take ($100M)\")\n",
    "plt.ylabel(\"Domestic Gross ($100M)\")"
   ]
  },
  {
   "cell_type": "code",
   "execution_count": null,
   "metadata": {
    "collapsed": false
   },
   "outputs": [],
   "source": [
    "# Mean squared error residuals?\n"
   ]
  },
  {
   "cell_type": "code",
   "execution_count": null,
   "metadata": {
    "collapsed": false
   },
   "outputs": [],
   "source": [
    "\n",
    "\n",
    "plt.title(\"Over/Under Prediction of Gross\")\n",
    "plt.xlabel(\"Actual Domestic Gross ($100M)\")\n",
    "plt.ylabel(\"Predicted Domestic Gross ($100M)\")"
   ]
  },
  {
   "cell_type": "code",
   "execution_count": null,
   "metadata": {
    "collapsed": false
   },
   "outputs": [],
   "source": [
    "\n",
    "\n",
    "\n",
    "plt.title('log fitted values vs residuals')\n",
    "plt.xlabel('log fitted values')\n",
    "plt.ylabel('residuals')"
   ]
  },
  {
   "cell_type": "markdown",
   "metadata": {},
   "source": [
    "### does log transform help?"
   ]
  },
  {
   "cell_type": "code",
   "execution_count": null,
   "metadata": {
    "collapsed": false
   },
   "outputs": [],
   "source": [
    "import numpy as np\n",
    "df = movies_df[['domestic_gross','opening_weekend_take']]\n",
    "\n"
   ]
  },
  {
   "cell_type": "code",
   "execution_count": null,
   "metadata": {
    "collapsed": false
   },
   "outputs": [],
   "source": [
    "df.head()"
   ]
  },
  {
   "cell_type": "code",
   "execution_count": null,
   "metadata": {
    "collapsed": false
   },
   "outputs": [],
   "source": [
    "\n",
    "plt.xlabel('log(opening weekend)')\n",
    "plt.ylabel('log(domestic gross)')"
   ]
  },
  {
   "cell_type": "code",
   "execution_count": null,
   "metadata": {
    "collapsed": false
   },
   "outputs": [],
   "source": [
    "# MODEL IT\n"
   ]
  },
  {
   "cell_type": "code",
   "execution_count": null,
   "metadata": {
    "collapsed": false
   },
   "outputs": [],
   "source": [
    "def residual_plot(model):\n",
    "    ???\n",
    "    \n",
    "residual_plot(linmodel_logs)"
   ]
  },
  {
   "cell_type": "code",
   "execution_count": null,
   "metadata": {
    "collapsed": false
   },
   "outputs": [],
   "source": [
    "movies_df['opening_week2'] = ???\n",
    "movies_df['log_domestic_gross'] = ???\n",
    "movies_df['log_opening_weekend'] = ???\n",
    "movies_df['log_opening_weekend2'] = ???\n",
    "\n",
    "columns = ['domestic_gross','log_domestic_gross','opening_weekend_take',\n",
    "           'opening_week2','log_opening_weekend','log_opening_weekend2']\n",
    "\n",
    "polydf = movies_df[columns].dropna()\n",
    "polydf.head()"
   ]
  },
  {
   "cell_type": "code",
   "execution_count": null,
   "metadata": {
    "collapsed": false
   },
   "outputs": [],
   "source": [
    "import statsmodels.formula.api as smf\n",
    "\n",
    "formula = ???\n",
    "quadmodel = ???\n",
    "quadmodel.summary()"
   ]
  },
  {
   "cell_type": "code",
   "execution_count": null,
   "metadata": {
    "collapsed": false
   },
   "outputs": [],
   "source": [
    "residual_plot(quadmodel)"
   ]
  },
  {
   "cell_type": "markdown",
   "metadata": {},
   "source": [
    "As soon as we have a more solid understanding of how to evaluate/compare different models, this process is figuring out the right model form: Which features, in what functional shapes, interacting how?"
   ]
  }
 ],
 "metadata": {
  "kernelspec": {
   "display_name": "Python 2",
   "language": "python",
   "name": "python2"
  },
  "language_info": {
   "codemirror_mode": {
    "name": "ipython",
    "version": 2
   },
   "file_extension": ".py",
   "mimetype": "text/x-python",
   "name": "python",
   "nbconvert_exporter": "python",
   "pygments_lexer": "ipython2",
   "version": "2.7.9"
  }
 },
 "nbformat": 4,
 "nbformat_minor": 0
}
