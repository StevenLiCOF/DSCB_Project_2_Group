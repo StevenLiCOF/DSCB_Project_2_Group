{
 "cells": [
  {
   "cell_type": "markdown",
   "metadata": {},
   "source": [
    "# Read the Data"
   ]
  },
  {
   "cell_type": "code",
   "execution_count": 1,
   "metadata": {
    "collapsed": false
   },
   "outputs": [
    {
     "name": "stdout",
     "output_type": "stream",
     "text": [
      "3728\n",
      "[{u'alt_title': u'10,000 B.C. (2008)',\n",
      "  u'director': u'Roland Emmerich',\n",
      "  u'domestic_gross': 94784201,\n",
      "  u'mojo_slug': u'10000bc',\n",
      "  u'opening_per_theater': 10518,\n",
      "  u'opening_weekend_take': 35867488,\n",
      "  u'production_budget': 105000000,\n",
      "  u'release_date_limited': None,\n",
      "  u'release_date_wide': u'2008-03-07',\n",
      "  u'title': u'10,000 B.C.',\n",
      "  u'widest_release': 3454,\n",
      "  u'worldwide_gross': 269784201,\n",
      "  u'year': 2008},\n",
      " {u'alt_title': u'102 Dalmatians (2000)',\n",
      "  u'director': None,\n",
      "  u'domestic_gross': 66957026,\n",
      "  u'mojo_slug': u'102dalmatians',\n",
      "  u'opening_per_theater': 7353,\n",
      "  u'opening_weekend_take': 19883351,\n",
      "  u'production_budget': 85000000,\n",
      "  u'release_date_limited': None,\n",
      "  u'release_date_wide': u'2000-11-22',\n",
      "  u'title': u'102 Dalmatians ',\n",
      "  u'widest_release': 2704,\n",
      "  u'worldwide_gross': 183611771,\n",
      "  u'year': 2000},\n",
      " {u'alt_title': u'10 Things I Hate About You (1999)',\n",
      "  u'director': None,\n",
      "  u'domestic_gross': 38178166,\n",
      "  u'mojo_slug': u'10thingsihateaboutyou',\n",
      "  u'opening_per_theater': 3668,\n",
      "  u'opening_weekend_take': 8330681,\n",
      "  u'production_budget': 30000000,\n",
      "  u'release_date_limited': None,\n",
      "  u'release_date_wide': u'1999-03-31',\n",
      "  u'title': u'10 Things I Hate About You',\n",
      "  u'widest_release': 2311,\n",
      "  u'worldwide_gross': 53478166,\n",
      "  u'year': 1999}]\n"
     ]
    }
   ],
   "source": [
    "import os\n",
    "import json\n",
    "from pprint import pprint\n",
    "\n",
    "# READ THE DATA\n",
    "DATA_DIR = os.path.join('..', 'project1', 'data','boxofficemojo') \n",
    "movies = []\n",
    "for movie_file_name in os.listdir(DATA_DIR):\n",
    "    movie_path = os.path.join(DATA_DIR, movie_file_name)\n",
    "    with open(movie_path, 'r') as infile:\n",
    "        movies.append(json.load(infile))\n",
    "\n",
    "print len(movies)\n",
    "pprint(movies[:3])"
   ]
  },
  {
   "cell_type": "markdown",
   "metadata": {},
   "source": [
    "# Exploratory Data Analysis (EDA)\n",
    "\n",
    "### What years are the movies from?"
   ]
  },
  {
   "cell_type": "code",
   "execution_count": null,
   "metadata": {
    "collapsed": false
   },
   "outputs": [],
   "source": [
    "# A list comprehension: http://www.diveintopython.net/native_data_types/mapping_lists.html\n",
    "\n",
    "\n",
    "# https://docs.python.org/2/library/collections.html#collections.Counter\n",
    "\n",
    "\n",
    "    \n"
   ]
  },
  {
   "cell_type": "markdown",
   "metadata": {},
   "source": [
    "Let's check out the whole distribution"
   ]
  },
  {
   "cell_type": "code",
   "execution_count": null,
   "metadata": {
    "collapsed": false,
    "scrolled": true
   },
   "outputs": [],
   "source": []
  },
  {
   "cell_type": "markdown",
   "metadata": {},
   "source": [
    "Ok, looking at this is like looking at a histogram. (By the way we have 7 None values.) We get a general sense, \n",
    "\n",
    "### but let's make a real histogram\n",
    "http://matplotlib.org/api/pyplot_api.html#matplotlib.pyplot.hist"
   ]
  },
  {
   "cell_type": "code",
   "execution_count": null,
   "metadata": {
    "collapsed": true
   },
   "outputs": [],
   "source": [
    "%matplotlib inline\n",
    "import matplotlib.pyplot as plt\n",
    "import seaborn as sns"
   ]
  },
  {
   "cell_type": "code",
   "execution_count": null,
   "metadata": {
    "collapsed": false
   },
   "outputs": [],
   "source": []
  },
  {
   "cell_type": "markdown",
   "metadata": {},
   "source": [
    "Whoa! What just happened? We have a weird error. Hmm. It says NoneType in the error. Remember those None values, perhaps they are causing this. Let's remove them and try again."
   ]
  },
  {
   "cell_type": "code",
   "execution_count": null,
   "metadata": {
    "collapsed": false
   },
   "outputs": [],
   "source": [
    "movie_years_clean = ???\n",
    "\n",
    "print len(movie_years), len(movie_years_clean)"
   ]
  },
  {
   "cell_type": "code",
   "execution_count": null,
   "metadata": {
    "collapsed": false
   },
   "outputs": [],
   "source": [
    "year_histogram = ???\n",
    "title = ???"
   ]
  },
  {
   "cell_type": "markdown",
   "metadata": {},
   "source": [
    "Let's look at something else, what do we have?"
   ]
  },
  {
   "cell_type": "code",
   "execution_count": null,
   "metadata": {
    "collapsed": false
   },
   "outputs": [],
   "source": [
    "movies[0].keys()"
   ]
  },
  {
   "cell_type": "code",
   "execution_count": null,
   "metadata": {
    "collapsed": false
   },
   "outputs": [],
   "source": [
    "domestic_gross_numbers = ???\n",
    "print domestic_gross_numbers[:5]"
   ]
  },
  {
   "cell_type": "code",
   "execution_count": null,
   "metadata": {
    "collapsed": false
   },
   "outputs": [],
   "source": [
    "gross_histogram = plt.hist(domestic_gross_numbers)\n",
    "title = plt.title(\"Domestic gross distribution of movies in the dataset\")"
   ]
  },
  {
   "cell_type": "markdown",
   "metadata": {},
   "source": [
    "Can't really see. Super low gross movies dominate. We can see better if we use log scale and look at log(gross) instead"
   ]
  },
  {
   "cell_type": "code",
   "execution_count": null,
   "metadata": {
    "collapsed": false
   },
   "outputs": [],
   "source": [
    "gross_histogram = plt.hist(domestic_gross_numbers, ???)\n",
    "title = plt.title(\"Log(Domestic gross) distribution of movies in the dataset\")"
   ]
  },
  {
   "cell_type": "markdown",
   "metadata": {},
   "source": [
    "How about the length of their names?"
   ]
  },
  {
   "cell_type": "code",
   "execution_count": null,
   "metadata": {
    "collapsed": false
   },
   "outputs": [],
   "source": [
    "title_lengths = ???\n",
    "\n",
    "plt.xlabel(\"Movie title length\")\n",
    "plt.ylabel(\"Number of movies\")"
   ]
  },
  {
   "cell_type": "markdown",
   "metadata": {},
   "source": [
    "Now let's do this with pandas"
   ]
  },
  {
   "cell_type": "code",
   "execution_count": null,
   "metadata": {
    "collapsed": false
   },
   "outputs": [],
   "source": [
    "import pandas as pd\n",
    "\n",
    "movies_df = ???\n"
   ]
  },
  {
   "cell_type": "code",
   "execution_count": null,
   "metadata": {
    "collapsed": false
   },
   "outputs": [],
   "source": [
    "recent_movies = ???\n"
   ]
  },
  {
   "cell_type": "code",
   "execution_count": null,
   "metadata": {
    "collapsed": false
   },
   "outputs": [],
   "source": [
    "boxplot = recent_movies.boxplot(column='year')\n"
   ]
  },
  {
   "cell_type": "markdown",
   "metadata": {},
   "source": [
    "Ok, this is good but the default size is too small"
   ]
  },
  {
   "cell_type": "code",
   "execution_count": null,
   "metadata": {
    "collapsed": false
   },
   "outputs": [],
   "source": [
    "boxplot = recent_movies.boxplot(column='domestic_gross', by='year', figsize=(15,5), rot=45)\n",
    "y_range = plt.ylim(0,2.5e8)"
   ]
  },
  {
   "cell_type": "code",
   "execution_count": null,
   "metadata": {
    "collapsed": false
   },
   "outputs": [],
   "source": [
    "movies_df.head()"
   ]
  },
  {
   "cell_type": "code",
   "execution_count": null,
   "metadata": {
    "collapsed": false
   },
   "outputs": [],
   "source": [
    "movies_df.describe()"
   ]
  },
  {
   "cell_type": "code",
   "execution_count": null,
   "metadata": {
    "collapsed": false
   },
   "outputs": [],
   "source": [
    "# how many movies left if we drop ones without budget?\n"
   ]
  },
  {
   "cell_type": "code",
   "execution_count": null,
   "metadata": {
    "collapsed": false
   },
   "outputs": [],
   "source": [
    "# plot opening weekend vs domestic gross\n"
   ]
  },
  {
   "cell_type": "code",
   "execution_count": null,
   "metadata": {
    "collapsed": false
   },
   "outputs": [],
   "source": [
    "movies_df[['domestic_gross', 'opening_weekend_take']].head()"
   ]
  },
  {
   "cell_type": "code",
   "execution_count": null,
   "metadata": {
    "collapsed": false
   },
   "outputs": [],
   "source": [
    "print 'shape for all data:', ???\n",
    "\n",
    "df = movies_df[['domestic_gross', 'opening_weekend_take']]\n",
    "print 'shape for only our two columns:', ??\n",
    "\n",
    "df = df.dropna()\n",
    "print 'shape after dropping rows with missing data:', ???"
   ]
  },
  {
   "cell_type": "markdown",
   "metadata": {},
   "source": [
    "### Let's do a linear regression"
   ]
  },
  {
   "cell_type": "code",
   "execution_count": null,
   "metadata": {
    "collapsed": false
   },
   "outputs": [],
   "source": [
    "import statsmodels.api as sm\n",
    "\n"
   ]
  },
  {
   "cell_type": "code",
   "execution_count": null,
   "metadata": {
    "collapsed": false
   },
   "outputs": [],
   "source": [
    "# tell me about yourself, model.\n"
   ]
  },
  {
   "cell_type": "code",
   "execution_count": null,
   "metadata": {
    "collapsed": false
   },
   "outputs": [],
   "source": [
    "\n",
    "\n",
    "plt.title(\"Opening Weekend Based Model for Domestic Gross\")\n",
    "plt.xlabel(\"Opening Weekend Take ($100M)\")\n",
    "plt.ylabel(\"Domestic Gross ($100M)\")"
   ]
  },
  {
   "cell_type": "code",
   "execution_count": null,
   "metadata": {
    "collapsed": false
   },
   "outputs": [],
   "source": [
    "# Mean squared error residuals?\n"
   ]
  },
  {
   "cell_type": "code",
   "execution_count": null,
   "metadata": {
    "collapsed": false
   },
   "outputs": [],
   "source": [
    "\n",
    "\n",
    "plt.title(\"Over/Under Prediction of Gross\")\n",
    "plt.xlabel(\"Actual Domestic Gross ($100M)\")\n",
    "plt.ylabel(\"Predicted Domestic Gross ($100M)\")"
   ]
  },
  {
   "cell_type": "code",
   "execution_count": null,
   "metadata": {
    "collapsed": false
   },
   "outputs": [],
   "source": [
    "\n",
    "\n",
    "\n",
    "plt.title('log fitted values vs residuals')\n",
    "plt.xlabel('log fitted values')\n",
    "plt.ylabel('residuals')"
   ]
  },
  {
   "cell_type": "markdown",
   "metadata": {},
   "source": [
    "### does log transform help?"
   ]
  },
  {
   "cell_type": "code",
   "execution_count": null,
   "metadata": {
    "collapsed": false
   },
   "outputs": [],
   "source": [
    "import numpy as np\n",
    "df = movies_df[['domestic_gross','opening_weekend_take']]\n",
    "\n"
   ]
  },
  {
   "cell_type": "code",
   "execution_count": null,
   "metadata": {
    "collapsed": false
   },
   "outputs": [],
   "source": [
    "df.head()"
   ]
  },
  {
   "cell_type": "code",
   "execution_count": null,
   "metadata": {
    "collapsed": false
   },
   "outputs": [],
   "source": [
    "\n",
    "plt.xlabel('log(opening weekend)')\n",
    "plt.ylabel('log(domestic gross)')"
   ]
  },
  {
   "cell_type": "code",
   "execution_count": null,
   "metadata": {
    "collapsed": false
   },
   "outputs": [],
   "source": [
    "# MODEL IT\n"
   ]
  },
  {
   "cell_type": "code",
   "execution_count": null,
   "metadata": {
    "collapsed": false
   },
   "outputs": [],
   "source": [
    "def residual_plot(model):\n",
    "    ???\n",
    "    \n",
    "residual_plot(linmodel_logs)"
   ]
  },
  {
   "cell_type": "code",
   "execution_count": null,
   "metadata": {
    "collapsed": false
   },
   "outputs": [],
   "source": [
    "movies_df['opening_week2'] = ???\n",
    "movies_df['log_domestic_gross'] = ???\n",
    "movies_df['log_opening_weekend'] = ???\n",
    "movies_df['log_opening_weekend2'] = ???\n",
    "\n",
    "columns = ['domestic_gross','log_domestic_gross','opening_weekend_take',\n",
    "           'opening_week2','log_opening_weekend','log_opening_weekend2']\n",
    "\n",
    "polydf = movies_df[columns].dropna()\n",
    "polydf.head()"
   ]
  },
  {
   "cell_type": "code",
   "execution_count": null,
   "metadata": {
    "collapsed": false
   },
   "outputs": [],
   "source": [
    "import statsmodels.formula.api as smf\n",
    "\n",
    "formula = ???\n",
    "quadmodel = ???\n",
    "quadmodel.summary()"
   ]
  },
  {
   "cell_type": "code",
   "execution_count": null,
   "metadata": {
    "collapsed": false
   },
   "outputs": [],
   "source": [
    "residual_plot(quadmodel)"
   ]
  },
  {
   "cell_type": "markdown",
   "metadata": {},
   "source": [
    "As soon as we have a more solid understanding of how to evaluate/compare different models, this process is figuring out the right model form: Which features, in what functional shapes, interacting how?"
   ]
  }
 ],
 "metadata": {
  "kernelspec": {
   "display_name": "Python 2",
   "language": "python",
   "name": "python2"
  },
  "language_info": {
   "codemirror_mode": {
    "name": "ipython",
    "version": 2
   },
   "file_extension": ".py",
   "mimetype": "text/x-python",
   "name": "python",
   "nbconvert_exporter": "python",
   "pygments_lexer": "ipython2",
   "version": "2.7.9"
  }
 },
 "nbformat": 4,
 "nbformat_minor": 0
}
